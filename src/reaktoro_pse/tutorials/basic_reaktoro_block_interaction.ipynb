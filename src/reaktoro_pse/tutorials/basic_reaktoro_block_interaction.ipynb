{
 "cells": [
  {
   "cell_type": "markdown",
   "metadata": {},
   "source": [
    "# Tutorial on interacting with ReaktoroBlock\n",
    "Demonstration of basic Reaktoro Block usage.\n",
    "\n",
    "## Dependencies\n",
    "* Python - Programming language\n",
    "* Pyomo - Python package for equation-oriented modeling\n",
    "* IDAES - Python package extending Pyomo for flowsheet modeling\n",
    "* cyipopt - Solver necessary for use with gray box models\n",
    "* Reaktoro-pse - Python package for building Reaktoro gray box models\n",
    "* WaterTAP - Unit models"
   ]
  },
  {
   "cell_type": "markdown",
   "metadata": {},
   "source": [
    "## Demonstration structure \n",
    "* Background on speciation and Reaktoro-pse philosophy \n",
    "* Setting up basic speciation block and calculating properties for a sea water composition\n",
    "    * Demonstrate key configuration options\n",
    "    * Key display options\n",
    "    * How to adjust apparent species to achieve thermodynamic zero charge\n",
    "    * Adding chemical to adjust pH\n"
   ]
  },
  {
   "cell_type": "markdown",
   "metadata": {},
   "source": [
    "## Reaktoro-PSE API and structure \n",
    "Reaktoro-pse is a wrapper for enabling use of [Reaktoro](https://reaktoro.org/) as a [Graybox model](https://pyomo.readthedocs.io/en/stable/contributed_packages/pynumero/pynumero.interfaces.external_grey_box_model.html) in IDAES compatible modeling platforms such as WaterTAP. This is not a replacement for Reaktoro or higher level API for Reaktoro. \n",
    "\n",
    "The general objective is to provide a structure that enables user to automatically build Reaktoro Graybox model by specifying:\n",
    "\n",
    "* Input ion composition (apparent  or exact species)\n",
    "* System temperature, pressure, pH, and charge neutrality\n",
    "* Rekatoro databases and activity models\n",
    "* Outputs supported by Reaktoro and custom outputs built using Reaktoro database information and outputs \n",
    "\n",
    "The general API structure is shown in Figure bellow. The figure shows the type of inputs and outputs and how they are handled by core api to configure Reaktoro Graybox model. "
   ]
  },
  {
   "cell_type": "markdown",
   "metadata": {},
   "source": [
    "<img src=\"reaktoro_pse_api.png\" width=\"1000\" height=\"650\">"
   ]
  },
  {
   "cell_type": "markdown",
   "metadata": {},
   "source": [
    "Reaktoro-pse supports all available databases and activity models provided by Reaktoro:\n",
    "* Please refer here for information on [databases](https://reaktoro.org/tutorials/basics/loading-databases.html) (all are supported) \n",
    "* Please refer here for information on [activity models](https://reaktoro.org/tutorials/basics/specifying-activity-models.html) (all are supported, included chain operations, or passing in pre-configured activity models) \n",
    "\n",
    "Reaktoro-pse supports all properties that provide as single floating point or real value as an output from chemical and aqueous properties: \n",
    "* [Chemical properties](https://reaktoro.org/api/classReaktoro_1_1ChemicalProps.html)\n",
    "* [Aqueous properties](https://reaktoro.org/api/classReaktoro_1_1AqueousProps.html)\n",
    "* Pyomo build properties, which are custom properties built in Pyomo that use chemical properties or aqueous properties "
   ]
  },
  {
   "cell_type": "markdown",
   "metadata": {},
   "source": [
    "## ReaktoroBlock builds Reaktoro Graybox using standard IDAES StateBlock methods\n",
    "\n",
    "The ReaktoroBlock automates construction of reaktoro Graybox as a IDAES [StateBlock](https://idaes-pse.readthedocs.io/en/stable/explanations/components/property_package/state_block.html), providing range of configuration of options to simplify performing equilibrium chemistry calculations:\n",
    "\n",
    "* Enables construction of speciation block and propagation of exact spetiation to property block to enable chemistry modification\n",
    "* Supports indexing \n",
    "* Provides options to configure Reaktoro property block (and if constructed speciation block) \n",
    "* Uses core api functionality to automatically scale input and output variables and constraints if user does not provide any\n",
    "* Automatically scales gray box jacobian \n",
    "* Provides defaults to simplify configuration and usage for typical calculations \n",
    "\n",
    "**Minimal configuration options required for RreaktoroBlock:**\n",
    "* Database and database file selection from Reaktoro\n",
    "* Activity models for phases being considered from Reaktoro\n",
    "* Input apparent or exact species mol or mass flows (**concentrations are not supported!**)\n",
    "* If speciation block is needed (if exact speciation is not provided then generally yes)\n",
    "* System states (temperature, pressure, or pH, unless they are being solved for)\n",
    "* Outputs of interest "
   ]
  },
  {
   "cell_type": "markdown",
   "metadata": {},
   "source": [
    "### Getting basic properties from ReaktoroBlock\n",
    "<img src=\"direct_prop.png\" width=\"800\" height=\"300\">"
   ]
  },
  {
   "cell_type": "markdown",
   "metadata": {},
   "source": [
    "## Import needed modules"
   ]
  },
  {
   "cell_type": "code",
   "execution_count": 1,
   "metadata": {},
   "outputs": [],
   "source": [
    "## Import core components\n",
    "# Pyomo core components\n",
    "from pyomo.environ import (\n",
    "    Var,\n",
    "    Constraint,\n",
    "    ConcreteModel,\n",
    "    Block,\n",
    "    assert_optimal_termination,\n",
    "    units as pyunits,\n",
    ")\n",
    "\n",
    "# Ideas core components\n",
    "from idaes.core import FlowsheetBlock\n",
    "from idaes.core.util.scaling import (\n",
    "    calculate_scaling_factors,\n",
    "    set_scaling_factor,\n",
    "    constraint_scaling_transform,\n",
    ")\n",
    "\n",
    "from idaes.core.util.model_statistics import degrees_of_freedom\n",
    "from watertap.core.solvers import get_solver\n",
    "\n",
    "from pyomo.util.calc_var_value import calculate_variable_from_constraint\n",
    "\n",
    "# WaterTAP core components\n",
    "import watertap.property_models.NaCl_prop_pack as properties\n",
    "\n",
    "# Import reaktoro-pse and reaktoro\n",
    "from reaktoro_pse.reaktoro_block import ReaktoroBlock\n",
    "import reaktoro"
   ]
  },
  {
   "cell_type": "markdown",
   "metadata": {},
   "source": [
    "Define a feed comopostion, here we use seawater"
   ]
  },
  {
   "cell_type": "code",
   "execution_count": 2,
   "metadata": {},
   "outputs": [],
   "source": [
    "\"\"\"This a typical composition of sea water with ion concentration in mg/L and pH\"\"\"\n",
    "\n",
    "sea_water_composition = {\n",
    "    \"Na\": 10556,\n",
    "    \"K\": 380,\n",
    "    \"Ca\": 400,\n",
    "    \"Mg\": 1262,\n",
    "    \"Cl\": 17000,  # this is lower then typical to emulate a feed that was not charge balanced\n",
    "    \"SO4\": 2649,\n",
    "    \"HCO3\": 140,\n",
    "}\n",
    "sea_water_ph = 7.56"
   ]
  },
  {
   "cell_type": "markdown",
   "metadata": {},
   "source": [
    "### Define standard Pyomo model and WaterTAP property package"
   ]
  },
  {
   "cell_type": "code",
   "execution_count": 3,
   "metadata": {},
   "outputs": [],
   "source": [
    "m = ConcreteModel()\n",
    "# create IDAES flowsheet\n",
    "m.fs = FlowsheetBlock(dynamic=False)"
   ]
  },
  {
   "cell_type": "markdown",
   "metadata": {},
   "source": [
    "### Define pyomo variables for sea_water state, composition, and properties of interest"
   ]
  },
  {
   "cell_type": "code",
   "execution_count": 4,
   "metadata": {},
   "outputs": [],
   "source": [
    "\"\"\" build block for holding sea water properties\"\"\"\n",
    "\n",
    "m.fs.sea_water = Block()\n",
    "\"\"\"temperature\"\"\"\n",
    "m.fs.sea_water.temperature = Var(initialize=293, bounds=(0, 300), units=pyunits.K)\n",
    "m.fs.sea_water.temperature.fix()\n",
    "set_scaling_factor(m.fs.sea_water.temperature, 1 / 293)\n",
    "\"\"\"pressure\"\"\"\n",
    "m.fs.sea_water.pressure = Var(initialize=1e5, units=pyunits.Pa)\n",
    "m.fs.sea_water.pressure.fix()\n",
    "set_scaling_factor(m.fs.sea_water.pressure, 1 / 1e5)\n",
    "\"\"\"pH\"\"\"\n",
    "m.fs.sea_water.pH = Var(initialize=sea_water_ph)\n",
    "m.fs.sea_water.pH.fix()\n",
    "set_scaling_factor(m.fs.sea_water.pH, 1)"
   ]
  },
  {
   "cell_type": "markdown",
   "metadata": {},
   "source": [
    "Define composition and mass flows. ReaktoroBlock requires mass flows or mol flows as input for composition"
   ]
  },
  {
   "cell_type": "code",
   "execution_count": 5,
   "metadata": {},
   "outputs": [],
   "source": [
    "\"\"\"Ions\"\"\"\n",
    "\n",
    "ions = list(sea_water_composition.keys())\n",
    "\n",
    "\"\"\"Ions concentration variable\"\"\"\n",
    "m.fs.sea_water.species_concentrations = Var(\n",
    "    ions, initialize=1, units=pyunits.mg / pyunits.L\n",
    ")\n",
    "\n",
    "\"\"\"Mass flows of all species, including water\"\"\"\n",
    "ions.append(\"H2O\")\n",
    "m.fs.sea_water.species_mass_flow = Var(ions, initialize=1, units=pyunits.kg / pyunits.s)"
   ]
  },
  {
   "cell_type": "markdown",
   "metadata": {},
   "source": [
    "Create output properties variables"
   ]
  },
  {
   "cell_type": "code",
   "execution_count": 6,
   "metadata": {},
   "outputs": [],
   "source": [
    "\"\"\"Charge neutrality\"\"\"\n",
    "\n",
    "m.fs.sea_water.charge = Var(initialize=0)\n",
    "set_scaling_factor(m.fs.sea_water.charge, 1e8)\n",
    "\n",
    "\"\"\"Solution density\"\"\"\n",
    "m.fs.sea_water.density = Var(initialize=1000, units=pyunits.kg / pyunits.m**3)\n",
    "set_scaling_factor(m.fs.sea_water.density, 1e-3)\n",
    "\n",
    "\"\"\"Osmotic pressure\"\"\"\n",
    "m.fs.sea_water.osmotic_pressure = Var(initialize=1, units=pyunits.Pa)\n",
    "set_scaling_factor(m.fs.sea_water.osmotic_pressure, 1e-5)"
   ]
  },
  {
   "cell_type": "markdown",
   "metadata": {},
   "source": [
    "Build constraints for calculation of mass flows"
   ]
  },
  {
   "cell_type": "code",
   "execution_count": 7,
   "metadata": {},
   "outputs": [],
   "source": [
    "\"\"\"Write constraints to convert concentration to mass flows\"\"\"\n",
    "\n",
    "@m.fs.sea_water.Constraint(list(m.fs.sea_water.species_concentrations.keys()))\n",
    "def eq_sea_water_species_mass_flow(fs, ion):\n",
    "    \"\"\"calculate mass flow based on density\"\"\"\n",
    "    return m.fs.sea_water.species_mass_flow[ion] == pyunits.convert(\n",
    "        m.fs.sea_water.species_concentrations[ion]\n",
    "        * m.fs.sea_water.species_mass_flow[\"H2O\"]\n",
    "        / m.fs.sea_water.density,\n",
    "        to_units=pyunits.kg / pyunits.s,\n",
    "    )"
   ]
  },
  {
   "cell_type": "markdown",
   "metadata": {},
   "source": [
    "### Put all outputs into a single dictionary for use in ReaktoroBlock\n",
    "Note how we defined \"speciesAmount\":True in dict, this will also return all true species based on provided database and apparent species"
   ]
  },
  {
   "cell_type": "code",
   "execution_count": 8,
   "metadata": {},
   "outputs": [],
   "source": [
    "\"\"\"We need to define an output dictionary with our properties - this can also be an Pyomo IndexedVar please check examples in examples folder for how to use IndexedVars as outputs\"\"\"\n",
    "\n",
    "m.fs.sea_water.outputs = {\n",
    "    (\n",
    "        \"osmoticPressure\",\n",
    "        \"H2O\",\n",
    "    ): m.fs.sea_water.osmotic_pressure,  # not how the second key is the water, we can get osmotic pressure for different components in the system\n",
    "    (\"density\", None): m.fs.sea_water.density,\n",
    "    (\"charge\", None): m.fs.sea_water.charge,\n",
    "    \"speciesAmount\": True,\n",
    "}  # - this will force reaktor to return exact speciation with all species"
   ]
  },
  {
   "cell_type": "markdown",
   "metadata": {},
   "source": [
    "### Configure ReaktoroBlock\n",
    "We choose PhreeqC Pitzer database is its a good choice for high salinity feeds like sea water. \n",
    "For comparison of PhreeqC data base following paper is a good reference: https://doi.org/10.1016/j.earscirev.2021.103888 "
   ]
  },
  {
   "cell_type": "code",
   "execution_count": 9,
   "metadata": {},
   "outputs": [
    {
     "name": "stdout",
     "output_type": "stream",
     "text": [
      "2024-09-12 19:37:54 [INFO] idaes.reaktoro_pse.core.reaktoro_inputs: Exact speciation is not provided! Fixing aqueous solvent and, excluding H\n",
      "2024-09-12 19:37:54 [INFO] idaes.reaktoro_pse.core.reaktoro_inputs: Exact speciation is not provided! Fixing aqueous solvent and, excluding O\n"
     ]
    },
    {
     "name": "stdout",
     "output_type": "stream",
     "text": [
      "2024-09-12 19:37:55 [INFO] idaes.reaktoro_pse.core.reaktoro_gray_box: RKT gray box using BFGS hessian type\n",
      "2024-09-12 19:37:55 [ERROR] idaes.core.base.process_block: Failure in build: fs.sea_water.eq_reaktoro_properties\n",
      "Traceback (most recent call last):\n",
      "  File \"d:\\Software\\miniconda\\envs\\reaktoro-pse-dev\\Lib\\site-packages\\idaes\\core\\base\\process_block.py\", line 41, in _rule_default\n",
      "    b.build()\n",
      "  File \"D:\\github\\reaktoro-pse\\src\\reaktoro_pse\\reaktoro_block.py\", line 262, in build\n",
      "    self.build_gray_box(self)\n",
      "  File \"D:\\github\\reaktoro-pse\\src\\reaktoro_pse\\reaktoro_block.py\", line 650, in build_gray_box\n",
      "    block.rkt_block_builder.build_reaktoro_block()\n",
      "  File \"D:\\github\\reaktoro-pse\\src\\reaktoro_pse\\core\\reaktoro_block_builder.py\", line 64, in build_reaktoro_block\n",
      "    self.build_output_constraints()\n",
      "  File \"D:\\github\\reaktoro-pse\\src\\reaktoro_pse\\core\\reaktoro_block_builder.py\", line 180, in build_output_constraints\n",
      "    self.block.outputs = Var(new_output_vars.keys(), initialize=1)\n",
      "                         ^^^\n",
      "NameError: name 'Var' is not defined\n",
      "ERROR: Constructing component 'fs.sea_water.eq_reaktoro_properties' from\n",
      "data=None failed:\n",
      "        NameError: name 'Var' is not defined\n"
     ]
    },
    {
     "ename": "NameError",
     "evalue": "name 'Var' is not defined",
     "output_type": "error",
     "traceback": [
      "\u001b[1;31m---------------------------------------------------------------------------\u001b[0m",
      "\u001b[1;31mNameError\u001b[0m                                 Traceback (most recent call last)",
      "Cell \u001b[1;32mIn[9], line 1\u001b[0m\n\u001b[1;32m----> 1\u001b[0m m\u001b[38;5;241m.\u001b[39mfs\u001b[38;5;241m.\u001b[39msea_water\u001b[38;5;241m.\u001b[39meq_reaktoro_properties \u001b[38;5;241m=\u001b[39m ReaktoroBlock(\n\u001b[0;32m      2\u001b[0m     system_state\u001b[38;5;241m=\u001b[39m{\n\u001b[0;32m      3\u001b[0m         \u001b[38;5;124m\"\u001b[39m\u001b[38;5;124mtemperature\u001b[39m\u001b[38;5;124m\"\u001b[39m: m\u001b[38;5;241m.\u001b[39mfs\u001b[38;5;241m.\u001b[39msea_water\u001b[38;5;241m.\u001b[39mtemperature,\n\u001b[0;32m      4\u001b[0m         \u001b[38;5;124m\"\u001b[39m\u001b[38;5;124mpressure\u001b[39m\u001b[38;5;124m\"\u001b[39m: m\u001b[38;5;241m.\u001b[39mfs\u001b[38;5;241m.\u001b[39msea_water\u001b[38;5;241m.\u001b[39mpressure,\n\u001b[0;32m      5\u001b[0m         \u001b[38;5;124m\"\u001b[39m\u001b[38;5;124mpH\u001b[39m\u001b[38;5;124m\"\u001b[39m: m\u001b[38;5;241m.\u001b[39mfs\u001b[38;5;241m.\u001b[39msea_water\u001b[38;5;241m.\u001b[39mpH,\n\u001b[0;32m      6\u001b[0m     },\n\u001b[0;32m      7\u001b[0m     aqueous_phase\u001b[38;5;241m=\u001b[39m{\n\u001b[0;32m      8\u001b[0m         \u001b[38;5;124m\"\u001b[39m\u001b[38;5;124mcomposition\u001b[39m\u001b[38;5;124m\"\u001b[39m: m\u001b[38;5;241m.\u001b[39mfs\u001b[38;5;241m.\u001b[39msea_water\u001b[38;5;241m.\u001b[39mspecies_mass_flow,  \u001b[38;5;66;03m# This is the spices mass flow\u001b[39;00m\n\u001b[0;32m      9\u001b[0m         \u001b[38;5;124m\"\u001b[39m\u001b[38;5;124mconvert_to_rkt_species\u001b[39m\u001b[38;5;124m\"\u001b[39m: \u001b[38;5;28;01mTrue\u001b[39;00m,  \u001b[38;5;66;03m# We can use default converter as its defined for default database (Phreeqc and pitzer)\u001b[39;00m\n\u001b[0;32m     10\u001b[0m         \u001b[38;5;124m\"\u001b[39m\u001b[38;5;124mactivity_model\u001b[39m\u001b[38;5;124m\"\u001b[39m: reaktoro\u001b[38;5;241m.\u001b[39mActivityModelPitzer(),  \u001b[38;5;66;03m# Can provide a string, or Reaktoro initialized class\u001b[39;00m\n\u001b[0;32m     11\u001b[0m         \u001b[38;5;124m\"\u001b[39m\u001b[38;5;124mfixed_solvent_specie\u001b[39m\u001b[38;5;124m\"\u001b[39m: \u001b[38;5;124m\"\u001b[39m\u001b[38;5;124mH2O\u001b[39m\u001b[38;5;124m\"\u001b[39m,  \u001b[38;5;66;03m# We need to define our aqueous solvent as we have to speciate the block\u001b[39;00m\n\u001b[0;32m     12\u001b[0m     },\n\u001b[0;32m     13\u001b[0m     outputs\u001b[38;5;241m=\u001b[39mm\u001b[38;5;241m.\u001b[39mfs\u001b[38;5;241m.\u001b[39msea_water\u001b[38;5;241m.\u001b[39moutputs,  \u001b[38;5;66;03m# outputs we desired\u001b[39;00m\n\u001b[0;32m     14\u001b[0m     database_file\u001b[38;5;241m=\u001b[39m\u001b[38;5;124m\"\u001b[39m\u001b[38;5;124mpitzer.dat\u001b[39m\u001b[38;5;124m\"\u001b[39m,  \u001b[38;5;66;03m# needs to be a string that names the database file or points to its location\u001b[39;00m\n\u001b[0;32m     15\u001b[0m     dissolve_species_in_reaktoro\u001b[38;5;241m=\u001b[39m\u001b[38;5;28;01mTrue\u001b[39;00m,  \u001b[38;5;66;03m# This will sum up all species into elements in Reaktoro directly, if set to false, it will build Pyomo constraints instead\u001b[39;00m\n\u001b[0;32m     16\u001b[0m     assert_charge_neutrality\u001b[38;5;241m=\u001b[39m\u001b[38;5;28;01mFalse\u001b[39;00m,  \u001b[38;5;66;03m# This is True by Default, but here we actually want to adjust the input speciation till the charge is zero\u001b[39;00m\n\u001b[0;32m     17\u001b[0m )\n",
      "File \u001b[1;32md:\\Software\\miniconda\\envs\\reaktoro-pse-dev\\Lib\\site-packages\\pyomo\\core\\base\\block.py:571\u001b[0m, in \u001b[0;36mBlockData.__setattr__\u001b[1;34m(self, name, val)\u001b[0m\n\u001b[0;32m    566\u001b[0m \u001b[38;5;28;01mif\u001b[39;00m name \u001b[38;5;129;01mnot\u001b[39;00m \u001b[38;5;129;01min\u001b[39;00m \u001b[38;5;28mself\u001b[39m\u001b[38;5;241m.\u001b[39m\u001b[38;5;18m__dict__\u001b[39m:\n\u001b[0;32m    567\u001b[0m     \u001b[38;5;28;01mif\u001b[39;00m \u001b[38;5;28misinstance\u001b[39m(val, Component):\n\u001b[0;32m    568\u001b[0m         \u001b[38;5;66;03m#\u001b[39;00m\n\u001b[0;32m    569\u001b[0m         \u001b[38;5;66;03m# Pyomo components are added with the add_component method.\u001b[39;00m\n\u001b[0;32m    570\u001b[0m         \u001b[38;5;66;03m#\u001b[39;00m\n\u001b[1;32m--> 571\u001b[0m         \u001b[38;5;28mself\u001b[39m\u001b[38;5;241m.\u001b[39madd_component(name, val)\n\u001b[0;32m    572\u001b[0m     \u001b[38;5;28;01melse\u001b[39;00m:\n\u001b[0;32m    573\u001b[0m         \u001b[38;5;66;03m#\u001b[39;00m\n\u001b[0;32m    574\u001b[0m         \u001b[38;5;66;03m# Other Python objects are added with the standard __setattr__\u001b[39;00m\n\u001b[0;32m    575\u001b[0m         \u001b[38;5;66;03m# method.\u001b[39;00m\n\u001b[0;32m    576\u001b[0m         \u001b[38;5;66;03m#\u001b[39;00m\n\u001b[0;32m    577\u001b[0m         \u001b[38;5;28msuper\u001b[39m(BlockData, \u001b[38;5;28mself\u001b[39m)\u001b[38;5;241m.\u001b[39m\u001b[38;5;21m__setattr__\u001b[39m(name, val)\n",
      "File \u001b[1;32md:\\Software\\miniconda\\envs\\reaktoro-pse-dev\\Lib\\site-packages\\pyomo\\core\\base\\block.py:1105\u001b[0m, in \u001b[0;36mBlockData.add_component\u001b[1;34m(self, name, val)\u001b[0m\n\u001b[0;32m   1097\u001b[0m     logger\u001b[38;5;241m.\u001b[39mdebug(\n\u001b[0;32m   1098\u001b[0m         \u001b[38;5;124m\"\u001b[39m\u001b[38;5;124mConstructing \u001b[39m\u001b[38;5;132;01m%s\u001b[39;00m\u001b[38;5;124m \u001b[39m\u001b[38;5;124m'\u001b[39m\u001b[38;5;132;01m%s\u001b[39;00m\u001b[38;5;124m'\u001b[39m\u001b[38;5;124m on \u001b[39m\u001b[38;5;132;01m%s\u001b[39;00m\u001b[38;5;124m from data=\u001b[39m\u001b[38;5;132;01m%s\u001b[39;00m\u001b[38;5;124m\"\u001b[39m,\n\u001b[0;32m   1099\u001b[0m         val\u001b[38;5;241m.\u001b[39m\u001b[38;5;18m__class__\u001b[39m\u001b[38;5;241m.\u001b[39m\u001b[38;5;18m__name__\u001b[39m,\n\u001b[1;32m   (...)\u001b[0m\n\u001b[0;32m   1102\u001b[0m         \u001b[38;5;28mstr\u001b[39m(data),\n\u001b[0;32m   1103\u001b[0m     )\n\u001b[0;32m   1104\u001b[0m \u001b[38;5;28;01mtry\u001b[39;00m:\n\u001b[1;32m-> 1105\u001b[0m     val\u001b[38;5;241m.\u001b[39mconstruct(data)\n\u001b[0;32m   1106\u001b[0m \u001b[38;5;28;01mexcept\u001b[39;00m:\n\u001b[0;32m   1107\u001b[0m     err \u001b[38;5;241m=\u001b[39m sys\u001b[38;5;241m.\u001b[39mexc_info()[\u001b[38;5;241m1\u001b[39m]\n",
      "File \u001b[1;32md:\\Software\\miniconda\\envs\\reaktoro-pse-dev\\Lib\\site-packages\\pyomo\\core\\base\\block.py:2161\u001b[0m, in \u001b[0;36mBlock.construct\u001b[1;34m(self, data)\u001b[0m\n\u001b[0;32m   2159\u001b[0m                     obj\u001b[38;5;241m.\u001b[39mconstruct(data\u001b[38;5;241m.\u001b[39mget(name, \u001b[38;5;28;01mNone\u001b[39;00m))\n\u001b[0;32m   2160\u001b[0m         \u001b[38;5;66;03m# Trigger the (normal) initialization of the block\u001b[39;00m\n\u001b[1;32m-> 2161\u001b[0m         \u001b[38;5;28mself\u001b[39m\u001b[38;5;241m.\u001b[39m_getitem_when_not_present(_idx)\n\u001b[0;32m   2162\u001b[0m \u001b[38;5;28;01mfinally\u001b[39;00m:\n\u001b[0;32m   2163\u001b[0m     \u001b[38;5;66;03m# We must allow that id(self) may no longer be in\u001b[39;00m\n\u001b[0;32m   2164\u001b[0m     \u001b[38;5;66;03m# _BlockConstruction.data, as _getitem_when_not_present will\u001b[39;00m\n\u001b[0;32m   2165\u001b[0m     \u001b[38;5;66;03m# have already removed the entry for scalar blocks (as the\u001b[39;00m\n\u001b[0;32m   2166\u001b[0m     \u001b[38;5;66;03m# BlockData and the Block component are the same object)\u001b[39;00m\n\u001b[0;32m   2167\u001b[0m     \u001b[38;5;28;01mif\u001b[39;00m data \u001b[38;5;129;01mis\u001b[39;00m \u001b[38;5;129;01mnot\u001b[39;00m \u001b[38;5;28;01mNone\u001b[39;00m:\n",
      "File \u001b[1;32md:\\Software\\miniconda\\envs\\reaktoro-pse-dev\\Lib\\site-packages\\pyomo\\core\\base\\block.py:2076\u001b[0m, in \u001b[0;36mBlock._getitem_when_not_present\u001b[1;34m(self, idx)\u001b[0m\n\u001b[0;32m   2073\u001b[0m     data \u001b[38;5;241m=\u001b[39m \u001b[38;5;28;01mNone\u001b[39;00m\n\u001b[0;32m   2075\u001b[0m \u001b[38;5;28;01mtry\u001b[39;00m:\n\u001b[1;32m-> 2076\u001b[0m     obj \u001b[38;5;241m=\u001b[39m \u001b[38;5;28mself\u001b[39m\u001b[38;5;241m.\u001b[39m_rule(_block, idx)\n\u001b[0;32m   2077\u001b[0m     \u001b[38;5;66;03m# If the user returns a block, transfer over everything\u001b[39;00m\n\u001b[0;32m   2078\u001b[0m     \u001b[38;5;66;03m# they defined into the empty one we created.  We do\u001b[39;00m\n\u001b[0;32m   2079\u001b[0m     \u001b[38;5;66;03m# this inside the try block so that any abstract\u001b[39;00m\n\u001b[0;32m   2080\u001b[0m     \u001b[38;5;66;03m# components declared by the rule have the opportunity\u001b[39;00m\n\u001b[0;32m   2081\u001b[0m     \u001b[38;5;66;03m# to be initialized with data from\u001b[39;00m\n\u001b[0;32m   2082\u001b[0m     \u001b[38;5;66;03m# _BlockConstruction.data as they are transferred over.\u001b[39;00m\n\u001b[0;32m   2083\u001b[0m     \u001b[38;5;28;01mif\u001b[39;00m obj \u001b[38;5;129;01mis\u001b[39;00m \u001b[38;5;129;01mnot\u001b[39;00m _block \u001b[38;5;129;01mand\u001b[39;00m \u001b[38;5;28misinstance\u001b[39m(obj, BlockData):\n",
      "File \u001b[1;32md:\\Software\\miniconda\\envs\\reaktoro-pse-dev\\Lib\\site-packages\\pyomo\\core\\base\\initializer.py:349\u001b[0m, in \u001b[0;36mIndexedCallInitializer.__call__\u001b[1;34m(self, parent, idx)\u001b[0m\n\u001b[0;32m    347\u001b[0m     \u001b[38;5;28;01mreturn\u001b[39;00m \u001b[38;5;28mself\u001b[39m\u001b[38;5;241m.\u001b[39m_fcn(parent, \u001b[38;5;241m*\u001b[39midx)\n\u001b[0;32m    348\u001b[0m \u001b[38;5;28;01melse\u001b[39;00m:\n\u001b[1;32m--> 349\u001b[0m     \u001b[38;5;28;01mreturn\u001b[39;00m \u001b[38;5;28mself\u001b[39m\u001b[38;5;241m.\u001b[39m_fcn(parent, idx)\n",
      "File \u001b[1;32md:\\Software\\miniconda\\envs\\reaktoro-pse-dev\\Lib\\site-packages\\idaes\\core\\base\\process_block.py:41\u001b[0m, in \u001b[0;36m_rule_default\u001b[1;34m(b, *args)\u001b[0m\n\u001b[0;32m     35\u001b[0m \u001b[38;5;250m\u001b[39m\u001b[38;5;124;03m\"\"\"\u001b[39;00m\n\u001b[0;32m     36\u001b[0m \u001b[38;5;124;03mDefault rule for ProcessBlock, which calls build(). A different rule can\u001b[39;00m\n\u001b[0;32m     37\u001b[0m \u001b[38;5;124;03mbe specified to add additional build steps, or to not call build at all\u001b[39;00m\n\u001b[0;32m     38\u001b[0m \u001b[38;5;124;03musing the normal rule argument to ProcessBlock init.\u001b[39;00m\n\u001b[0;32m     39\u001b[0m \u001b[38;5;124;03m\"\"\"\u001b[39;00m\n\u001b[0;32m     40\u001b[0m \u001b[38;5;28;01mtry\u001b[39;00m:\n\u001b[1;32m---> 41\u001b[0m     b\u001b[38;5;241m.\u001b[39mbuild()\n\u001b[0;32m     42\u001b[0m \u001b[38;5;28;01mexcept\u001b[39;00m \u001b[38;5;167;01mException\u001b[39;00m:\n\u001b[0;32m     43\u001b[0m     logging\u001b[38;5;241m.\u001b[39mgetLogger(\u001b[38;5;18m__name__\u001b[39m)\u001b[38;5;241m.\u001b[39mexception(\u001b[38;5;124mf\u001b[39m\u001b[38;5;124m\"\u001b[39m\u001b[38;5;124mFailure in build: \u001b[39m\u001b[38;5;132;01m{\u001b[39;00mb\u001b[38;5;132;01m}\u001b[39;00m\u001b[38;5;124m\"\u001b[39m)\n",
      "File \u001b[1;32mD:\\github\\reaktoro-pse\\src\\reaktoro_pse\\reaktoro_block.py:262\u001b[0m, in \u001b[0;36mReaktoroBlockData.build\u001b[1;34m(self)\u001b[0m\n\u001b[0;32m    260\u001b[0m \u001b[38;5;28mself\u001b[39m\u001b[38;5;241m.\u001b[39mbuild_rkt_jacobian(\u001b[38;5;28mself\u001b[39m)\n\u001b[0;32m    261\u001b[0m \u001b[38;5;28mself\u001b[39m\u001b[38;5;241m.\u001b[39mbuild_rkt_solver(\u001b[38;5;28mself\u001b[39m)\n\u001b[1;32m--> 262\u001b[0m \u001b[38;5;28mself\u001b[39m\u001b[38;5;241m.\u001b[39mbuild_gray_box(\u001b[38;5;28mself\u001b[39m)\n",
      "File \u001b[1;32mD:\\github\\reaktoro-pse\\src\\reaktoro_pse\\reaktoro_block.py:650\u001b[0m, in \u001b[0;36mReaktoroBlockData.build_gray_box\u001b[1;34m(self, block)\u001b[0m\n\u001b[0;32m    644\u001b[0m block\u001b[38;5;241m.\u001b[39mrkt_block_builder \u001b[38;5;241m=\u001b[39m ReaktoroBlockBuilder(\n\u001b[0;32m    645\u001b[0m     block, block\u001b[38;5;241m.\u001b[39mrkt_solver, build_on_init\u001b[38;5;241m=\u001b[39m\u001b[38;5;28;01mFalse\u001b[39;00m\n\u001b[0;32m    646\u001b[0m )\n\u001b[0;32m    647\u001b[0m block\u001b[38;5;241m.\u001b[39mrkt_block_builder\u001b[38;5;241m.\u001b[39mconfigure_jacobian_scaling(\n\u001b[0;32m    648\u001b[0m     jacobian_scaling_type\u001b[38;5;241m=\u001b[39mscaling_type, user_scaling\u001b[38;5;241m=\u001b[39mscaling\n\u001b[0;32m    649\u001b[0m )\n\u001b[1;32m--> 650\u001b[0m block\u001b[38;5;241m.\u001b[39mrkt_block_builder\u001b[38;5;241m.\u001b[39mbuild_reaktoro_block()\n",
      "File \u001b[1;32mD:\\github\\reaktoro-pse\\src\\reaktoro_pse\\core\\reaktoro_block_builder.py:64\u001b[0m, in \u001b[0;36mReaktoroBlockBuilder.build_reaktoro_block\u001b[1;34m(self)\u001b[0m\n\u001b[0;32m     62\u001b[0m \u001b[38;5;28mself\u001b[39m\u001b[38;5;241m.\u001b[39mblock\u001b[38;5;241m.\u001b[39mreaktoro_model \u001b[38;5;241m=\u001b[39m ExternalGreyBoxBlock(external_model\u001b[38;5;241m=\u001b[39mexternal_model)\n\u001b[0;32m     63\u001b[0m \u001b[38;5;28mself\u001b[39m\u001b[38;5;241m.\u001b[39mbuild_input_constraints()\n\u001b[1;32m---> 64\u001b[0m \u001b[38;5;28mself\u001b[39m\u001b[38;5;241m.\u001b[39mbuild_output_constraints()\n",
      "File \u001b[1;32mD:\\github\\reaktoro-pse\\src\\reaktoro_pse\\core\\reaktoro_block_builder.py:180\u001b[0m, in \u001b[0;36mReaktoroBlockBuilder.build_output_constraints\u001b[1;34m(self)\u001b[0m\n\u001b[0;32m    178\u001b[0m         new_output_vars[key] \u001b[38;5;241m=\u001b[39m obj\n\u001b[0;32m    179\u001b[0m \u001b[38;5;28;01mif\u001b[39;00m new_output_vars \u001b[38;5;241m!=\u001b[39m {}:\n\u001b[1;32m--> 180\u001b[0m     \u001b[38;5;28mself\u001b[39m\u001b[38;5;241m.\u001b[39mblock\u001b[38;5;241m.\u001b[39moutputs \u001b[38;5;241m=\u001b[39m Var(new_output_vars\u001b[38;5;241m.\u001b[39mkeys(), initialize\u001b[38;5;241m=\u001b[39m\u001b[38;5;241m1\u001b[39m)\n\u001b[0;32m    181\u001b[0m     \u001b[38;5;28;01mfor\u001b[39;00m key, obj \u001b[38;5;129;01min\u001b[39;00m new_output_vars\u001b[38;5;241m.\u001b[39mitems():\n\u001b[0;32m    182\u001b[0m         obj\u001b[38;5;241m.\u001b[39mset_pyomo_var(\u001b[38;5;28mself\u001b[39m\u001b[38;5;241m.\u001b[39mblock\u001b[38;5;241m.\u001b[39moutputs[key])\n",
      "\u001b[1;31mNameError\u001b[0m: name 'Var' is not defined"
     ]
    }
   ],
   "source": [
    "m.fs.sea_water.eq_reaktoro_properties = ReaktoroBlock(\n",
    "    system_state={\n",
    "        \"temperature\": m.fs.sea_water.temperature,\n",
    "        \"pressure\": m.fs.sea_water.pressure,\n",
    "        \"pH\": m.fs.sea_water.pH,\n",
    "    },\n",
    "    aqueous_phase={\n",
    "        \"composition\": m.fs.sea_water.species_mass_flow,  # This is the spices mass flow\n",
    "        \"convert_to_rkt_species\": True,  # We can use default converter as its defined for default database (Phreeqc and pitzer)\n",
    "        \"activity_model\": reaktoro.ActivityModelPitzer(),  # Can provide a string, or Reaktoro initialized class\n",
    "        \"fixed_solvent_specie\": \"H2O\",  # We need to define our aqueous solvent as we have to speciate the block\n",
    "    },\n",
    "    outputs=m.fs.sea_water.outputs,  # outputs we desired\n",
    "    database_file=\"pitzer.dat\",  # needs to be a string that names the database file or points to its location\n",
    "    dissolve_species_in_reaktoro=True,  # This will sum up all species into elements in Reaktoro directly, if set to false, it will build Pyomo constraints instead\n",
    "    assert_charge_neutrality=False,  # This is True by Default, but here we actually want to adjust the input speciation till the charge is zero\n",
    ")"
   ]
  },
  {
   "cell_type": "markdown",
   "metadata": {},
   "source": [
    "### Inspecting Reaktoro block outputs and inputs"
   ]
  },
  {
   "cell_type": "markdown",
   "metadata": {},
   "source": [
    "The gray box is constructed on reaktoro_model block"
   ]
  },
  {
   "cell_type": "code",
   "execution_count": 47,
   "metadata": {},
   "outputs": [
    {
     "name": "stdout",
     "output_type": "stream",
     "text": [
      "inputs : Size=11, Index=fs.sea_water.eq_reaktoro_properties.reaktoro_model._input_names_set\n",
      "    Key         : Lower : Value : Upper : Fixed : Stale : Domain\n",
      "          CO3-2 :     0 :     1 :  None : False : False :  Reals\n",
      "           Ca+2 :     0 :     1 :  None : False : False :  Reals\n",
      "            Cl- :     0 :     1 :  None : False : False :  Reals\n",
      "            H2O :     0 :     1 :  None : False : False :  Reals\n",
      "             K+ :     0 :     1 :  None : False : False :  Reals\n",
      "           Mg+2 :     0 :     1 :  None : False : False :  Reals\n",
      "            Na+ :     0 :     1 :  None : False : False :  Reals\n",
      "          SO4-2 :     0 :     1 :  None : False : False :  Reals\n",
      "             pH :     0 :     1 :  None : False : False :  Reals\n",
      "       pressure :     0 :     1 :  None : False : False :  Reals\n",
      "    temperature :     0 :     1 :  None : False : False :  Reals\n"
     ]
    }
   ],
   "source": [
    "m.fs.sea_water.eq_reaktoro_properties.reaktoro_model.inputs.display()"
   ]
  },
  {
   "cell_type": "markdown",
   "metadata": {},
   "source": [
    "This inputs are converted to element sums, with in reaktoro and we can inspect them for each block\n",
    "using lower level api calls "
   ]
  },
  {
   "cell_type": "code",
   "execution_count": 48,
   "metadata": {},
   "outputs": [
    {
     "name": "stdout",
     "output_type": "stream",
     "text": [
      "C [(1.0, 'CO3-2')]\n",
      "Na [(1.0, 'Na+')]\n",
      "Mg [(1.0, 'Mg+2')]\n",
      "S [(1.0, 'SO4-2')]\n",
      "Cl [(1.0, 'Cl-')]\n",
      "K [(1.0, 'K+')]\n",
      "Ca [(1.0, 'Ca+2')]\n"
     ]
    }
   ],
   "source": [
    "\"\"\" for speciation block\"\"\"\n",
    "\n",
    "conversion_dict = m.fs.sea_water.eq_reaktoro_properties.rkt_inputs.constraint_dict\n",
    "for element, species in conversion_dict.items():\n",
    "    print(element, species)"
   ]
  },
  {
   "cell_type": "markdown",
   "metadata": {},
   "source": [
    "Lets inspect outputs from reaktoro graybox model"
   ]
  },
  {
   "cell_type": "code",
   "execution_count": 49,
   "metadata": {},
   "outputs": [
    {
     "name": "stdout",
     "output_type": "stream",
     "text": [
      "outputs : Size=20, Index=fs.sea_water.eq_reaktoro_properties.reaktoro_model._output_names_set\n",
      "    Key                              : Lower : Value : Upper : Fixed : Stale : Domain\n",
      "                    ('charge', None) :  None :   0.1 :  None : False : False :  Reals\n",
      "                   ('density', None) :  None :   0.1 :  None : False : False :  Reals\n",
      "        ('speciesActivityLn', 'H2O') :  None :   0.1 :  None : False : False :  Reals\n",
      "            ('speciesAmount', 'CO2') :  None :   0.1 :  None : False : False :  Reals\n",
      "          ('speciesAmount', 'CO3-2') :  None :   0.1 :  None : False : False :  Reals\n",
      "           ('speciesAmount', 'Ca+2') :  None :   0.1 :  None : False : False :  Reals\n",
      "            ('speciesAmount', 'Cl-') :  None :   0.1 :  None : False : False :  Reals\n",
      "             ('speciesAmount', 'H+') :  None :   0.1 :  None : False : False :  Reals\n",
      "            ('speciesAmount', 'H2O') :  None :   0.1 :  None : False : False :  Reals\n",
      "          ('speciesAmount', 'HCO3-') :  None :   0.1 :  None : False : False :  Reals\n",
      "          ('speciesAmount', 'HSO4-') :  None :   0.1 :  None : False : False :  Reals\n",
      "             ('speciesAmount', 'K+') :  None :   0.1 :  None : False : False :  Reals\n",
      "           ('speciesAmount', 'Mg+2') :  None :   0.1 :  None : False : False :  Reals\n",
      "          ('speciesAmount', 'MgCO3') :  None :   0.1 :  None : False : False :  Reals\n",
      "          ('speciesAmount', 'MgOH+') :  None :   0.1 :  None : False : False :  Reals\n",
      "            ('speciesAmount', 'Na+') :  None :   0.1 :  None : False : False :  Reals\n",
      "            ('speciesAmount', 'OH-') :  None :   0.1 :  None : False : False :  Reals\n",
      "          ('speciesAmount', 'SO4-2') :  None :   0.1 :  None : False : False :  Reals\n",
      "    ('speciesStandardVolume', 'H2O') :  None :   0.1 :  None : False : False :  Reals\n",
      "               ('temperature', None) :  None :   0.1 :  None : False : False :  Reals\n"
     ]
    }
   ],
   "source": [
    "m.fs.sea_water.eq_reaktoro_properties.reaktoro_model.outputs.display()"
   ]
  },
  {
   "cell_type": "markdown",
   "metadata": {},
   "source": [
    "Lets inspect outputs from main reaktoro model\n",
    "\n",
    "Note how we are missing osmoticPressure, and instead have speciesActivityLn and speciesStandardVolume as our outputs, this is becouse we osmoticPressure is a pyomo property, rather a native property supplied by reaktoro. You can inspect how this property is created by checking the:\n",
    "* osmoticPressure in PyomoProperties class located in [reaktoro_pse.core.reaktoro_outputs](https://github.com/watertap-org/reaktoro-pse/blob/33b4cf14df8cb94f21fa826feae2fb6b51ea580a/src/reaktoro_pse/core/reaktoro_outputs.py#L118)\n",
    "* build_osmotic_constraint in [reaktoro_pse.core.pyomo_property_writer.property_functions](https://github.com/watertap-org/reaktoro-pse/blob/main/src/reaktoro_pse/core/pyomo_property_writer/property_functions.py)\n",
    "\n",
    "This two location will also show how we can access reaktoro database to pull out fixed parameters and create a custom pyomo property. "
   ]
  },
  {
   "cell_type": "code",
   "execution_count": 50,
   "metadata": {},
   "outputs": [],
   "source": [
    "for ion, value in sea_water_composition.items():\n",
    "    \"\"\"Fix concentration amount\"\"\"\n",
    "    m.fs.sea_water.species_concentrations[ion].fix(value)\n",
    "    set_scaling_factor(m.fs.sea_water.species_concentrations[ion], 1 / value)\n",
    "\n",
    "\"\"\"Set flow to 1 kg of water\"\"\"\n",
    "m.fs.sea_water.species_mass_flow[\"H2O\"].fix(1)\n",
    "\n",
    "\"\"\"Initialize concentration constraints \"\"\"\n",
    "for comp, pyoobj in m.fs.sea_water.eq_sea_water_species_mass_flow.items():\n",
    "    if \"H2O\" in comp:\n",
    "        set_scaling_factor(m.fs.sea_water.species_mass_flow[ion], 1)\n",
    "    else:\n",
    "        calculate_variable_from_constraint(\n",
    "            m.fs.sea_water.species_mass_flow[comp], pyoobj\n",
    "        )\n",
    "        set_scaling_factor(\n",
    "            m.fs.sea_water.species_mass_flow[ion],\n",
    "            1 / m.fs.sea_water.species_mass_flow[comp].value,\n",
    "        )\n",
    "        constraint_scaling_transform(\n",
    "            pyoobj, 1 / m.fs.sea_water.species_mass_flow[comp].value\n",
    "        )"
   ]
  },
  {
   "cell_type": "markdown",
   "metadata": {},
   "source": [
    "### Initialize Reaktoro block.  \n",
    "Reaktoro initialization does several steps:\n",
    "\n",
    "1) Initialize input constraints propagating them from user variables to Reaktoro graybox inputs\n",
    "2) Solve the Reaktoro block to get output properties \n",
    "3) Propagate Reaktoro solution through output constraints and to output variables \n",
    "4) Scale all input and output variables and constraints using either user provided scaling factors or by inverse of their value \n",
    "5) Scale the jacobian using user provided scaling or inverse of scaling factors of the gray box outputs\n",
    "\n",
    "This will in general provide a well scaled problem. "
   ]
  },
  {
   "cell_type": "code",
   "execution_count": 51,
   "metadata": {},
   "outputs": [
    {
     "name": "stdout",
     "output_type": "stream",
     "text": [
      "2024-09-11 13:28:35 [INFO] idaes.reaktoro_pse.reaktoro_block: ---initializing property block for fs.sea_water.eq_reaktoro_properties----\n",
      "2024-09-11 13:28:35 [INFO] idaes.reaktoro_pse.core.reaktoro_state: Equilibrated successfully\n",
      "2024-09-11 13:28:35 [INFO] idaes.reaktoro_pse.core.reaktoro_block_builder: Initialized rkt block\n",
      "Density: 1023.4759353858051\n",
      "Osmotic pressure: 2268715.8260405306\n",
      "Solution charge: 0.05577128070860777\n"
     ]
    }
   ],
   "source": [
    "m.fs.sea_water.eq_reaktoro_properties.initialize()\n",
    "\n",
    "print(\n",
    "    \"Density:\",\n",
    "    m.fs.sea_water.density.value,\n",
    ")\n",
    "print(\n",
    "    \"Osmotic pressure:\",\n",
    "    m.fs.sea_water.osmotic_pressure.value,\n",
    ")\n",
    "print(\"Solution charge:\", m.fs.sea_water.charge.value)"
   ]
  },
  {
   "cell_type": "markdown",
   "metadata": {},
   "source": [
    "Displaying Reaktoro state"
   ]
  },
  {
   "cell_type": "code",
   "execution_count": 52,
   "metadata": {},
   "outputs": [
    {
     "name": "stdout",
     "output_type": "stream",
     "text": [
      "2024-09-11 13:28:35 [INFO] idaes.reaktoro_pse.reaktoro_block: -----Displaying information for property block ------\n",
      "2024-09-11 13:28:35 [INFO] idaes.reaktoro_pse.reaktoro_block: +-----------------+------------+------+\n",
      "| Property        |      Value | Unit |\n",
      "+-----------------+------------+------+\n",
      "| Temperature     |   293.0000 |    K |\n",
      "| Pressure        |     1.0000 |  bar |\n",
      "| Charge:         | 5.5771e-02 |  mol |\n",
      "| Element Amount: |            |      |\n",
      "| :: H            | 1.1101e+02 |  mol |\n",
      "| :: C            | 2.3329e-03 |  mol |\n",
      "| :: O            | 5.5623e+01 |  mol |\n",
      "| :: Na           | 4.5917e-01 |  mol |\n",
      "| :: Mg           | 5.1926e-02 |  mol |\n",
      "| :: S            | 2.7575e-02 |  mol |\n",
      "| :: Cl           | 4.7950e-01 |  mol |\n",
      "| :: K            | 9.7192e-03 |  mol |\n",
      "| :: Ca           | 9.9803e-03 |  mol |\n",
      "| Species Amount: |            |      |\n",
      "| :: H+           | 3.8058e-08 |  mol |\n",
      "| :: H2O          | 5.5506e+01 |  mol |\n",
      "| :: CO3-2        | 1.9905e-05 |  mol |\n",
      "| :: CO2          | 9.1011e-05 |  mol |\n",
      "| :: Ca+2         | 9.9803e-03 |  mol |\n",
      "| :: Cl-          | 4.7950e-01 |  mol |\n",
      "| :: HCO3-        | 2.2039e-03 |  mol |\n",
      "| :: SO4-2        | 2.7575e-02 |  mol |\n",
      "| :: HSO4-        | 9.0296e-09 |  mol |\n",
      "| :: Mg+2         | 5.1907e-02 |  mol |\n",
      "| :: K+           | 9.7192e-03 |  mol |\n",
      "| :: MgCO3        | 1.8022e-05 |  mol |\n",
      "| :: MgOH+        | 4.1372e-07 |  mol |\n",
      "| :: Na+          | 4.5917e-01 |  mol |\n",
      "| :: OH-          | 4.0668e-07 |  mol |\n",
      "+-----------------+------------+------+\n"
     ]
    }
   ],
   "source": [
    "m.fs.sea_water.eq_reaktoro_properties.display_reaktoro_state()"
   ]
  },
  {
   "cell_type": "markdown",
   "metadata": {},
   "source": [
    "### Lets solve the current model to:\n",
    "* Find actual mass flows of species \n",
    "* Solution density\n",
    "* Required Cl amount to get zero charge in solution"
   ]
  },
  {
   "cell_type": "code",
   "execution_count": 53,
   "metadata": {},
   "outputs": [],
   "source": [
    "\"\"\"Unfix Cl and fix charge to 0\"\"\"\n",
    "\n",
    "m.fs.sea_water.species_concentrations[\"Cl\"].unfix()\n",
    "m.fs.sea_water.charge.fix(0)"
   ]
  },
  {
   "cell_type": "markdown",
   "metadata": {},
   "source": [
    "Lets check DOFs before solve, and note that its equal to number of our reaktoro outputs"
   ]
  },
  {
   "cell_type": "code",
   "execution_count": 54,
   "metadata": {},
   "outputs": [
    {
     "name": "stdout",
     "output_type": "stream",
     "text": [
      "DOFs: 20\n",
      "Number of Reaktoro outputs 20\n",
      "Actual DOFs: 0\n"
     ]
    }
   ],
   "source": [
    "print(\"DOFs:\", degrees_of_freedom(m))\n",
    "outputs_main_block = len(m.fs.sea_water.eq_reaktoro_properties.reaktoro_model.outputs)\n",
    "print(\"Number of Reaktoro outputs\", outputs_main_block)\n",
    "print(\n",
    "    \"Actual DOFs:\",\n",
    "    degrees_of_freedom(m) - (outputs_main_block),\n",
    ")\n",
    "assert degrees_of_freedom(m) - (outputs_main_block) == 0"
   ]
  },
  {
   "cell_type": "code",
   "execution_count": 55,
   "metadata": {},
   "outputs": [
    {
     "name": "stdout",
     "output_type": "stream",
     "text": [
      "cyipopt-watertap: cyipopt with user variable scaling and IDAES jacobian constraint scaling\n",
      "This is Ipopt version 3.14.16, running with linear solver MUMPS 5.7.2.\n",
      "\n",
      "Number of nonzeros in equality constraint Jacobian...:      310\n",
      "Number of nonzeros in inequality constraint Jacobian.:        0\n",
      "Number of nonzeros in Lagrangian Hessian.............:        6\n",
      "\n",
      "Total number of variables............................:       56\n",
      "                     variables with only lower bounds:       11\n",
      "                variables with lower and upper bounds:        0\n",
      "                     variables with only upper bounds:        0\n",
      "Total number of equality constraints.................:       56\n",
      "Total number of inequality constraints...............:        0\n",
      "        inequality constraints with only lower bounds:        0\n",
      "   inequality constraints with lower and upper bounds:        0\n",
      "        inequality constraints with only upper bounds:        0\n",
      "\n",
      "iter    objective    inf_pr   inf_du lg(mu)  ||d||  lg(rg) alpha_du alpha_pr  ls\n",
      "   0  0.0000000e+00 5.58e+06 1.00e+00  -1.0 0.00e+00    -  0.00e+00 0.00e+00   0\n",
      "   1  0.0000000e+00 2.78e-04 6.97e-04  -1.0 5.58e+06    -  1.00e+00 1.00e+00h  1\n",
      "   2  0.0000000e+00 1.01e-11 0.00e+00  -1.7 5.62e-03    -  1.00e+00 1.00e+00h  1\n",
      "\n",
      "Number of Iterations....: 2\n",
      "\n",
      "                                   (scaled)                 (unscaled)\n",
      "Objective...............:   0.0000000000000000e+00    0.0000000000000000e+00\n",
      "Dual infeasibility......:   0.0000000000000000e+00    0.0000000000000000e+00\n",
      "Constraint violation....:   9.0949470177292824e-10    1.0065503985856594e-11\n",
      "Variable bound violation:   0.0000000000000000e+00    0.0000000000000000e+00\n",
      "Complementarity.........:   0.0000000000000000e+00    0.0000000000000000e+00\n",
      "Overall NLP error.......:   9.0949470177292824e-10    1.0065503985856594e-11\n",
      "\n",
      "\n",
      "Number of objective function evaluations             = 3\n",
      "Number of objective gradient evaluations             = 3\n",
      "Number of equality constraint evaluations            = 3\n",
      "Number of inequality constraint evaluations          = 0\n",
      "Number of equality constraint Jacobian evaluations   = 3\n",
      "Number of inequality constraint Jacobian evaluations = 0\n",
      "Number of Lagrangian Hessian evaluations             = 2\n",
      "Total seconds in IPOPT                               = 0.141\n",
      "\n",
      "EXIT: Optimal Solution Found.\n"
     ]
    }
   ],
   "source": [
    "initial_cl = m.fs.sea_water.species_concentrations[\"Cl\"].value\n",
    "cy_solver = get_solver(solver=\"cyipopt-watertap\")\n",
    "\n",
    "cy_solver.options[\"max_iter\"] = 25\n",
    "\n",
    "result = cy_solver.solve(m, tee=True)\n",
    "assert_optimal_termination(result)"
   ]
  },
  {
   "cell_type": "code",
   "execution_count": 56,
   "metadata": {},
   "outputs": [
    {
     "name": "stdout",
     "output_type": "stream",
     "text": [
      "Density 1023.8192166756572\n",
      "Osmotic pressure 2343131.1214005514\n",
      "Solution charge 0 Intial Cl 17000 Final Cl 18977.219105695793\n"
     ]
    }
   ],
   "source": [
    "print(\n",
    "    \"Density\",\n",
    "    m.fs.sea_water.density.value,\n",
    ")\n",
    "print(\n",
    "    \"Osmotic pressure\",\n",
    "    m.fs.sea_water.osmotic_pressure.value,\n",
    ")\n",
    "print(\n",
    "    \"Solution charge\",\n",
    "    m.fs.sea_water.charge.value,\n",
    "    \"Intial Cl\",\n",
    "    initial_cl,\n",
    "    \"Final Cl\",\n",
    "    m.fs.sea_water.species_concentrations[\"Cl\"].value,\n",
    ")"
   ]
  },
  {
   "cell_type": "markdown",
   "metadata": {},
   "source": [
    "Exact speciation is provided in ReaktoroBlock properties, with key (speciesAmount, specie)"
   ]
  },
  {
   "cell_type": "code",
   "execution_count": 57,
   "metadata": {},
   "outputs": [
    {
     "name": "stdout",
     "output_type": "stream",
     "text": [
      "outputs : Size=15, Index={('speciesAmount', 'K+'), ('speciesAmount', 'Mg+2'), ('speciesAmount', 'CO3-2'), ('speciesAmount', 'CO2'), ('speciesAmount', 'Cl-'), ('speciesAmount', 'Na+'), ('speciesAmount', 'OH-'), ('speciesAmount', 'MgCO3'), ('speciesAmount', 'H2O'), ('speciesAmount', 'H+'), ('speciesAmount', 'HCO3-'), ('speciesAmount', 'MgOH+'), ('speciesAmount', 'HSO4-'), ('speciesAmount', 'Ca+2'), ('speciesAmount', 'SO4-2')}\n",
      "    Key                        : Lower : Value                  : Upper : Fixed : Stale : Domain\n",
      "      ('speciesAmount', 'CO2') :  None :  8.820292774576382e-05 :  None : False : False :  Reals\n",
      "    ('speciesAmount', 'CO3-2') :  None : 2.0221381093695295e-05 :  None : False : False :  Reals\n",
      "     ('speciesAmount', 'Ca+2') :  None :   0.009748120528662453 :  None : False : False :  Reals\n",
      "      ('speciesAmount', 'Cl-') :  None :     0.5228168599519146 :  None : False : False :  Reals\n",
      "       ('speciesAmount', 'H+') :  None :  3.735931000380949e-08 :  None : False : False :  Reals\n",
      "      ('speciesAmount', 'H2O') :  None :      55.50621669626999 :  None : False : False :  Reals\n",
      "    ('speciesAmount', 'HCO3-') :  None :  0.0021521046724689696 :  None : False : False :  Reals\n",
      "    ('speciesAmount', 'HSO4-') :  None :  8.583456160730378e-09 :  None : False : False :  Reals\n",
      "       ('speciesAmount', 'K+') :  None :    0.00949311055711477 :  None : False : False :  Reals\n",
      "     ('speciesAmount', 'Mg+2') :  None :    0.05069928889285604 :  None : False : False :  Reals\n",
      "    ('speciesAmount', 'MgCO3') :  None : 1.8056004936426618e-05 :  None : False : False :  Reals\n",
      "    ('speciesAmount', 'MgOH+') :  None : 4.1434205696376434e-07 :  None : False : False :  Reals\n",
      "      ('speciesAmount', 'Na+') :  None :     0.4484884621149455 :  None : False : False :  Reals\n",
      "      ('speciesAmount', 'OH-') :  None :  4.119629115030691e-07 :  None : False : False :  Reals\n",
      "    ('speciesAmount', 'SO4-2') :  None :    0.02693350764176281 :  None : False : False :  Reals\n"
     ]
    }
   ],
   "source": [
    "m.fs.sea_water.eq_reaktoro_properties.outputs.display()"
   ]
  },
  {
   "cell_type": "markdown",
   "metadata": {},
   "source": [
    "## Performing acid addition (Chemistry modification)\n",
    "We need to build a a specitation reaktoro block and add chemical to it."
   ]
  },
  {
   "cell_type": "code",
   "execution_count": 58,
   "metadata": {},
   "outputs": [],
   "source": [
    "\"\"\"We will want to add a dose of acid to the feed to drop the pH to typical operating point of RO\"\"\"\n",
    "\n",
    "m.fs.acid_dose = Var(initialize=1e-8, units=pyunits.mg / pyunits.L)\n",
    "set_scaling_factor(m.fs.acid_dose, 1)\n",
    "m.fs.acid_mass_flow = Var(initialize=1e-16, units=pyunits.kg / pyunits.s)\n",
    "set_scaling_factor(\n",
    "    m.fs.acid_mass_flow, 1e6\n",
    ")  # we know this is roughly right as we will be adding 1-100 ppm per L or kg of feed so the mass flow will be about 1e4\n",
    "\"\"\"Convert dose to mass flow \"\"\"\n",
    "m.fs.eq_acid_dose = Constraint(\n",
    "    expr=m.fs.acid_mass_flow\n",
    "    == pyunits.convert(\n",
    "        m.fs.acid_dose\n",
    "        * sum(obj for key, obj in m.fs.sea_water.species_mass_flow.items())\n",
    "        / m.fs.sea_water.density,\n",
    "        to_units=pyunits.kg / pyunits.s,\n",
    "    )\n",
    ")\n",
    "\n",
    "constraint_scaling_transform(m.fs.eq_acid_dose, 1e6)"
   ]
  },
  {
   "cell_type": "markdown",
   "metadata": {},
   "source": [
    "Crete a modfied sea water block and properites of interest "
   ]
  },
  {
   "cell_type": "code",
   "execution_count": 59,
   "metadata": {},
   "outputs": [
    {
     "name": "stdout",
     "output_type": "stream",
     "text": [
      "('pH', None) fs.modified_sea_water.pH\n",
      "('scalingTendency', 'Calcite') fs.modified_sea_water.scaling_tendencies[Calcite]\n",
      "('scalingTendency', 'Gypsum') fs.modified_sea_water.scaling_tendencies[Gypsum]\n"
     ]
    }
   ],
   "source": [
    "m.fs.modified_sea_water = Block()\n",
    "m.fs.modified_sea_water.pH = Var(initialize=1)\n",
    "set_scaling_factor(m.fs.modified_sea_water, 1)\n",
    "m.fs.modified_sea_water.scaling_tendencies = Var(\n",
    "    [\"Calcite\", \"Gypsum\"],\n",
    "    initialize=1,\n",
    ")\n",
    "set_scaling_factor(m.fs.modified_sea_water.scaling_tendencies, 1)\n",
    "m.fs.modified_sea_water.outputs = {(\"pH\", None): m.fs.modified_sea_water.pH}\n",
    "for key, obj in m.fs.modified_sea_water.scaling_tendencies.items():\n",
    "    m.fs.modified_sea_water.outputs[(\"scalingTendency\", key)] = obj\n",
    "for key, obj in m.fs.modified_sea_water.outputs.items():\n",
    "    print(key, obj)"
   ]
  },
  {
   "cell_type": "markdown",
   "metadata": {},
   "source": [
    "Build speciation reaktoro block and provide acid as an input\n",
    "We can use exact speciation from our eq_sea_water_properties block output as new mol flow input "
   ]
  },
  {
   "cell_type": "code",
   "execution_count": 60,
   "metadata": {},
   "outputs": [
    {
     "name": "stdout",
     "output_type": "stream",
     "text": [
      "2024-09-11 13:28:35 [WARNING] idaes.reaktoro_pse.core.reaktoro_inputs: Registered an empty constraint for ['OH-', 'H+'], this can lead to unexpected results depending on reaktoro configuration, please use with caution\n",
      "2024-09-11 13:28:35 [WARNING] idaes.reaktoro_pse.core.reaktoro_inputs: Registered an empty constraint for ['OH-', 'H+'], this can lead to unexpected results depending on reaktoro configuration, please use with caution\n",
      "2024-09-11 13:28:36 [INFO] idaes.reaktoro_pse.core.reaktoro_gray_box: RKT gray box using BFGS hessian type\n"
     ]
    }
   ],
   "source": [
    "m.fs.modified_sea_water.eq_reaktoro_properties = ReaktoroBlock(\n",
    "    exact_speciation=True,\n",
    "    aqueous_phase={\n",
    "        \"composition\": m.fs.sea_water.eq_reaktoro_properties.outputs,  # This is the spices mass flow\n",
    "        \"convert_to_rkt_species\": False,  # already has right naming convection\n",
    "        \"activity_model\": reaktoro.ActivityModelPitzer(),  # Can provide a string, or Reaktoro initialized class\n",
    "    },\n",
    "    system_state={\n",
    "        \"temperature\": m.fs.sea_water.temperature,  # same as our feed\n",
    "        \"pressure\": m.fs.sea_water.pressure,\n",
    "    },\n",
    "    outputs=m.fs.modified_sea_water.outputs,  # outputs we desired\n",
    "    chemistry_modifier={\n",
    "        \"HCl\": m.fs.acid_mass_flow\n",
    "    },  # here we define that we are adding 'HCL' as acid and its mass flow\n",
    "    database=\"PhreeqcDatabase\",  # Can provide a string, or Reaktoro initialized class reaktor.PhreeqcDatabase()\n",
    "    database_file=\"pitzer.dat\",  # needs to be a string that names the database file or points to its location\n",
    "    dissolve_species_in_reaktoro=True,  # This will sum up all species into elements in Reaktoro directly, if set to false, it will build Pyomo constraints instead\n",
    "    assert_charge_neutrality=False,  # This is True by Default, but here we actually want to adjust the input speciation till the charge is zero\n",
    "    reaktoro_solve_options={\n",
    "        \"open_species_on_property_block\": [\n",
    "            \"OH-\",\n",
    "            \"H+\",\n",
    "        ]\n",
    "    },  # This option helps stabilize Reaktoro by providing redundant constraints and generally does not impact final solution.\n",
    ")"
   ]
  },
  {
   "cell_type": "markdown",
   "metadata": {},
   "source": [
    "Lets inspect how this block sums up true species to elements "
   ]
  },
  {
   "cell_type": "code",
   "execution_count": 61,
   "metadata": {},
   "outputs": [
    {
     "name": "stdout",
     "output_type": "stream",
     "text": [
      "H [(1.0, 'OH-'), (2.0, 'H2O'), (1.0, 'H+'), (1.0, 'HCO3-'), (1.0, 'MgOH+'), (1.0, 'HSO4-'), (1, 'HCl')]\n",
      "C [(1.0, 'CO3-2'), (1.0, 'CO2'), (1.0, 'MgCO3'), (1.0, 'HCO3-')]\n",
      "O [(3.0, 'CO3-2'), (2.0, 'CO2'), (1.0, 'OH-'), (3.0, 'MgCO3'), (1.0, 'H2O'), (3.0, 'HCO3-'), (1.0, 'MgOH+'), (4.0, 'HSO4-'), (4.0, 'SO4-2')]\n",
      "Na [(1.0, 'Na+')]\n",
      "Mg [(1.0, 'Mg+2'), (1.0, 'MgCO3'), (1.0, 'MgOH+')]\n",
      "S [(1.0, 'HSO4-'), (1.0, 'SO4-2')]\n",
      "Cl [(1.0, 'Cl-'), (1, 'HCl')]\n",
      "K [(1.0, 'K+')]\n",
      "Ca [(1.0, 'Ca+2')]\n"
     ]
    }
   ],
   "source": [
    "conversion_dict = (\n",
    "    m.fs.modified_sea_water.eq_reaktoro_properties.rkt_inputs.constraint_dict\n",
    ")\n",
    "for element, species in conversion_dict.items():\n",
    "    print(element, species)"
   ]
  },
  {
   "cell_type": "markdown",
   "metadata": {},
   "source": [
    "Initialize the spectiation block"
   ]
  },
  {
   "cell_type": "code",
   "execution_count": 62,
   "metadata": {},
   "outputs": [
    {
     "name": "stdout",
     "output_type": "stream",
     "text": [
      "2024-09-11 13:28:36 [INFO] idaes.reaktoro_pse.reaktoro_block: ---initializing property block for fs.modified_sea_water.eq_reaktoro_properties----\n",
      "2024-09-11 13:28:36 [INFO] idaes.reaktoro_pse.core.reaktoro_state: Equilibrated successfully\n",
      "2024-09-11 13:28:36 [INFO] idaes.reaktoro_pse.core.reaktoro_block_builder: Initialized rkt block\n"
     ]
    }
   ],
   "source": [
    "m.fs.modified_sea_water.eq_reaktoro_properties.initialize()"
   ]
  },
  {
   "cell_type": "markdown",
   "metadata": {},
   "source": [
    "Verify out properties look good\n",
    "\n",
    "Note, how the pH thats estimated by Reaktoro is the same as our sea_water feed pH, even as we did not provide as an input! This is because we did not add any acid yet."
   ]
  },
  {
   "cell_type": "code",
   "execution_count": 63,
   "metadata": {},
   "outputs": [
    {
     "name": "stdout",
     "output_type": "stream",
     "text": [
      "Sea water pH:  7.56\n",
      "Reaktoro block outputs\n",
      "('pH', None) 7.560000000009307\n",
      "('scalingTendency', 'Calcite') 0.9443058925435645\n",
      "('scalingTendency', 'Gypsum') 0.2001546710736435\n"
     ]
    }
   ],
   "source": [
    "print(\"Sea water pH: \", m.fs.sea_water.pH.value)\n",
    "print(\"Reaktoro block outputs\")\n",
    "for key, obj in m.fs.modified_sea_water.outputs.items():\n",
    "    print(key, obj.value)"
   ]
  },
  {
   "cell_type": "markdown",
   "metadata": {},
   "source": [
    "Lets find how much acid we need to add to drop pH to 7"
   ]
  },
  {
   "cell_type": "code",
   "execution_count": 64,
   "metadata": {},
   "outputs": [],
   "source": [
    "m.fs.modified_sea_water.pH.fix(7.0)"
   ]
  },
  {
   "cell_type": "code",
   "execution_count": 65,
   "metadata": {},
   "outputs": [
    {
     "name": "stdout",
     "output_type": "stream",
     "text": [
      "cyipopt-watertap: cyipopt with user variable scaling and IDAES jacobian constraint scaling\n",
      "This is Ipopt version 3.14.16, running with linear solver MUMPS 5.7.2.\n",
      "\n",
      "Number of nonzeros in equality constraint Jacobian...:      416\n",
      "Number of nonzeros in inequality constraint Jacobian.:        0\n",
      "Number of nonzeros in Lagrangian Hessian.............:       23\n",
      "\n",
      "Total number of variables............................:       81\n",
      "                     variables with only lower bounds:       29\n",
      "                variables with lower and upper bounds:        0\n",
      "                     variables with only upper bounds:        0\n",
      "Total number of equality constraints.................:       81\n",
      "Total number of inequality constraints...............:        0\n",
      "        inequality constraints with only lower bounds:        0\n",
      "   inequality constraints with lower and upper bounds:        0\n",
      "        inequality constraints with only upper bounds:        0\n",
      "\n",
      "iter    objective    inf_pr   inf_du lg(mu)  ||d||  lg(rg) alpha_du alpha_pr  ls\n",
      "   0  0.0000000e+00 7.41e-02 1.00e+00  -1.0 0.00e+00    -  0.00e+00 0.00e+00   0\n",
      "   1  0.0000000e+00 5.53e-01 1.63e+06  -1.0 1.63e+02    -  6.09e-05 1.00e+00f  1\n",
      "   2  0.0000000e+00 1.15e-02 2.59e-01  -1.0 6.52e+01    -  7.39e-01 1.00e+00h  1\n",
      "   3  0.0000000e+00 1.00e-04 8.49e-04  -1.0 6.96e+00    -  1.00e+00 1.00e+00h  1\n",
      "   4  0.0000000e+00 1.08e-08 2.36e-07  -2.5 6.19e-02    -  1.00e+00 1.00e+00h  1\n",
      "   5  0.0000000e+00 1.34e-11 0.00e+00  -3.8 5.28e-06    -  1.00e+00 1.00e+00h  1\n",
      "\n",
      "Number of Iterations....: 5\n",
      "\n",
      "                                   (scaled)                 (unscaled)\n",
      "Objective...............:   0.0000000000000000e+00    0.0000000000000000e+00\n",
      "Dual infeasibility......:   0.0000000000000000e+00    0.0000000000000000e+00\n",
      "Constraint violation....:   1.1368683772161603e-10    1.3449685809518996e-11\n",
      "Variable bound violation:   0.0000000000000000e+00    0.0000000000000000e+00\n",
      "Complementarity.........:   0.0000000000000000e+00    0.0000000000000000e+00\n",
      "Overall NLP error.......:   1.1368683772161603e-10    1.3449685809518996e-11\n",
      "\n",
      "\n",
      "Number of objective function evaluations             = 6\n",
      "Number of objective gradient evaluations             = 6\n",
      "Number of equality constraint evaluations            = 6\n",
      "Number of inequality constraint evaluations          = 0\n",
      "Number of equality constraint Jacobian evaluations   = 6\n",
      "Number of inequality constraint Jacobian evaluations = 0\n",
      "Number of Lagrangian Hessian evaluations             = 5\n",
      "Total seconds in IPOPT                               = 0.738\n",
      "\n",
      "EXIT: Optimal Solution Found.\n"
     ]
    }
   ],
   "source": [
    "cy_solver = get_solver(solver=\"cyipopt-watertap\")\n",
    "\n",
    "cy_solver.options[\"max_iter\"] = 25\n",
    "\n",
    "result = cy_solver.solve(m, tee=True)\n",
    "assert_optimal_termination(result)"
   ]
  },
  {
   "cell_type": "code",
   "execution_count": 66,
   "metadata": {},
   "outputs": [
    {
     "name": "stdout",
     "output_type": "stream",
     "text": [
      "Adjusted pH: 7.0 Acid dose: 8.488219373145391 PPM, Acid mass flow: 8.569016923056081e-06 kg/s\n"
     ]
    }
   ],
   "source": [
    "print(\n",
    "    \"Adjusted pH:\",\n",
    "    m.fs.modified_sea_water.pH.value,\n",
    "    \"Acid dose:\",\n",
    "    m.fs.acid_dose.value,\n",
    "    \"PPM, Acid mass flow:\",\n",
    "    m.fs.acid_mass_flow.value,\n",
    "    \"kg/s\",\n",
    ")"
   ]
  },
  {
   "cell_type": "markdown",
   "metadata": {},
   "source": [
    "## Alternatively ReaktoroBlock can be build to perform speciation internally. \n",
    "\n",
    "### Getting basic properties from ReaktoroBlock\n",
    "<img src=\"spec_block.png\" width=\"1200\" height=\"400\">"
   ]
  },
  {
   "cell_type": "markdown",
   "metadata": {},
   "source": [
    "Build combined block and output properties (same as for modified_sea_water block)"
   ]
  },
  {
   "cell_type": "code",
   "execution_count": 67,
   "metadata": {},
   "outputs": [
    {
     "name": "stdout",
     "output_type": "stream",
     "text": [
      "('pH', None) fs.combined_block.pH\n",
      "('scalingTendency', 'Calcite') fs.combined_block.scaling_tendencies[Calcite]\n",
      "('scalingTendency', 'Gypsum') fs.combined_block.scaling_tendencies[Gypsum]\n"
     ]
    }
   ],
   "source": [
    "m.fs.combined_block = Block()\n",
    "m.fs.combined_block.pH = Var(initialize=1)\n",
    "set_scaling_factor(m.fs.combined_block, 1)\n",
    "m.fs.combined_block.scaling_tendencies = Var(\n",
    "    [\"Calcite\", \"Gypsum\"],\n",
    "    initialize=1,\n",
    ")\n",
    "set_scaling_factor(m.fs.combined_block.scaling_tendencies, 1)\n",
    "m.fs.combined_block.outputs = {(\"pH\", None): m.fs.combined_block.pH}\n",
    "\n",
    "for key, obj in m.fs.combined_block.scaling_tendencies.items():\n",
    "    m.fs.combined_block.outputs[(\"scalingTendency\", key)] = obj\n",
    "for key, obj in m.fs.combined_block.outputs.items():\n",
    "    print(key, obj)"
   ]
  },
  {
   "cell_type": "markdown",
   "metadata": {},
   "source": [
    "Build Rektoro block with speciation, note how we now set build_speciation_block option to true. \n",
    "We also use the sea_water block inputs and species flows."
   ]
  },
  {
   "cell_type": "code",
   "execution_count": 68,
   "metadata": {},
   "outputs": [
    {
     "name": "stdout",
     "output_type": "stream",
     "text": [
      "2024-09-11 13:28:37 [INFO] idaes.reaktoro_pse.core.reaktoro_inputs: Exact speciation is not provided! Fixing aqueous solvent and, excluding H\n",
      "2024-09-11 13:28:37 [INFO] idaes.reaktoro_pse.core.reaktoro_inputs: Exact speciation is not provided! Fixing aqueous solvent and, excluding O\n"
     ]
    },
    {
     "name": "stdout",
     "output_type": "stream",
     "text": [
      "2024-09-11 13:28:37 [INFO] idaes.reaktoro_pse.core.reaktoro_gray_box: RKT gray box using BFGS hessian type\n",
      "2024-09-11 13:28:37 [WARNING] idaes.reaktoro_pse.core.reaktoro_inputs: Registered an empty constraint for ['OH-', 'H+'], this can lead to unexpected results depending on reaktoro configuration, please use with caution\n",
      "2024-09-11 13:28:37 [WARNING] idaes.reaktoro_pse.core.reaktoro_inputs: Registered an empty constraint for ['OH-', 'H+'], this can lead to unexpected results depending on reaktoro configuration, please use with caution\n",
      "2024-09-11 13:28:37 [INFO] idaes.reaktoro_pse.core.reaktoro_gray_box: RKT gray box using BFGS hessian type\n"
     ]
    }
   ],
   "source": [
    "m.fs.combined_block.eq_reaktoro_properties = ReaktoroBlock(\n",
    "    build_speciation_block=True,\n",
    "    system_state={\n",
    "        \"temperature\": m.fs.sea_water.temperature,\n",
    "        \"pressure\": m.fs.sea_water.pressure,\n",
    "        \"pH\": m.fs.sea_water.pH,\n",
    "    },\n",
    "    aqueous_phase={\n",
    "        \"composition\": m.fs.sea_water.species_mass_flow,  # This is the spices mass flow\n",
    "        \"convert_to_rkt_species\": True,  # We can use default converter as its defined for default database (Phreeqc and pitzer)\n",
    "        \"activity_model\": reaktoro.ActivityModelPitzer(),  # Can provide a string, or Reaktoro initialized class\n",
    "        \"fixed_solvent_specie\": \"H2O\",  # We need to define our aqueous solvent as we have to speciate the block\n",
    "    },\n",
    "    chemistry_modifier={\n",
    "        \"HCl\": m.fs.acid_mass_flow\n",
    "    },  # here we define that we are adding 'HCL' as acid and its mass flow\n",
    "    outputs=m.fs.combined_block.outputs,  # outputs we desired\n",
    "    database_file=\"pitzer.dat\",  # needs to be a string that names the database file or points to its location\n",
    "    dissolve_species_in_reaktoro=True,  # This will sum up all species into elements in Reaktoro directly, if set to false, it will build Pyomo constraints instead\n",
    "    assert_charge_neutrality=False,  # This is True by Default, but here we actually want to adjust the input speciation till the charge is zero\n",
    "    reaktoro_solve_options={\n",
    "        \"open_species_on_property_block\": [\n",
    "            \"OH-\",\n",
    "            \"H+\",\n",
    "        ]\n",
    "    },  # This option helps stabilize Reaktoro by providing redundant constraints and generally does not impact final solution.\n",
    ")"
   ]
  },
  {
   "cell_type": "markdown",
   "metadata": {},
   "source": [
    "#### Initialize the block\n",
    "\n",
    "Note how we get initialization messages for two blocks, the speciation block and property block."
   ]
  },
  {
   "cell_type": "code",
   "execution_count": 69,
   "metadata": {},
   "outputs": [
    {
     "name": "stdout",
     "output_type": "stream",
     "text": [
      "2024-09-11 13:28:37 [INFO] idaes.reaktoro_pse.reaktoro_block: ---initializing speciation block for fs.combined_block.eq_reaktoro_properties----\n",
      "2024-09-11 13:28:37 [INFO] idaes.reaktoro_pse.core.reaktoro_state: Equilibrated successfully\n",
      "2024-09-11 13:28:38 [INFO] idaes.reaktoro_pse.core.reaktoro_block_builder: Initialized rkt block\n",
      "2024-09-11 13:28:38 [INFO] idaes.reaktoro_pse.reaktoro_block: ---initializing property block for fs.combined_block.eq_reaktoro_properties----\n",
      "2024-09-11 13:28:38 [INFO] idaes.reaktoro_pse.core.reaktoro_state: Equilibrated successfully\n",
      "2024-09-11 13:28:38 [INFO] idaes.reaktoro_pse.core.reaktoro_block_builder: Initialized rkt block\n"
     ]
    }
   ],
   "source": [
    "m.fs.combined_block.eq_reaktoro_properties.initialize()"
   ]
  },
  {
   "cell_type": "markdown",
   "metadata": {},
   "source": [
    "Set new pH target and solve all the blocks again"
   ]
  },
  {
   "cell_type": "code",
   "execution_count": 70,
   "metadata": {},
   "outputs": [
    {
     "name": "stdout",
     "output_type": "stream",
     "text": [
      "cyipopt-watertap: cyipopt with user variable scaling and IDAES jacobian constraint scaling\n",
      "This is Ipopt version 3.14.16, running with linear solver MUMPS 5.7.2.\n",
      "\n",
      "Number of nonzeros in equality constraint Jacobian...:      741\n",
      "Number of nonzeros in inequality constraint Jacobian.:        0\n",
      "Number of nonzeros in Lagrangian Hessian.............:       25\n",
      "\n",
      "Total number of variables............................:      146\n",
      "                     variables with only lower bounds:       58\n",
      "                variables with lower and upper bounds:        0\n",
      "                     variables with only upper bounds:        0\n",
      "Total number of equality constraints.................:      146\n",
      "Total number of inequality constraints...............:        0\n",
      "        inequality constraints with only lower bounds:        0\n",
      "   inequality constraints with lower and upper bounds:        0\n",
      "        inequality constraints with only upper bounds:        0\n",
      "\n",
      "iter    objective    inf_pr   inf_du lg(mu)  ||d||  lg(rg) alpha_du alpha_pr  ls\n",
      "   0  0.0000000e+00 6.61e-02 1.00e+00  -1.0 0.00e+00    -  0.00e+00 0.00e+00   0\n",
      "   1  0.0000000e+00 1.36e-01 1.85e+02  -1.0 3.09e+02    -  4.28e-01 1.00e+00h  1\n",
      "   2  0.0000000e+00 6.78e-03 1.16e-01  -1.0 1.25e+02    -  8.17e-01 1.00e+00h  1\n",
      "   3  0.0000000e+00 1.87e-05 1.07e-03  -1.0 7.77e+00    -  1.00e+00 1.00e+00h  1\n",
      "   4  0.0000000e+00 2.93e-10 0.00e+00  -2.5 2.16e-02    -  1.00e+00 1.00e+00h  1\n",
      "\n",
      "Number of Iterations....: 4\n",
      "\n",
      "                                   (scaled)                 (unscaled)\n",
      "Objective...............:   0.0000000000000000e+00    0.0000000000000000e+00\n",
      "Dual infeasibility......:   0.0000000000000000e+00    0.0000000000000000e+00\n",
      "Constraint violation....:   1.4877200271730665e-09    2.9344793261998348e-10\n",
      "Variable bound violation:   0.0000000000000000e+00    0.0000000000000000e+00\n",
      "Complementarity.........:   0.0000000000000000e+00    0.0000000000000000e+00\n",
      "Overall NLP error.......:   1.4877200271730665e-09    2.9344793261998348e-10\n",
      "\n",
      "\n",
      "Number of objective function evaluations             = 5\n",
      "Number of objective gradient evaluations             = 5\n",
      "Number of equality constraint evaluations            = 5\n",
      "Number of inequality constraint evaluations          = 0\n",
      "Number of equality constraint Jacobian evaluations   = 5\n",
      "Number of inequality constraint Jacobian evaluations = 0\n",
      "Number of Lagrangian Hessian evaluations             = 4\n",
      "Total seconds in IPOPT                               = 1.439\n",
      "\n",
      "EXIT: Optimal Solution Found.\n"
     ]
    }
   ],
   "source": [
    "\"\"\"Fix new pH target\"\"\"\n",
    "\n",
    "m.fs.modified_sea_water.pH.fix(6.5)\n",
    "cy_solver = get_solver(solver=\"cyipopt-watertap\")\n",
    "cy_solver.options[\"max_iter\"] = 25\n",
    "result = cy_solver.solve(m, tee=True)\n",
    "assert_optimal_termination(result)"
   ]
  },
  {
   "cell_type": "markdown",
   "metadata": {},
   "source": [
    "Compare outputs between modified block and combine blocks"
   ]
  },
  {
   "cell_type": "code",
   "execution_count": 72,
   "metadata": {},
   "outputs": [
    {
     "name": "stdout",
     "output_type": "stream",
     "text": [
      "('pH', None) Modified block result: 6.5 Combined block result: 6.50000000000402\n",
      "('scalingTendency', 'Calcite') Modified block result: 0.05914069504427688 Combined block result: 0.059140695044997055\n",
      "('scalingTendency', 'Gypsum') Modified block result: 0.20015129373415003 Combined block result: 0.2001512937341513\n"
     ]
    }
   ],
   "source": [
    "for key in m.fs.combined_block.outputs:\n",
    "    print(\n",
    "        key,\n",
    "        \"Modified block result:\",\n",
    "        m.fs.modified_sea_water.outputs[key].value,\n",
    "        \"Combined block result:\",\n",
    "        m.fs.combined_block.outputs[key].value,\n",
    "    )"
   ]
  }
 ],
 "metadata": {
  "kernelspec": {
   "display_name": "reaktoro-pse-dev",
   "language": "python",
   "name": "python3"
  },
  "language_info": {
   "codemirror_mode": {
    "name": "ipython",
    "version": 3
   },
   "file_extension": ".py",
   "mimetype": "text/x-python",
   "name": "python",
   "nbconvert_exporter": "python",
   "pygments_lexer": "ipython3",
   "version": "3.11.9"
  }
 },
 "nbformat": 4,
 "nbformat_minor": 4
}
