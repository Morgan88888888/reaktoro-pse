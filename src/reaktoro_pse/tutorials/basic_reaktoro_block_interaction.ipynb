{
 "cells": [
  {
   "cell_type": "markdown",
   "metadata": {},
   "source": [
    "# Tutorial on interacting with ReaktoroBlock\n",
    "Demonstration of how use Reaktoro block in practical settings. \n",
    "\n",
    "## Dependencies\n",
    "* Python - Programming language\n",
    "* Pyomo - Python package for equation-oriented modeling\n",
    "* IDAES - Python package extending Pyomo for flowsheet modeling\n",
    "* cyipopt - Solver necessary for use with gray box models\n",
    "* Reaktoro-pse - Python package for building Reaktoro gray box models\n",
    "* WaterTAP - Unit models"
   ]
  },
  {
   "cell_type": "markdown",
   "metadata": {},
   "source": [
    "## Demonstration structure \n",
    "* Background on speciation and Reaktoro-pse philosophy \n",
    "* Setting up basic speciation block and calculating properties for a feed composition\n",
    "    * Demonstrate key configuration options\n",
    "    * Key display options\n",
    "    * How to adjust apparent species to achieve thermodynamic zero charge\n",
    "    * add chemistry \n",
    "\n"
   ]
  },
  {
   "cell_type": "markdown",
   "metadata": {},
   "source": [
    "## Reaktoro-PSE API and structure \n",
    "Reaktoro-pse is a wrapper for enabling use of [Reaktoro](https://reaktoro.org/) as a [Graybox model](https://pyomo.readthedocs.io/en/stable/contributed_packages/pynumero/pynumero.interfaces.external_grey_box_model.html) in IDAES compatible modeling platforms such as WaterTAP. This is not a replacement for Reaktoro or higher level API for Reaktoro. \n",
    "\n",
    "The general objective is to provide a structure that enables user to automatically build Reaktoro Graybox model by specifying:\n",
    "\n",
    "* Input ion composition (apprant  or exact species)\n",
    "* System temperature, pressure, pH, and charge neutrality\n",
    "* Rekatoro databases and activity models\n",
    "* Outputs supported by Reaktoro and custom outputs built using Reaktoro database information and outputs \n",
    "\n",
    "The general API structure is shown in Figure bellow. The figure shows the type of inputs and outputs and how they are handled by core api to configure Reaktoro Graybox model. "
   ]
  },
  {
   "cell_type": "markdown",
   "metadata": {},
   "source": [
    "<img src=\"reaktoro_pse_api.png\" width=\"1000\" height=\"650\">"
   ]
  },
  {
   "cell_type": "markdown",
   "metadata": {},
   "source": [
    "Reaktoro-pse supports all available databases and activity models provided by Reaktoro:\n",
    "* Please refer here for information on [databases](https://reaktoro.org/tutorials/basics/loading-databases.html) (all are supported) \n",
    "* Please refer here for information on [activity models](https://reaktoro.org/tutorials/basics/specifying-activity-models.html) (all are supported, included chain operations, or passing in pre-configured activity models) \n",
    "\n",
    "Reaktoro-pse supports all properties that provide as single floating point or real value as an output from chemical and aqueous properties: \n",
    "* [Chemical properties](https://reaktoro.org/api/classReaktoro_1_1ChemicalProps.html)\n",
    "* [Aqueous properties](https://reaktoro.org/api/classReaktoro_1_1AqueousProps.html)\n",
    "* Pyomo build properties, which are custom properties built in Pyomo that use chemical properties or aqueous properties "
   ]
  },
  {
   "cell_type": "markdown",
   "metadata": {},
   "source": [
    "## ReaktoroBlock builds Reaktoro Graybox usings standard IDAES StateBlock methods\n",
    "\n",
    "The ReaktoroBlock automates construction of reaktoro Graybox as a IDAES [StateBlock](https://idaes-pse.readthedocs.io/en/stable/explanations/components/property_package/state_block.html), providing range of configuration of options to simplify performing equilibrium chemistry calculations:\n",
    "\n",
    "* Enables construction of speciation block and propagation of exact spetiation to property block to enable chemistry modification\n",
    "* Supports indexing \n",
    "* Provides options to configure reaktoro property block (and if constructed speciation block) \n",
    "* Uses core api functionality to automatically scale input and output variables and constraints if user does not provide any\n",
    "* Automatically scales gray box jacobian \n",
    "* Provides defaults to simplify configuration and usage for typical calculations \n",
    "\n",
    "**Minimal configuration options required for RreaktoroBlock:**\n",
    "* Database and database file selection from Reaktoro\n",
    "* Activity models for phases being considered from Reaktoro\n",
    "* Input apparent or exact species mol or mass flows (**concentrations are not supported!**)\n",
    "* If speciation block is needed (if exact speciation is not provided then generally yes)\n",
    "* System states (temperature, pressure, or pH, unless they are being solved for)\n",
    "* Outputs of interest "
   ]
  },
  {
   "cell_type": "markdown",
   "metadata": {},
   "source": [
    "### Example for speciation of NaCl and use with RO model"
   ]
  },
  {
   "cell_type": "markdown",
   "metadata": {},
   "source": [
    "## Import needed modules"
   ]
  },
  {
   "cell_type": "code",
   "execution_count": 120,
   "metadata": {},
   "outputs": [],
   "source": [
    "## Import core components\n",
    "# Pyomo core components\n",
    "from pyomo.environ import (\n",
    "    Var,\n",
    "    Constraint,\n",
    "    TransformationFactory,\n",
    "    Reals,\n",
    "    ConcreteModel,\n",
    "    value,\n",
    "    assert_optimal_termination,\n",
    "    units as pyunits,\n",
    ")\n",
    "from pyomo.network import Arc\n",
    "\n",
    "# Ideas core components\n",
    "from idaes.core import FlowsheetBlock\n",
    "from idaes.core.util.scaling import (\n",
    "    calculate_scaling_factors,\n",
    "    set_scaling_factor,\n",
    "    constraint_scaling_transform,\n",
    ")\n",
    "\n",
    "from idaes.core.util.model_statistics import degrees_of_freedom\n",
    "from watertap.core.solvers import get_solver\n",
    "\n",
    "from idaes.core.util.initialization import propagate_state\n",
    "\n",
    "from idaes.models.unit_models import Feed\n",
    "from pyomo.util.calc_var_value import calculate_variable_from_constraint\n",
    "\n",
    "# WaterTAP core components\n",
    "import watertap.property_models.NaCl_prop_pack as properties\n",
    "\n",
    "# Import reaktoro-pse and reaktoro\n",
    "from reaktoro_pse.reaktoro_block import ReaktoroBlock\n",
    "import reaktoro"
   ]
  },
  {
   "cell_type": "markdown",
   "metadata": {},
   "source": [
    "### Incorporating Reaktoro to calculate Seawater properties in Reverse Osmosis Desalination\n",
    "Sea water desalination is a common process. Here it is demonstrated how ReaktoroBlock can be used:\n",
    " 1) Calculate feed density, achieve charge neutrality, and estimate amount of acid need to operate at target pH\n",
    " 2) Calculate osmotic pressure on each node of 1D WaterTAP RO model"
   ]
  },
  {
   "cell_type": "code",
   "execution_count": 121,
   "metadata": {},
   "outputs": [],
   "source": [
    "\"\"\"This a typical composition of sea water with ion concentration in mg/L and pH\"\"\"\n",
    "\n",
    "sea_water_composition = {\n",
    "    \"Na\": 10556,\n",
    "    \"K\": 380,\n",
    "    \"Ca\": 400,\n",
    "    \"Mg\": 1262,\n",
    "    \"Cl\": 17000,\n",
    "    \"SO4\": 2649,\n",
    "    \"HCO3\": 140,\n",
    "}\n",
    "sea_water_ph = 7.56"
   ]
  },
  {
   "cell_type": "markdown",
   "metadata": {},
   "source": [
    "### Define standard Pyomo model and WaterTAP property package"
   ]
  },
  {
   "cell_type": "code",
   "execution_count": 122,
   "metadata": {},
   "outputs": [],
   "source": [
    "m = ConcreteModel()\n",
    "# create IDAES flowsheet\n",
    "m.fs = FlowsheetBlock(dynamic=False)\n",
    "# create NaCl property model\n",
    "m.fs.properties = properties.NaClParameterBlock()\n",
    "# build feed\n",
    "m.fs.feed = Feed(property_package=m.fs.properties)"
   ]
  },
  {
   "cell_type": "markdown",
   "metadata": {},
   "source": [
    "### Define inputs for Reaktoro and outputs\n",
    "The NaCl prop package does not track spiceies so we will create new variable sets to track thesese as well as needed outputs"
   ]
  },
  {
   "cell_type": "code",
   "execution_count": 123,
   "metadata": {},
   "outputs": [],
   "source": [
    "\"\"\"Need to create true feed composition, the default NaCl property block only tracks NaCl\"\"\"\n",
    "\n",
    "# Get ions\n",
    "ions = list(sea_water_composition.keys())\n",
    "#\n",
    "m.fs.feed.species_concentrations = Var(\n",
    "    ions, initialize=1, bounds=(0, None), units=pyunits.mg / pyunits.L\n",
    ")\n",
    "\n",
    "\"\"\"ReaktoroBlock needs mass flows of all the species\"\"\"\n",
    "ions.append(\"H2O\")\n",
    "m.fs.feed.species_mass_flow = Var(\n",
    "    ions, initialize=1, bounds=(0, None), units=pyunits.kg / pyunits.s\n",
    ")\n",
    "\n",
    "\"\"\"Create pH variable for feed\"\"\"\n",
    "m.fs.feed.pH = Var(initialize=sea_water_ph)\n",
    "m.fs.feed.pH.fix()\n",
    "\n",
    "\"\"\"The solution is not charge neutralized, so to get true TDS, we will need to adjust concentration of one of the ions\"\"\"\n",
    "m.fs.feed.reaktoro_charge = Var(initialize=0, bounds=(None, None))\n",
    "set_scaling_factor(m.fs.feed.reaktoro_charge, 1e8)\n",
    "\n",
    "\"\"\"To get true flow mass, the density is needed for the solution, we can get that from reaktoro\"\"\"\n",
    "m.fs.feed.reaktoro_density = Var(\n",
    "    initialize=1000, units=pyunits.kg / pyunits.m**3\n",
    ")  # default density unit returned by reaktoro - https://reaktoro.org/api/classReaktoro_1_1ChemicalProps.html#afd97c7985258fa29f5a69634c07a0ac7\n",
    "\n",
    "\"\"\" We can also get osmotic pressure to compare to NaCl prop pack predictions, and pH after acid addition\"\"\"\n",
    "m.fs.feed.reaktoro_osmotic_pressure = Var(initialize=1, units=pyunits.Pa)\n",
    "m.fs.feed.reaktoro_adjusted_pH = Var(initialize=1, units=pyunits.dimensionless)\n",
    "\n",
    "\"\"\" We will want to add a dose of acid to the feed to drop the pH to typical operating point of RO\"\"\"\n",
    "m.fs.acid_dose = Var(initialize=0, units=pyunits.mg / pyunits.L)\n",
    "m.fs.acid_mass_flow = Var(\n",
    "    initialize=0, units=pyunits.kg / pyunits.s\n",
    ")  # Reaktoro will use massflow as input!"
   ]
  },
  {
   "cell_type": "markdown",
   "metadata": {},
   "source": [
    "### Writing constraints for calculation of mass flows"
   ]
  },
  {
   "cell_type": "code",
   "execution_count": 124,
   "metadata": {},
   "outputs": [],
   "source": [
    "\"\"\"Write constraints to convert concentration to mass flows\"\"\"\n",
    "\n",
    "@m.fs.feed.Constraint(list(m.fs.feed.species_mass_flow.keys()))\n",
    "def eq_feed_species_mass_flow(fs, ion):\n",
    "    if ion == \"H2O\":\n",
    "        return (\n",
    "            m.fs.feed.species_mass_flow[\"H2O\"]\n",
    "            == m.fs.feed.properties[0].flow_mass_phase_comp[\"Liq\", \"H2O\"]\n",
    "        )\n",
    "    else:\n",
    "        \"\"\"calculate mass flow based on density\"\"\"\n",
    "        return m.fs.feed.species_mass_flow[ion] == pyunits.convert(\n",
    "            m.fs.feed.species_concentrations[ion]\n",
    "            * m.fs.feed.properties[0].flow_mass_phase_comp[(\"Liq\", \"H2O\")]\n",
    "            / m.fs.feed.reaktoro_density,\n",
    "            to_units=pyunits.kg / pyunits.s,\n",
    "        )\n",
    "\n",
    "\n",
    "\"\"\" Need NaCl for the NaCl property package in watertap \"\"\"\n",
    "m.fs.feed.eq_NaCl = Constraint(\n",
    "    expr=m.fs.feed.properties[0].flow_mass_phase_comp[(\"Liq\", \"NaCl\")]\n",
    "    == sum(m.fs.feed.species_mass_flow[ion] for ion in m.fs.feed.species_concentrations)\n",
    ")\n",
    "\n",
    "\"\"\" Calculate acid dose \"\"\"\n",
    "m.fs.eq_acid_dose = Constraint(\n",
    "    expr=m.fs.acid_mass_flow\n",
    "    == pyunits.convert(\n",
    "        m.fs.acid_dose\n",
    "        * m.fs.feed.properties[0].flow_mass_phase_comp[(\"Liq\", \"H2O\")]\n",
    "        / m.fs.feed.reaktoro_density,\n",
    "        to_units=pyunits.kg / pyunits.s,\n",
    "    )\n",
    ")"
   ]
  },
  {
   "cell_type": "markdown",
   "metadata": {},
   "source": [
    "### Reaktoro Block output dict"
   ]
  },
  {
   "cell_type": "code",
   "execution_count": 125,
   "metadata": {},
   "outputs": [],
   "source": [
    "\"\"\"We need to define an output dictionary with our properties - this can also be an Pyomo IndexedVar please check examples in examples folder for how to use IndexedVars as outputs\"\"\"\n",
    "\n",
    "m.fs.feed.reaktoro_outputs = {\n",
    "    (\n",
    "        \"pH\",\n",
    "        None,\n",
    "    ): m.fs.feed.reaktoro_adjusted_pH,  # the \"None\" in second index is defined to indicate its a system property rather then specific component\n",
    "    (\n",
    "        \"osmoticPressure\",\n",
    "        \"H2O\",\n",
    "    ): m.fs.feed.reaktoro_osmotic_pressure,  # not how the second key is the water, we can get osmotic pressure for different components in the system\n",
    "    (\"density\", None): m.fs.feed.reaktoro_density,\n",
    "    (\"charge\", None): m.fs.feed.reaktoro_charge,\n",
    "    \"speciesAmount\": True, } # - this will force reaktor to return exact speciation with all species"
   ]
  },
  {
   "cell_type": "markdown",
   "metadata": {},
   "source": [
    "### Configure ReaktoroBlock\n",
    "We are dealing with seawater desalination, which implies operation at high salinity and pressure for such conditions the PhreeqC Pitzer data base is a good choice \n",
    "For comparison of PhreeqC data base following paper is a good reference: https://doi.org/10.1016/j.earscirev.2021.103888 "
   ]
  },
  {
   "cell_type": "code",
   "execution_count": 126,
   "metadata": {},
   "outputs": [
    {
     "name": "stdout",
     "output_type": "stream",
     "text": [
      "2024-09-02 12:13:36 [INFO] idaes.reaktoro_pse.core.reaktoro_inputs: Exact speciation is not provided! Fixing aqueous solvent and, excluding H\n",
      "2024-09-02 12:13:36 [INFO] idaes.reaktoro_pse.core.reaktoro_inputs: Exact speciation is not provided! Fixing aqueous solvent and, excluding O\n",
      "2024-09-02 12:13:36 [INFO] idaes.reaktoro_pse.core.reaktoro_gray_box: RKT gray box using Jt.J hessian type\n",
      "2024-09-02 12:13:36 [WARNING] idaes.reaktoro_pse.core.reaktoro_inputs: Registered an empty constraint for ['H+', 'OH-'], this can lead to unexpected results depending on reaktoro configuration, please use with caution\n",
      "2024-09-02 12:13:36 [WARNING] idaes.reaktoro_pse.core.reaktoro_inputs: Registered an empty constraint for ['H+', 'OH-'], this can lead to unexpected results depending on reaktoro configuration, please use with caution\n",
      "2024-09-02 12:13:37 [INFO] idaes.reaktoro_pse.core.reaktoro_gray_box: RKT gray box using Jt.J hessian type\n"
     ]
    }
   ],
   "source": [
    "from reaktoro_pse.reaktoro_block_config import reaktoro_solver_options\n",
    "\n",
    "\n",
    "m.fs.feed.reaktoro_properties = ReaktoroBlock(\n",
    "    aqueous_phase={\n",
    "        \"composition\": m.fs.feed.species_mass_flow,  # This is the spices mass flow\n",
    "        \"convert_to_rkt_species\": True,  # We can use default converter as its defined for default database (Phreeqc and pitzer)\n",
    "        \"activity_model\": reaktoro.ActivityModelPitzer(),  # Can provide a string, or Reaktoro initialized class\n",
    "        \"fixed_solvent_specie\": \"H2O\",  # We need to define our aqueous solvent as we have to speciate the block\n",
    "    },\n",
    "    system_state={\n",
    "        \"temperature\": m.fs.feed.properties[0].temperature,\n",
    "        \"pressure\": m.fs.feed.properties[0].pressure,\n",
    "        \"pH\": m.fs.feed.pH,\n",
    "    },\n",
    "    outputs=m.fs.feed.reaktoro_outputs,  # outputs we desired\n",
    "    chemistry_modifier={\n",
    "        \"HCl\": m.fs.acid_mass_flow\n",
    "    },  # here we define that we are adding 'HCL' as acid and its mass flow\n",
    "    database=\"PhreeqcDatabase\",  # Can provide a string, or Reaktoro initialized class reaktor.PhreeqcDatabase()\n",
    "    database_file=\"pitzer.dat\",  # needs to be a string that names the database file or points to its location\n",
    "    dissolve_species_in_reaktoro=True,  # This will sum up all species into elements in Reaktoro directly, if set to false, it will build Pyomo constraints instead\n",
    "    assert_charge_neutrality=False,  # This is True by Default, but here we actually want to adjust the input speciation till the charge is zero\n",
    "    reaktoro_solve_options={\n",
    "        \"open_species_on_property_block\": [\n",
    "            \"H+\",\n",
    "            \"OH-\",\n",
    "        ]\n",
    "    },  # This option helps stabilize Reaktoro by providing redundant constraints and generally does not impact final solution.\n",
    "    build_speciation_block=True,  # We provided apparent species so we need to speciate them.\n",
    ")"
   ]
  },
  {
   "cell_type": "markdown",
   "metadata": {},
   "source": [
    "### Inspecting Reaktoro block outputs and inputs"
   ]
  },
  {
   "cell_type": "markdown",
   "metadata": {},
   "source": [
    "Lets inspect inputs into the Graybox model on speciation block"
   ]
  },
  {
   "cell_type": "code",
   "execution_count": 127,
   "metadata": {},
   "outputs": [
    {
     "name": "stdout",
     "output_type": "stream",
     "text": [
      "inputs : Size=11, Index=fs.feed.reaktoro_properties.speciation_block.reaktoro_model._input_names_set\n",
      "    Key         : Lower : Value : Upper : Fixed : Stale : Domain\n",
      "          CO3-2 :     0 :     1 :  None : False : False :  Reals\n",
      "           Ca+2 :     0 :     1 :  None : False : False :  Reals\n",
      "            Cl- :     0 :     1 :  None : False : False :  Reals\n",
      "            H2O :     0 :     1 :  None : False : False :  Reals\n",
      "             K+ :     0 :     1 :  None : False : False :  Reals\n",
      "           Mg+2 :     0 :     1 :  None : False : False :  Reals\n",
      "            Na+ :     0 :     1 :  None : False : False :  Reals\n",
      "          SO4-2 :     0 :     1 :  None : False : False :  Reals\n",
      "             pH :     0 :     1 :  None : False : False :  Reals\n",
      "       pressure :     0 :     1 :  None : False : False :  Reals\n",
      "    temperature :     0 :     1 :  None : False : False :  Reals\n"
     ]
    }
   ],
   "source": [
    "m.fs.feed.reaktoro_properties.speciation_block.reaktoro_model.inputs.display()"
   ]
  },
  {
   "cell_type": "markdown",
   "metadata": {},
   "source": [
    "This inputs are converted to element sums, with in reaktoro and we can inspect them for each block\n",
    "useing lower level api calls "
   ]
  },
  {
   "cell_type": "code",
   "execution_count": 128,
   "metadata": {},
   "outputs": [
    {
     "name": "stdout",
     "output_type": "stream",
     "text": [
      "C [(1.0, 'CO3-2')]\n",
      "Na [(1.0, 'Na+')]\n",
      "Mg [(1.0, 'Mg+2')]\n",
      "S [(1.0, 'SO4-2')]\n",
      "Cl [(1.0, 'Cl-')]\n",
      "K [(1.0, 'K+')]\n",
      "Ca [(1.0, 'Ca+2')]\n"
     ]
    }
   ],
   "source": [
    "\"\"\" for speciation block\"\"\"\n",
    "\n",
    "conversion_dict = (\n",
    "    m.fs.feed.reaktoro_properties.speciation_block.rkt_inputs.constraint_dict\n",
    ")\n",
    "for element, species in conversion_dict.items():\n",
    "    print(element, species)"
   ]
  },
  {
   "cell_type": "code",
   "execution_count": 129,
   "metadata": {},
   "outputs": [
    {
     "name": "stdout",
     "output_type": "stream",
     "text": [
      "H [(2.0, 'H2O'), (1.0, 'H+'), (1.0, 'MgOH+'), (1.0, 'OH-'), (1.0, 'HSO4-'), (1.0, 'HCO3-'), (1, 'HCl')]\n",
      "C [(1.0, 'MgCO3'), (1.0, 'CO3-2'), (1.0, 'HCO3-'), (1.0, 'CO2')]\n",
      "O [(1.0, 'H2O'), (3.0, 'MgCO3'), (4.0, 'SO4-2'), (1.0, 'MgOH+'), (3.0, 'CO3-2'), (1.0, 'OH-'), (4.0, 'HSO4-'), (3.0, 'HCO3-'), (2.0, 'CO2')]\n",
      "Na [(1.0, 'Na+')]\n",
      "Mg [(1.0, 'MgCO3'), (1.0, 'MgOH+'), (1.0, 'Mg+2')]\n",
      "S [(1.0, 'SO4-2'), (1.0, 'HSO4-')]\n",
      "Cl [(1.0, 'Cl-'), (1, 'HCl')]\n",
      "K [(1.0, 'K+')]\n",
      "Ca [(1.0, 'Ca+2')]\n"
     ]
    }
   ],
   "source": [
    "\"\"\"for main block\"\"\"\n",
    "\n",
    "conversion_dict = m.fs.feed.reaktoro_properties.rkt_inputs.constraint_dict\n",
    "for element, species in conversion_dict.items():\n",
    "    print(element, species)"
   ]
  },
  {
   "cell_type": "markdown",
   "metadata": {},
   "source": [
    "Lets inspect outputs from speciation block, which produce exact stream speciation based on input"
   ]
  },
  {
   "cell_type": "code",
   "execution_count": 130,
   "metadata": {},
   "outputs": [
    {
     "name": "stdout",
     "output_type": "stream",
     "text": [
      "outputs : Size=15, Index={('speciesAmount', 'H2O'), ('speciesAmount', 'MgCO3'), ('speciesAmount', 'H+'), ('speciesAmount', 'K+'), ('speciesAmount', 'SO4-2'), ('speciesAmount', 'MgOH+'), ('speciesAmount', 'Na+'), ('speciesAmount', 'CO3-2'), ('speciesAmount', 'Cl-'), ('speciesAmount', 'Ca+2'), ('speciesAmount', 'OH-'), ('speciesAmount', 'HSO4-'), ('speciesAmount', 'Mg+2'), ('speciesAmount', 'HCO3-'), ('speciesAmount', 'CO2')}\n",
      "    Key                        : Lower : Value : Upper : Fixed : Stale : Domain\n",
      "      ('speciesAmount', 'CO2') :  None :     1 :  None : False : False :  Reals\n",
      "    ('speciesAmount', 'CO3-2') :  None :     1 :  None : False : False :  Reals\n",
      "     ('speciesAmount', 'Ca+2') :  None :     1 :  None : False : False :  Reals\n",
      "      ('speciesAmount', 'Cl-') :  None :     1 :  None : False : False :  Reals\n",
      "       ('speciesAmount', 'H+') :  None :     1 :  None : False : False :  Reals\n",
      "      ('speciesAmount', 'H2O') :  None :     1 :  None : False : False :  Reals\n",
      "    ('speciesAmount', 'HCO3-') :  None :     1 :  None : False : False :  Reals\n",
      "    ('speciesAmount', 'HSO4-') :  None :     1 :  None : False : False :  Reals\n",
      "       ('speciesAmount', 'K+') :  None :     1 :  None : False : False :  Reals\n",
      "     ('speciesAmount', 'Mg+2') :  None :     1 :  None : False : False :  Reals\n",
      "    ('speciesAmount', 'MgCO3') :  None :     1 :  None : False : False :  Reals\n",
      "    ('speciesAmount', 'MgOH+') :  None :     1 :  None : False : False :  Reals\n",
      "      ('speciesAmount', 'Na+') :  None :     1 :  None : False : False :  Reals\n",
      "      ('speciesAmount', 'OH-') :  None :     1 :  None : False : False :  Reals\n",
      "    ('speciesAmount', 'SO4-2') :  None :     1 :  None : False : False :  Reals\n"
     ]
    }
   ],
   "source": [
    "m.fs.feed.reaktoro_properties.speciation_block.outputs.display()"
   ]
  },
  {
   "cell_type": "markdown",
   "metadata": {},
   "source": [
    "Lets inspect inputs into main ReaktoroBlock Graybox\n",
    "\n",
    "Note how the speciation block outputs are now inputs into the model, including chemistry modifier HCl!"
   ]
  },
  {
   "cell_type": "code",
   "execution_count": 131,
   "metadata": {},
   "outputs": [
    {
     "name": "stdout",
     "output_type": "stream",
     "text": [
      "inputs : Size=18, Index=fs.feed.reaktoro_properties.reaktoro_model._input_names_set\n",
      "    Key         : Lower : Value : Upper : Fixed : Stale : Domain\n",
      "            CO2 :     0 :     1 :  None : False : False :  Reals\n",
      "          CO3-2 :     0 :     1 :  None : False : False :  Reals\n",
      "           Ca+2 :     0 :     1 :  None : False : False :  Reals\n",
      "            Cl- :     0 :     1 :  None : False : False :  Reals\n",
      "             H+ :     0 :     1 :  None : False : False :  Reals\n",
      "            H2O :     0 :     1 :  None : False : False :  Reals\n",
      "          HCO3- :     0 :     1 :  None : False : False :  Reals\n",
      "            HCl :     0 :     1 :  None : False : False :  Reals\n",
      "          HSO4- :     0 :     1 :  None : False : False :  Reals\n",
      "             K+ :     0 :     1 :  None : False : False :  Reals\n",
      "           Mg+2 :     0 :     1 :  None : False : False :  Reals\n",
      "          MgCO3 :     0 :     1 :  None : False : False :  Reals\n",
      "          MgOH+ :     0 :     1 :  None : False : False :  Reals\n",
      "            Na+ :     0 :     1 :  None : False : False :  Reals\n",
      "            OH- :     0 :     1 :  None : False : False :  Reals\n",
      "          SO4-2 :     0 :     1 :  None : False : False :  Reals\n",
      "       pressure :     0 :     1 :  None : False : False :  Reals\n",
      "    temperature :     0 :     1 :  None : False : False :  Reals\n"
     ]
    }
   ],
   "source": [
    "m.fs.feed.reaktoro_properties.reaktoro_model.inputs.display()"
   ]
  },
  {
   "cell_type": "markdown",
   "metadata": {},
   "source": [
    "Lets inspect outputs from main reaktoro model\n",
    "\n",
    "Note how we are missing osmoticPressure, and instead have speciesActivityLn and speciesStandardVolume as our outputs, this is becouse we osmoticPressure is a pyomo property, rather a native property supplied by reaktoro. You can inspect how this property is created by checking the:\n",
    "* osmoticPressure in PyomoProperties class located in reaktoro_pse.core.reaktoro_outputs\n",
    "* build_osmotic_constraint in reaktoro_pse.core.pyomo_property_writer.property_functions\n",
    "\n",
    "This two location will also show how we can access reaktoro database to pull out fixed parameters and create a custom pyomo property. "
   ]
  },
  {
   "cell_type": "code",
   "execution_count": 132,
   "metadata": {},
   "outputs": [
    {
     "name": "stdout",
     "output_type": "stream",
     "text": [
      "outputs : Size=21, Index=fs.feed.reaktoro_properties.reaktoro_model._output_names_set\n",
      "    Key                              : Lower : Value : Upper : Fixed : Stale : Domain\n",
      "                    ('charge', None) :  None :   0.1 :  None : False : False :  Reals\n",
      "                   ('density', None) :  None :   0.1 :  None : False : False :  Reals\n",
      "                        ('pH', None) :  None :   0.1 :  None : False : False :  Reals\n",
      "        ('speciesActivityLn', 'H2O') :  None :   0.1 :  None : False : False :  Reals\n",
      "            ('speciesAmount', 'CO2') :  None :   0.1 :  None : False : False :  Reals\n",
      "          ('speciesAmount', 'CO3-2') :  None :   0.1 :  None : False : False :  Reals\n",
      "           ('speciesAmount', 'Ca+2') :  None :   0.1 :  None : False : False :  Reals\n",
      "            ('speciesAmount', 'Cl-') :  None :   0.1 :  None : False : False :  Reals\n",
      "             ('speciesAmount', 'H+') :  None :   0.1 :  None : False : False :  Reals\n",
      "            ('speciesAmount', 'H2O') :  None :   0.1 :  None : False : False :  Reals\n",
      "          ('speciesAmount', 'HCO3-') :  None :   0.1 :  None : False : False :  Reals\n",
      "          ('speciesAmount', 'HSO4-') :  None :   0.1 :  None : False : False :  Reals\n",
      "             ('speciesAmount', 'K+') :  None :   0.1 :  None : False : False :  Reals\n",
      "           ('speciesAmount', 'Mg+2') :  None :   0.1 :  None : False : False :  Reals\n",
      "          ('speciesAmount', 'MgCO3') :  None :   0.1 :  None : False : False :  Reals\n",
      "          ('speciesAmount', 'MgOH+') :  None :   0.1 :  None : False : False :  Reals\n",
      "            ('speciesAmount', 'Na+') :  None :   0.1 :  None : False : False :  Reals\n",
      "            ('speciesAmount', 'OH-') :  None :   0.1 :  None : False : False :  Reals\n",
      "          ('speciesAmount', 'SO4-2') :  None :   0.1 :  None : False : False :  Reals\n",
      "    ('speciesStandardVolume', 'H2O') :  None :   0.1 :  None : False : False :  Reals\n",
      "               ('temperature', None) :  None :   0.1 :  None : False : False :  Reals\n"
     ]
    }
   ],
   "source": [
    "m.fs.feed.reaktoro_properties.reaktoro_model.outputs.display()"
   ]
  },
  {
   "cell_type": "markdown",
   "metadata": {},
   "source": [
    "Now lets check the final reaktoro output that are built on ReaktoroBlock\n",
    "\n",
    "Note how only specie amounts are present in an IndexedVar other properties are automatically connected to Variables we provided in our m.fs.feed.reaktoro_outputs dictionary. "
   ]
  },
  {
   "cell_type": "code",
   "execution_count": 133,
   "metadata": {},
   "outputs": [
    {
     "name": "stdout",
     "output_type": "stream",
     "text": [
      "outputs : Size=15, Index={('speciesAmount', 'H2O'), ('speciesAmount', 'MgCO3'), ('speciesAmount', 'H+'), ('speciesAmount', 'K+'), ('speciesAmount', 'SO4-2'), ('speciesAmount', 'MgOH+'), ('speciesAmount', 'Na+'), ('speciesAmount', 'CO3-2'), ('speciesAmount', 'Cl-'), ('speciesAmount', 'Ca+2'), ('speciesAmount', 'OH-'), ('speciesAmount', 'HSO4-'), ('speciesAmount', 'Mg+2'), ('speciesAmount', 'HCO3-'), ('speciesAmount', 'CO2')}\n",
      "    Key                        : Lower : Value : Upper : Fixed : Stale : Domain\n",
      "      ('speciesAmount', 'CO2') :  None :     1 :  None : False : False :  Reals\n",
      "    ('speciesAmount', 'CO3-2') :  None :     1 :  None : False : False :  Reals\n",
      "     ('speciesAmount', 'Ca+2') :  None :     1 :  None : False : False :  Reals\n",
      "      ('speciesAmount', 'Cl-') :  None :     1 :  None : False : False :  Reals\n",
      "       ('speciesAmount', 'H+') :  None :     1 :  None : False : False :  Reals\n",
      "      ('speciesAmount', 'H2O') :  None :     1 :  None : False : False :  Reals\n",
      "    ('speciesAmount', 'HCO3-') :  None :     1 :  None : False : False :  Reals\n",
      "    ('speciesAmount', 'HSO4-') :  None :     1 :  None : False : False :  Reals\n",
      "       ('speciesAmount', 'K+') :  None :     1 :  None : False : False :  Reals\n",
      "     ('speciesAmount', 'Mg+2') :  None :     1 :  None : False : False :  Reals\n",
      "    ('speciesAmount', 'MgCO3') :  None :     1 :  None : False : False :  Reals\n",
      "    ('speciesAmount', 'MgOH+') :  None :     1 :  None : False : False :  Reals\n",
      "      ('speciesAmount', 'Na+') :  None :     1 :  None : False : False :  Reals\n",
      "      ('speciesAmount', 'OH-') :  None :     1 :  None : False : False :  Reals\n",
      "    ('speciesAmount', 'SO4-2') :  None :     1 :  None : False : False :  Reals\n"
     ]
    }
   ],
   "source": [
    "m.fs.feed.reaktoro_properties.outputs.display()"
   ]
  },
  {
   "cell_type": "markdown",
   "metadata": {},
   "source": [
    "### Set default values for feed and scaling"
   ]
  },
  {
   "cell_type": "code",
   "execution_count": 134,
   "metadata": {},
   "outputs": [],
   "source": [
    "m.fs.feed.properties[0].temperature.fix(273 + 25)  # temperature (K)\n",
    "m.fs.feed.properties[0].pressure.fix(101325)  # pressure (Pa)\n",
    "m.fs.feed.properties[0].flow_mass_phase_comp[\"Liq\", \"H2O\"].fix(\n",
    "    0.965\n",
    ")  # mass flowrate of H2O (kg/s)\n",
    "m.fs.feed.properties[0].conc_mass_phase_comp[...]  # construct concentration props\n",
    "m.fs.feed.properties[0].pressure_osm_phase[...]\n",
    "m.fs.properties.set_default_scaling(\n",
    "    \"flow_mass_phase_comp\",\n",
    "    1 / 0.965,\n",
    "    index=(\"Liq\", \"H2O\"),\n",
    ")\n",
    "m.fs.properties.set_default_scaling(\n",
    "    \"flow_mass_phase_comp\",\n",
    "    1 / 0.035,  # aproximage scale\n",
    "    index=(\"Liq\", \"NaCl\"),\n",
    ")"
   ]
  },
  {
   "cell_type": "markdown",
   "metadata": {},
   "source": [
    "### Initialize our composition constraints and scale all the variables"
   ]
  },
  {
   "cell_type": "code",
   "execution_count": 135,
   "metadata": {},
   "outputs": [],
   "source": [
    "for ion, value in sea_water_composition.items():\n",
    "    m.fs.feed.species_concentrations[ion].fix(value)\n",
    "    set_scaling_factor(m.fs.feed.species_concentrations[ion], 1 / value)\n",
    "\n",
    "for comp, pyoobj in m.fs.feed.eq_feed_species_mass_flow.items():\n",
    "    calculate_variable_from_constraint(m.fs.feed.species_mass_flow[comp], pyoobj)\n",
    "    set_scaling_factor(\n",
    "        m.fs.feed.species_mass_flow[ion], 1 / m.fs.feed.species_mass_flow[comp].value\n",
    "    )\n",
    "    constraint_scaling_transform(pyoobj, 1 / m.fs.feed.species_mass_flow[comp].value)\n",
    "\n",
    "\n",
    "calculate_variable_from_constraint(\n",
    "    m.fs.feed.properties[0].flow_mass_phase_comp[(\"Liq\", \"NaCl\")], m.fs.feed.eq_NaCl\n",
    ")\n",
    "constraint_scaling_transform(m.fs.feed.eq_NaCl, 1 / 0.035)\n",
    "\n",
    "set_scaling_factor(m.fs.feed.reaktoro_density, 1 / 1000)\n",
    "set_scaling_factor(m.fs.feed.reaktoro_osmotic_pressure, 1 / 1e5)\n",
    "set_scaling_factor(m.fs.feed.reaktoro_adjusted_pH, 1)\n",
    "set_scaling_factor(m.fs.feed.pH, 1)\n",
    "set_scaling_factor(m.fs.acid_mass_flow, 1e2)\n",
    "set_scaling_factor(m.fs.acid_dose, 1e-3)\n",
    "set_scaling_factor(m.fs.feed.reaktoro_charge, 1e8)"
   ]
  },
  {
   "cell_type": "markdown",
   "metadata": {},
   "source": [
    "### Intialize feed and reaktoro block. \n",
    "Reaktoro initialization does several steps:\n",
    "\n",
    "1) Initialize input constraints propagating them from user variables to Reaktoro graybox inputs\n",
    "2) Solve the Reaktoro block to get output properties \n",
    "3) Propagate Reaktoro solution through output constraints and to output variables \n",
    "4) Scale all input and output variables and constraints using either user provided scaling factors or by inverse of their value \n",
    "5) Scale the jacobian using user provided scaling or inverse of scaling factors of the gray box outputs\n",
    "\n",
    "This will in general provide a well scaled problem. "
   ]
  },
  {
   "cell_type": "code",
   "execution_count": 136,
   "metadata": {},
   "outputs": [
    {
     "name": "stdout",
     "output_type": "stream",
     "text": [
      "2024-09-02 12:13:37 [INFO] idaes.init.fs.feed: Initialization Complete.\n",
      "2024-09-02 12:13:37 [INFO] idaes.reaktoro_pse.core.reaktoro_state: Equilibrated successfully\n",
      "2024-09-02 12:13:37 [INFO] idaes.reaktoro_pse.core.reaktoro_block_builder: Initialized rkt block\n",
      "2024-09-02 12:13:37 [INFO] idaes.reaktoro_pse.core.reaktoro_state: Equilibrated successfully\n",
      "2024-09-02 12:13:37 [INFO] idaes.reaktoro_pse.core.reaktoro_block_builder: Initialized rkt block\n",
      "Density reaktoro 1022.0762152208728 Density NaCl prop pack 1018.7164667900701\n",
      "Osmotic pressure 2306930.392393324 Density NaCl prop pack 2542018.9084112146\n",
      "Adjusted pH 7.560000000075305\n",
      "Solution reaktoro_charge 0.05380713824779206\n"
     ]
    },
    {
     "name": "stderr",
     "output_type": "stream",
     "text": [
      "D:\\github\\reaktoro-pse\\src\\reaktoro_pse\\core\\reaktoro_jacobian.py:323: RuntimeWarning: invalid value encountered in divide\n",
      "  np.diff(values) / np.diff(self.numerical_steps * input_value)\n"
     ]
    }
   ],
   "source": [
    "solver = get_solver()  # get solver\n",
    "m.fs.feed.initialize(optarg=solver.options)\n",
    "m.fs.feed.reaktoro_properties.initialize()\n",
    "\"\"\" this is our exact composition!\"\"\"\n",
    "# m.fs.feed.reaktoro_properties.outputs.display()\n",
    "\n",
    "\"\"\" and these are manually defined properties and variables of interest \"\"\"\n",
    "print(\n",
    "    \"Density reaktoro\",\n",
    "    m.fs.feed.reaktoro_density.value,\n",
    "    \"Density NaCl prop pack\",\n",
    "    m.fs.feed.properties[0].dens_mass_phase[\"Liq\"].value,\n",
    ")\n",
    "print(\n",
    "    \"Osmotic pressure\",\n",
    "    m.fs.feed.reaktoro_osmotic_pressure.value,\n",
    "    \"Density NaCl prop pack\",\n",
    "    m.fs.feed.properties[0].pressure_osm_phase[\"Liq\"].value,\n",
    ")\n",
    "print(\"Adjusted pH\", m.fs.feed.reaktoro_adjusted_pH.value)\n",
    "print(\"Solution reaktoro_charge\", m.fs.feed.reaktoro_charge.value)"
   ]
  },
  {
   "cell_type": "markdown",
   "metadata": {},
   "source": [
    "We can check the jacobian scaling using provided tool, it will also return a dictionary with scaling factors. "
   ]
  },
  {
   "cell_type": "code",
   "execution_count": 137,
   "metadata": {},
   "outputs": [
    {
     "name": "stdout",
     "output_type": "stream",
     "text": [
      "2024-09-02 12:13:37 [INFO] idaes.reaktoro_pse.reaktoro_block: -----Displaying information for speciation block ------\n",
      "2024-09-02 12:13:37 [INFO] idaes.reaktoro_pse.core.reaktoro_block_builder: Jacobian scale for ('speciesAmount', 'H+') : 3.6980404144745577e-08, IDX: 0\n",
      "2024-09-02 12:13:37 [INFO] idaes.reaktoro_pse.core.reaktoro_block_builder: Jacobian scale for ('speciesAmount', 'H2O') : 53.563499111900526, IDX: 1\n",
      "2024-09-02 12:13:37 [INFO] idaes.reaktoro_pse.core.reaktoro_block_builder: Jacobian scale for ('speciesAmount', 'CO3-2') : 2.1445433578637287e-05, IDX: 2\n",
      "2024-09-02 12:13:37 [INFO] idaes.reaktoro_pse.core.reaktoro_block_builder: Jacobian scale for ('speciesAmount', 'CO2') : 8.114686961714109e-05, IDX: 3\n",
      "2024-09-02 12:13:37 [INFO] idaes.reaktoro_pse.core.reaktoro_block_builder: Jacobian scale for ('speciesAmount', 'Ca+2') : 0.009631002164385654, IDX: 4\n",
      "2024-09-02 12:13:37 [INFO] idaes.reaktoro_pse.core.reaktoro_block_builder: Jacobian scale for ('speciesAmount', 'Cl-') : 0.46271813844035137, IDX: 5\n",
      "2024-09-02 12:13:37 [INFO] idaes.reaktoro_pse.core.reaktoro_block_builder: Jacobian scale for ('speciesAmount', 'HCO3-') : 0.002128396381625551, IDX: 6\n",
      "2024-09-02 12:13:37 [INFO] idaes.reaktoro_pse.core.reaktoro_block_builder: Jacobian scale for ('speciesAmount', 'SO4-2') : 0.02660991466702055, IDX: 7\n",
      "2024-09-02 12:13:37 [INFO] idaes.reaktoro_pse.core.reaktoro_block_builder: Jacobian scale for ('speciesAmount', 'HSO4-') : 1.0015065684362326e-08, IDX: 8\n",
      "2024-09-02 12:13:37 [INFO] idaes.reaktoro_pse.core.reaktoro_block_builder: Jacobian scale for ('speciesAmount', 'Mg+2') : 0.05008757813300821, IDX: 9\n",
      "2024-09-02 12:13:37 [INFO] idaes.reaktoro_pse.core.reaktoro_block_builder: Jacobian scale for ('speciesAmount', 'K+') : 0.009379055998898631, IDX: 10\n",
      "2024-09-02 12:13:37 [INFO] idaes.reaktoro_pse.core.reaktoro_block_builder: Jacobian scale for ('speciesAmount', 'MgCO3') : 2.0220342574741862e-05, IDX: 11\n",
      "2024-09-02 12:13:37 [INFO] idaes.reaktoro_pse.core.reaktoro_block_builder: Jacobian scale for ('speciesAmount', 'MgOH+') : 6.144821296279712e-07, IDX: 12\n",
      "2024-09-02 12:13:37 [INFO] idaes.reaktoro_pse.core.reaktoro_block_builder: Jacobian scale for ('speciesAmount', 'Na+') : 0.44310011726165166, IDX: 13\n",
      "2024-09-02 12:13:37 [INFO] idaes.reaktoro_pse.core.reaktoro_block_builder: Jacobian scale for ('speciesAmount', 'OH-') : 5.820318169524698e-07, IDX: 14\n",
      "2024-09-02 12:13:37 [INFO] idaes.reaktoro_pse.reaktoro_block: -----Displaying information for property block ------\n",
      "2024-09-02 12:13:37 [INFO] idaes.reaktoro_pse.core.reaktoro_block_builder: Jacobian scale for ('pH', None) : 1.0, IDX: 0\n",
      "2024-09-02 12:13:37 [INFO] idaes.reaktoro_pse.core.reaktoro_block_builder: Jacobian scale for ('speciesStandardVolume', 'H2O') : 1.8068735534310935e-05, IDX: 1\n",
      "2024-09-02 12:13:37 [INFO] idaes.reaktoro_pse.core.reaktoro_block_builder: Jacobian scale for ('speciesActivityLn', 'H2O') : 0.016823324806228848, IDX: 2\n",
      "2024-09-02 12:13:37 [INFO] idaes.reaktoro_pse.core.reaktoro_block_builder: Jacobian scale for ('temperature', None) : 298.0, IDX: 3\n",
      "2024-09-02 12:13:37 [INFO] idaes.reaktoro_pse.core.reaktoro_block_builder: Jacobian scale for ('density', None) : 1000.0, IDX: 4\n",
      "2024-09-02 12:13:37 [INFO] idaes.reaktoro_pse.core.reaktoro_block_builder: Jacobian scale for ('charge', None) : 1e-08, IDX: 5\n",
      "2024-09-02 12:13:37 [INFO] idaes.reaktoro_pse.core.reaktoro_block_builder: Jacobian scale for ('speciesAmount', 'H+') : 3.698040413848915e-08, IDX: 6\n",
      "2024-09-02 12:13:37 [INFO] idaes.reaktoro_pse.core.reaktoro_block_builder: Jacobian scale for ('speciesAmount', 'H2O') : 53.56349911190051, IDX: 7\n",
      "2024-09-02 12:13:37 [INFO] idaes.reaktoro_pse.core.reaktoro_block_builder: Jacobian scale for ('speciesAmount', 'CO3-2') : 2.1445433582590796e-05, IDX: 8\n",
      "2024-09-02 12:13:37 [INFO] idaes.reaktoro_pse.core.reaktoro_block_builder: Jacobian scale for ('speciesAmount', 'CO2') : 8.114686960263481e-05, IDX: 9\n",
      "2024-09-02 12:13:37 [INFO] idaes.reaktoro_pse.core.reaktoro_block_builder: Jacobian scale for ('speciesAmount', 'Ca+2') : 0.009631002164385626, IDX: 10\n",
      "2024-09-02 12:13:37 [INFO] idaes.reaktoro_pse.core.reaktoro_block_builder: Jacobian scale for ('speciesAmount', 'Cl-') : 0.46271813844035126, IDX: 11\n",
      "2024-09-02 12:13:37 [INFO] idaes.reaktoro_pse.core.reaktoro_block_builder: Jacobian scale for ('speciesAmount', 'HCO3-') : 0.0021283963816330857, IDX: 12\n",
      "2024-09-02 12:13:37 [INFO] idaes.reaktoro_pse.core.reaktoro_block_builder: Jacobian scale for ('speciesAmount', 'SO4-2') : 0.026609914667020593, IDX: 13\n",
      "2024-09-02 12:13:37 [INFO] idaes.reaktoro_pse.core.reaktoro_block_builder: Jacobian scale for ('speciesAmount', 'HSO4-') : 1.0015065682548559e-08, IDX: 14\n",
      "2024-09-02 12:13:37 [INFO] idaes.reaktoro_pse.core.reaktoro_block_builder: Jacobian scale for ('speciesAmount', 'Mg+2') : 0.050087578133005024, IDX: 15\n",
      "2024-09-02 12:13:37 [INFO] idaes.reaktoro_pse.core.reaktoro_block_builder: Jacobian scale for ('speciesAmount', 'K+') : 0.009379055998898624, IDX: 16\n",
      "2024-09-02 12:13:37 [INFO] idaes.reaktoro_pse.core.reaktoro_block_builder: Jacobian scale for ('speciesAmount', 'MgCO3') : 2.0220342577770462e-05, IDX: 17\n",
      "2024-09-02 12:13:37 [INFO] idaes.reaktoro_pse.core.reaktoro_block_builder: Jacobian scale for ('speciesAmount', 'MgOH+') : 6.144821297281377e-07, IDX: 18\n",
      "2024-09-02 12:13:37 [INFO] idaes.reaktoro_pse.core.reaktoro_block_builder: Jacobian scale for ('speciesAmount', 'Na+') : 0.44310011726165177, IDX: 19\n",
      "2024-09-02 12:13:37 [INFO] idaes.reaktoro_pse.core.reaktoro_block_builder: Jacobian scale for ('speciesAmount', 'OH-') : 5.820318170562862e-07, IDX: 20\n"
     ]
    }
   ],
   "source": [
    "jac_scaling_dict = m.fs.feed.reaktoro_properties.display_jacobian_scaling()"
   ]
  },
  {
   "cell_type": "code",
   "execution_count": 138,
   "metadata": {},
   "outputs": [
    {
     "name": "stdout",
     "output_type": "stream",
     "text": [
      "2024-09-02 12:13:37 [INFO] idaes.reaktoro_pse.reaktoro_block: -----Displaying information for speciation block ------\n",
      "2024-09-02 12:13:37 [INFO] idaes.reaktoro_pse.core.reaktoro_jacobian: -----displaying jacobian outputs and types-----\n",
      "2024-09-02 12:13:37 [INFO] idaes.reaktoro_pse.core.reaktoro_jacobian: ('speciesAmount', 'H+'): Jac type: exact\n",
      "2024-09-02 12:13:37 [INFO] idaes.reaktoro_pse.core.reaktoro_jacobian: ('speciesAmount', 'H2O'): Jac type: exact\n",
      "2024-09-02 12:13:37 [INFO] idaes.reaktoro_pse.core.reaktoro_jacobian: ('speciesAmount', 'CO3-2'): Jac type: exact\n",
      "2024-09-02 12:13:37 [INFO] idaes.reaktoro_pse.core.reaktoro_jacobian: ('speciesAmount', 'CO2'): Jac type: exact\n",
      "2024-09-02 12:13:37 [INFO] idaes.reaktoro_pse.core.reaktoro_jacobian: ('speciesAmount', 'Ca+2'): Jac type: exact\n",
      "2024-09-02 12:13:37 [INFO] idaes.reaktoro_pse.core.reaktoro_jacobian: ('speciesAmount', 'Cl-'): Jac type: exact\n",
      "2024-09-02 12:13:37 [INFO] idaes.reaktoro_pse.core.reaktoro_jacobian: ('speciesAmount', 'HCO3-'): Jac type: exact\n",
      "2024-09-02 12:13:37 [INFO] idaes.reaktoro_pse.core.reaktoro_jacobian: ('speciesAmount', 'SO4-2'): Jac type: exact\n",
      "2024-09-02 12:13:37 [INFO] idaes.reaktoro_pse.core.reaktoro_jacobian: ('speciesAmount', 'HSO4-'): Jac type: exact\n",
      "2024-09-02 12:13:37 [INFO] idaes.reaktoro_pse.core.reaktoro_jacobian: ('speciesAmount', 'Mg+2'): Jac type: exact\n",
      "2024-09-02 12:13:37 [INFO] idaes.reaktoro_pse.core.reaktoro_jacobian: ('speciesAmount', 'K+'): Jac type: exact\n",
      "2024-09-02 12:13:37 [INFO] idaes.reaktoro_pse.core.reaktoro_jacobian: ('speciesAmount', 'MgCO3'): Jac type: exact\n",
      "2024-09-02 12:13:37 [INFO] idaes.reaktoro_pse.core.reaktoro_jacobian: ('speciesAmount', 'MgOH+'): Jac type: exact\n",
      "2024-09-02 12:13:37 [INFO] idaes.reaktoro_pse.core.reaktoro_jacobian: ('speciesAmount', 'Na+'): Jac type: exact\n",
      "2024-09-02 12:13:37 [INFO] idaes.reaktoro_pse.core.reaktoro_jacobian: ('speciesAmount', 'OH-'): Jac type: exact\n",
      "2024-09-02 12:13:37 [INFO] idaes.reaktoro_pse.core.reaktoro_jacobian: -----done-----\n",
      "2024-09-02 12:13:37 [INFO] idaes.reaktoro_pse.reaktoro_block: -----Displaying information for property block ------\n",
      "2024-09-02 12:13:37 [INFO] idaes.reaktoro_pse.core.reaktoro_jacobian: -----displaying jacobian outputs and types-----\n",
      "2024-09-02 12:13:37 [INFO] idaes.reaktoro_pse.core.reaktoro_jacobian: ('pH', None): Jac type: numeric\n",
      "2024-09-02 12:13:37 [INFO] idaes.reaktoro_pse.core.reaktoro_jacobian: ('speciesStandardVolume', 'H2O'): Jac type: exact\n",
      "2024-09-02 12:13:37 [INFO] idaes.reaktoro_pse.core.reaktoro_jacobian: ('speciesActivityLn', 'H2O'): Jac type: exact\n",
      "2024-09-02 12:13:37 [INFO] idaes.reaktoro_pse.core.reaktoro_jacobian: ('temperature', None): Jac type: exact\n",
      "2024-09-02 12:13:37 [INFO] idaes.reaktoro_pse.core.reaktoro_jacobian: ('density', None): Jac type: numeric\n",
      "2024-09-02 12:13:37 [INFO] idaes.reaktoro_pse.core.reaktoro_jacobian: ('charge', None): Jac type: numeric\n",
      "2024-09-02 12:13:37 [INFO] idaes.reaktoro_pse.core.reaktoro_jacobian: ('speciesAmount', 'H+'): Jac type: exact\n",
      "2024-09-02 12:13:37 [INFO] idaes.reaktoro_pse.core.reaktoro_jacobian: ('speciesAmount', 'H2O'): Jac type: exact\n",
      "2024-09-02 12:13:37 [INFO] idaes.reaktoro_pse.core.reaktoro_jacobian: ('speciesAmount', 'CO3-2'): Jac type: exact\n",
      "2024-09-02 12:13:37 [INFO] idaes.reaktoro_pse.core.reaktoro_jacobian: ('speciesAmount', 'CO2'): Jac type: exact\n",
      "2024-09-02 12:13:37 [INFO] idaes.reaktoro_pse.core.reaktoro_jacobian: ('speciesAmount', 'Ca+2'): Jac type: exact\n",
      "2024-09-02 12:13:37 [INFO] idaes.reaktoro_pse.core.reaktoro_jacobian: ('speciesAmount', 'Cl-'): Jac type: exact\n",
      "2024-09-02 12:13:37 [INFO] idaes.reaktoro_pse.core.reaktoro_jacobian: ('speciesAmount', 'HCO3-'): Jac type: exact\n",
      "2024-09-02 12:13:37 [INFO] idaes.reaktoro_pse.core.reaktoro_jacobian: ('speciesAmount', 'SO4-2'): Jac type: exact\n",
      "2024-09-02 12:13:37 [INFO] idaes.reaktoro_pse.core.reaktoro_jacobian: ('speciesAmount', 'HSO4-'): Jac type: exact\n",
      "2024-09-02 12:13:37 [INFO] idaes.reaktoro_pse.core.reaktoro_jacobian: ('speciesAmount', 'Mg+2'): Jac type: exact\n",
      "2024-09-02 12:13:37 [INFO] idaes.reaktoro_pse.core.reaktoro_jacobian: ('speciesAmount', 'K+'): Jac type: exact\n",
      "2024-09-02 12:13:37 [INFO] idaes.reaktoro_pse.core.reaktoro_jacobian: ('speciesAmount', 'MgCO3'): Jac type: exact\n",
      "2024-09-02 12:13:37 [INFO] idaes.reaktoro_pse.core.reaktoro_jacobian: ('speciesAmount', 'MgOH+'): Jac type: exact\n",
      "2024-09-02 12:13:37 [INFO] idaes.reaktoro_pse.core.reaktoro_jacobian: ('speciesAmount', 'Na+'): Jac type: exact\n",
      "2024-09-02 12:13:37 [INFO] idaes.reaktoro_pse.core.reaktoro_jacobian: ('speciesAmount', 'OH-'): Jac type: exact\n",
      "2024-09-02 12:13:37 [INFO] idaes.reaktoro_pse.core.reaktoro_jacobian: -----done-----\n"
     ]
    }
   ],
   "source": [
    "m.fs.feed.reaktoro_properties.display_jacobian_outputs()"
   ]
  },
  {
   "cell_type": "markdown",
   "metadata": {},
   "source": [
    "## Updating Jacobian scaling \n",
    "In some cases we need to manually scale output Jacobian values, as they can get overscaled via automatic scaling.\n",
    "This can be done during creating of ReaktoroBlock by passing \"jacobian_user_scaling\" option with a dictionary of output indexes and scaling factor to apply. In some cases it might be more convenient to update scaling factor later.\n",
    "\n",
    "Example below shows updating scaling factor using built in function set_jacboian_scaling, the scaling will be applied to both speciation block (if built) and main block\n"
   ]
  },
  {
   "cell_type": "code",
   "execution_count": 139,
   "metadata": {},
   "outputs": [],
   "source": [
    "m.fs.feed.reaktoro_properties.set_jacobian_scaling({(\"density\", None): 1000})"
   ]
  },
  {
   "cell_type": "code",
   "execution_count": 140,
   "metadata": {},
   "outputs": [
    {
     "name": "stdout",
     "output_type": "stream",
     "text": [
      "2024-09-02 12:13:37 [INFO] idaes.reaktoro_pse.reaktoro_block: -----Displaying information for speciation block ------\n",
      "2024-09-02 12:13:37 [INFO] idaes.reaktoro_pse.reaktoro_block: +-----------------+------------+------+\n",
      "| Property        |      Value | Unit |\n",
      "+-----------------+------------+------+\n",
      "| Temperature     |   298.0000 |    K |\n",
      "| Pressure        |     1.0132 |  bar |\n",
      "| Charge:         | 5.3807e-02 |  mol |\n",
      "| Element Amount: |            |      |\n",
      "| :: H            | 1.0713e+02 |  mol |\n",
      "| :: C            | 2.2512e-03 |  mol |\n",
      "| :: O            | 5.3677e+01 |  mol |\n",
      "| :: Na           | 4.4310e-01 |  mol |\n",
      "| :: Mg           | 5.0108e-02 |  mol |\n",
      "| :: S            | 2.6610e-02 |  mol |\n",
      "| :: Cl           | 4.6272e-01 |  mol |\n",
      "| :: K            | 9.3791e-03 |  mol |\n",
      "| :: Ca           | 9.6310e-03 |  mol |\n",
      "| Species Amount: |            |      |\n",
      "| :: H+           | 3.6980e-08 |  mol |\n",
      "| :: H2O          | 5.3563e+01 |  mol |\n",
      "| :: CO3-2        | 2.1445e-05 |  mol |\n",
      "| :: CO2          | 8.1147e-05 |  mol |\n",
      "| :: Ca+2         | 9.6310e-03 |  mol |\n",
      "| :: Cl-          | 4.6272e-01 |  mol |\n",
      "| :: HCO3-        | 2.1284e-03 |  mol |\n",
      "| :: SO4-2        | 2.6610e-02 |  mol |\n",
      "| :: HSO4-        | 1.0015e-08 |  mol |\n",
      "| :: Mg+2         | 5.0088e-02 |  mol |\n",
      "| :: K+           | 9.3791e-03 |  mol |\n",
      "| :: MgCO3        | 2.0220e-05 |  mol |\n",
      "| :: MgOH+        | 6.1448e-07 |  mol |\n",
      "| :: Na+          | 4.4310e-01 |  mol |\n",
      "| :: OH-          | 5.8203e-07 |  mol |\n",
      "+-----------------+------------+------+\n",
      "2024-09-02 12:13:37 [INFO] idaes.reaktoro_pse.reaktoro_block: -----Displaying information for property block ------\n",
      "2024-09-02 12:13:37 [INFO] idaes.reaktoro_pse.reaktoro_block: +-----------------+------------+------+\n",
      "| Property        |      Value | Unit |\n",
      "+-----------------+------------+------+\n",
      "| Temperature     |   298.0000 |    K |\n",
      "| Pressure        |     1.0132 |  bar |\n",
      "| Charge:         | 5.3807e-02 |  mol |\n",
      "| Element Amount: |            |      |\n",
      "| :: H            | 1.0713e+02 |  mol |\n",
      "| :: C            | 2.2512e-03 |  mol |\n",
      "| :: O            | 5.3677e+01 |  mol |\n",
      "| :: Na           | 4.4310e-01 |  mol |\n",
      "| :: Mg           | 5.0108e-02 |  mol |\n",
      "| :: S            | 2.6610e-02 |  mol |\n",
      "| :: Cl           | 4.6272e-01 |  mol |\n",
      "| :: K            | 9.3791e-03 |  mol |\n",
      "| :: Ca           | 9.6310e-03 |  mol |\n",
      "| Species Amount: |            |      |\n",
      "| :: H+           | 3.6980e-08 |  mol |\n",
      "| :: H2O          | 5.3563e+01 |  mol |\n",
      "| :: CO3-2        | 2.1445e-05 |  mol |\n",
      "| :: CO2          | 8.1147e-05 |  mol |\n",
      "| :: Ca+2         | 9.6310e-03 |  mol |\n",
      "| :: Cl-          | 4.6272e-01 |  mol |\n",
      "| :: HCO3-        | 2.1284e-03 |  mol |\n",
      "| :: SO4-2        | 2.6610e-02 |  mol |\n",
      "| :: HSO4-        | 1.0015e-08 |  mol |\n",
      "| :: Mg+2         | 5.0088e-02 |  mol |\n",
      "| :: K+           | 9.3791e-03 |  mol |\n",
      "| :: MgCO3        | 2.0220e-05 |  mol |\n",
      "| :: MgOH+        | 6.1448e-07 |  mol |\n",
      "| :: Na+          | 4.4310e-01 |  mol |\n",
      "| :: OH-          | 5.8203e-07 |  mol |\n",
      "+-----------------+------------+------+\n"
     ]
    }
   ],
   "source": [
    "m.fs.feed.reaktoro_properties.display_reaktoro_state()"
   ]
  },
  {
   "cell_type": "markdown",
   "metadata": {},
   "source": [
    "### Lets solve the current model to:\n",
    "* Find actual mass flows of species \n",
    "* Solution density\n",
    "* Required Cl amount to get zero charge in solution\n",
    "* Dose of HCl ot get to pH of 7"
   ]
  },
  {
   "cell_type": "code",
   "execution_count": 141,
   "metadata": {},
   "outputs": [],
   "source": [
    "\"\"\" unfix Cl and fix charge to 0\"\"\"\n",
    "\n",
    "m.fs.feed.species_concentrations[\"Cl\"].unfix()\n",
    "m.fs.feed.reaktoro_charge.fix(0)\n",
    "\"\"\" fix our target pH\"\"\"\n",
    "m.fs.feed.reaktoro_adjusted_pH.fix(7)"
   ]
  },
  {
   "cell_type": "markdown",
   "metadata": {},
   "source": [
    "Lets check DOFs before solve, and note that its equal to number of our reaktoro outputs"
   ]
  },
  {
   "cell_type": "code",
   "execution_count": 142,
   "metadata": {},
   "outputs": [
    {
     "name": "stdout",
     "output_type": "stream",
     "text": [
      "DOFs: 36\n",
      "Number of Reaktoro speciation block outputs 15\n",
      "Number of Reaktoro outputs 21\n",
      "Total number of outputs on reaktoro 36\n",
      "Actual DOFs: 0\n"
     ]
    }
   ],
   "source": [
    "print(\"DOFs:\", degrees_of_freedom(m))\n",
    "outputs_main_block = len(m.fs.feed.reaktoro_properties.reaktoro_model.outputs)\n",
    "outputs_speciation_block = len(\n",
    "    m.fs.feed.reaktoro_properties.speciation_block.reaktoro_model.outputs\n",
    ")\n",
    "print(\"Number of Reaktoro speciation block outputs\", outputs_speciation_block)\n",
    "print(\"Number of Reaktoro outputs\", outputs_main_block)\n",
    "print(\n",
    "    \"Total number of outputs on reaktoro\", outputs_main_block + outputs_speciation_block\n",
    ")\n",
    "print(\n",
    "    \"Actual DOFs:\",\n",
    "    degrees_of_freedom(m) - (outputs_main_block + outputs_speciation_block),\n",
    ")\n",
    "assert degrees_of_freedom(m) - (outputs_main_block + outputs_speciation_block) == 0"
   ]
  },
  {
   "cell_type": "code",
   "execution_count": 143,
   "metadata": {},
   "outputs": [
    {
     "name": "stdout",
     "output_type": "stream",
     "text": [
      "cyipopt-watertap: cyipopt with user variable scaling and IDAES jacobian constraint scaling\n",
      "This is Ipopt version 3.14.16, running with linear solver MUMPS 5.7.2.\n",
      "\n",
      "Number of nonzeros in equality constraint Jacobian...:      746\n",
      "Number of nonzeros in inequality constraint Jacobian.:        0\n",
      "Number of nonzeros in Lagrangian Hessian.............:       12\n",
      "\n",
      "Total number of variables............................:      117\n",
      "                     variables with only lower bounds:       41\n",
      "                variables with lower and upper bounds:        6\n",
      "                     variables with only upper bounds:        0\n",
      "Total number of equality constraints.................:      117\n",
      "Total number of inequality constraints...............:        0\n",
      "        inequality constraints with only lower bounds:        0\n",
      "   inequality constraints with lower and upper bounds:        0\n",
      "        inequality constraints with only upper bounds:        0\n",
      "\n",
      "iter    objective    inf_pr   inf_du lg(mu)  ||d||  lg(rg) alpha_du alpha_pr  ls\n",
      "   0  0.0000000e+00 7.05e+01 1.00e+00  -1.0 0.00e+00    -  0.00e+00 0.00e+00   0\n",
      "   1  0.0000000e+00 4.72e+01 9.24e+03  -1.0 5.38e+06    -  9.54e-01 1.00e+00h  1\n",
      "   2  0.0000000e+00 9.11e-04 9.14e+00  -1.0 8.30e+01    -  9.90e-01 1.00e+00h  1\n",
      "   3  0.0000000e+00 6.48e-07 7.21e-02  -1.0 1.47e-02    -  9.90e-01 1.00e+00h  1\n",
      "   4  0.0000000e+00 4.66e-10 0.00e+00  -1.0 9.90e-06    -  9.90e-01 1.00e+00h  1\n",
      "\n",
      "Number of Iterations....: 4\n",
      "\n",
      "                                   (scaled)                 (unscaled)\n",
      "Objective...............:   0.0000000000000000e+00    0.0000000000000000e+00\n",
      "Dual infeasibility......:   0.0000000000000000e+00    0.0000000000000000e+00\n",
      "Constraint violation....:   1.5916157281026244e-09    4.6566128730773926e-10\n",
      "Variable bound violation:   0.0000000000000000e+00    0.0000000000000000e+00\n",
      "Complementarity.........:   0.0000000000000000e+00    0.0000000000000000e+00\n",
      "Overall NLP error.......:   1.5916157281026244e-09    4.6566128730773926e-10\n",
      "\n",
      "\n",
      "Number of objective function evaluations             = 5\n",
      "Number of objective gradient evaluations             = 5\n",
      "Number of equality constraint evaluations            = 5\n",
      "Number of inequality constraint evaluations          = 0\n",
      "Number of equality constraint Jacobian evaluations   = 5\n",
      "Number of inequality constraint Jacobian evaluations = 0\n",
      "Number of Lagrangian Hessian evaluations             = 4\n",
      "Total seconds in IPOPT                               = 0.531\n",
      "\n",
      "EXIT: Optimal Solution Found.\n"
     ]
    }
   ],
   "source": [
    "initial_cl = m.fs.feed.species_concentrations[\"Cl\"].value\n",
    "cy_solver = get_solver(solver=\"cyipopt-watertap\")\n",
    "\n",
    "cy_solver.options[\"max_iter\"] = 25\n",
    "\n",
    "result = cy_solver.solve(m, tee=True)\n",
    "assert_optimal_termination(result)"
   ]
  },
  {
   "cell_type": "code",
   "execution_count": 144,
   "metadata": {},
   "outputs": [
    {
     "name": "stdout",
     "output_type": "stream",
     "text": [
      "Density reaktoro 1022.4474912371852 Density NaCl prop pack 1019.5824469406042\n",
      "Osmotic pressure 2386602.5446863747 Density NaCl prop pack 2639273.7868881626\n",
      "Adjusted pH 7 Acid dose 8.43304628245746 Acid mass flow 7.959225028489641e-06\n",
      "Solution reaktoro_charge 0 intial Cl 17000 final Cl 18976.76540015965\n"
     ]
    }
   ],
   "source": [
    "print(\n",
    "    \"Density reaktoro\",\n",
    "    m.fs.feed.reaktoro_density.value,\n",
    "    \"Density NaCl prop pack\",\n",
    "    m.fs.feed.properties[0].dens_mass_phase[\"Liq\"].value,\n",
    ")\n",
    "print(\n",
    "    \"Osmotic pressure\",\n",
    "    m.fs.feed.reaktoro_osmotic_pressure.value,\n",
    "    \"Density NaCl prop pack\",\n",
    "    m.fs.feed.properties[0].pressure_osm_phase[\"Liq\"].value,\n",
    ")\n",
    "print(\n",
    "    \"Adjusted pH\",\n",
    "    m.fs.feed.reaktoro_adjusted_pH.value,\n",
    "    \"Acid dose\",\n",
    "    m.fs.acid_dose.value,\n",
    "    \"Acid mass flow\",\n",
    "    m.fs.acid_mass_flow.value,\n",
    ")\n",
    "print(\n",
    "    \"Solution reaktoro_charge\",\n",
    "    m.fs.feed.reaktoro_charge.value,\n",
    "    \"intial Cl\",\n",
    "    initial_cl,\n",
    "    \"final Cl\",\n",
    "    m.fs.feed.species_concentrations[\"Cl\"].value,\n",
    ")"
   ]
  }
 ],
 "metadata": {
  "kernelspec": {
   "display_name": "reaktoro-pse-dev",
   "language": "python",
   "name": "python3"
  },
  "language_info": {
   "codemirror_mode": {
    "name": "ipython",
    "version": 3
   },
   "file_extension": ".py",
   "mimetype": "text/x-python",
   "name": "python",
   "nbconvert_exporter": "python",
   "pygments_lexer": "ipython3",
   "version": "3.11.9"
  }
 },
 "nbformat": 4,
 "nbformat_minor": 4
}
