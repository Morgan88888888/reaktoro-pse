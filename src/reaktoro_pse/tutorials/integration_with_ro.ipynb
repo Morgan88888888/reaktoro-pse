{
 "cells": [
  {
   "cell_type": "markdown",
   "metadata": {},
   "source": [
    "## Tutorial on integrating ReaktoroBlock into RO unit model on a flowsheet\n",
    "Demonstration of how use Reaktoro block with a unit model from WaterTAP\n",
    "\n",
    "#### Dependencies\n",
    "* Python - Programming language\n",
    "* Pyomo - Python package for equation-oriented modeling\n",
    "* IDAES - Python package extending Pyomo for flowsheet modeling\n",
    "* cyipopt - Solver necessary for use with gray box models\n",
    "* Reaktoro-pse - Python package for building Reaktoro gray box models\n",
    "* watertap-solvers - for cyipopt solver wrapper\n",
    "* WaterTAP - Unit models"
   ]
  },
  {
   "cell_type": "markdown",
   "metadata": {},
   "source": [
    "### Demonstration structure \n",
    "* Setting up basic speciation block and calculating properties for a feed composition\n",
    "    * How to adjust apparent species to achieve thermodynamic equilibrium\n",
    "* Adding Reaktoro block to a [RO WaterTAP](https://watertap.readthedocs.io/en/stable/technical_reference/unit_models/reverse_osmosis_1D.html) model for calculation of local osmotic pressure and scaling tendency\n"
   ]
  },
  {
   "cell_type": "markdown",
   "metadata": {},
   "source": [
    "### Example for speciation of NaCl and use with RO model"
   ]
  },
  {
   "cell_type": "markdown",
   "metadata": {},
   "source": [
    "### Import needed modules"
   ]
  },
  {
   "cell_type": "code",
   "execution_count": 1,
   "metadata": {},
   "outputs": [],
   "source": [
    "## Import core components\n",
    "# Pyomo core components\n",
    "from pyomo.environ import (\n",
    "    Var,\n",
    "    Constraint,\n",
    "    TransformationFactory,\n",
    "    Reals,\n",
    "    ConcreteModel,\n",
    "    value,\n",
    "    assert_optimal_termination,\n",
    "    units as pyunits,\n",
    ")\n",
    "from pyomo.network import Arc\n",
    "\n",
    "# Ideas core components\n",
    "from idaes.core import FlowsheetBlock\n",
    "from idaes.core.util.scaling import (\n",
    "    calculate_scaling_factors,\n",
    "    set_scaling_factor,\n",
    "    constraint_scaling_transform,\n",
    ")\n",
    "\n",
    "from idaes.core.util.model_statistics import degrees_of_freedom\n",
    "\n",
    "from idaes.core.util.initialization import propagate_state\n",
    "\n",
    "from idaes.models.unit_models import Feed\n",
    "from pyomo.util.calc_var_value import calculate_variable_from_constraint\n",
    "\n",
    "# WaterTAP core components\n",
    "from watertap.property_models.NaCl_prop_pack import NaClParameterBlock\n",
    "\n",
    "# WaterTAP core components\n",
    "from watertap.property_models.seawater_prop_pack import SeawaterParameterBlock\n",
    "\n",
    "# Import reaktoro-pse and reaktoro\n",
    "from reaktoro_pse.reaktoro_block import ReaktoroBlock\n",
    "import reaktoro\n",
    "from reaktoro_pse.core.util_classes.cyipopt_solver import (\n",
    "    get_cyipopt_watertap_solver,\n",
    ")"
   ]
  },
  {
   "cell_type": "markdown",
   "metadata": {},
   "source": [
    "### Incorporating Reaktoro to calculate Seawater properties in Reverse Osmosis Desalination\n",
    "Sea water desalination is a common process. Here it is demonstrated how ReaktoroBlock can be used:\n",
    " 1) Calculate feed density, achieve charge neutrality, and estimate amount of acid need to operate at target pH\n",
    " 2) Calculate osmotic pressure on each node of 1D WaterTAP RO model"
   ]
  },
  {
   "cell_type": "code",
   "execution_count": 2,
   "metadata": {},
   "outputs": [],
   "source": [
    "# This a typical composition of sea water with ion concentration in mg/L and pH\n",
    "\n",
    "sea_water_composition = {\n",
    "    \"Na\": 10556,\n",
    "    \"K\": 380,\n",
    "    \"Ca\": 400,\n",
    "    \"Mg\": 1262,\n",
    "    \"Cl\": 17000,\n",
    "    \"SO4\": 2649,\n",
    "    \"HCO3\": 140,\n",
    "}\n",
    "sea_water_ph = 7.56"
   ]
  },
  {
   "cell_type": "markdown",
   "metadata": {},
   "source": [
    "### Define standard Pyomo model and WaterTAP property package"
   ]
  },
  {
   "cell_type": "code",
   "execution_count": 3,
   "metadata": {},
   "outputs": [],
   "source": [
    "m = ConcreteModel()\n",
    "# create IDAES flowsheet\n",
    "m.fs = FlowsheetBlock(dynamic=False)\n",
    "# can use NaCl or Sea water prop pack\n",
    "prop_pack = \"Seawater\"\n",
    "if prop_pack == \"Seawater\":\n",
    "    # create NaCl property model\n",
    "    m.fs.properties = SeawaterParameterBlock()\n",
    "    bulk_ion = \"TDS\"\n",
    "elif prop_pack == \"NaCl\":\n",
    "    m.fs.properties = NaClParameterBlock()\n",
    "    bulk_ion = \"NaCl\"\n",
    "else:\n",
    "    raise TypeError(f\"{prop_pack} is not valid\")\n",
    "# build feed\n",
    "m.fs.feed = Feed(property_package=m.fs.properties)"
   ]
  },
  {
   "cell_type": "markdown",
   "metadata": {},
   "source": [
    "### Define inputs for Reaktoro and outputs\n",
    "The NaCl and Sea water prop package does not track spiceies so we will create new variable sets to track thesese as well as needed outputs"
   ]
  },
  {
   "cell_type": "code",
   "execution_count": 4,
   "metadata": {},
   "outputs": [],
   "source": [
    "# Get ions\n",
    "ions = list(sea_water_composition.keys())\n",
    "#\n",
    "m.fs.feed.species_concentrations = Var(\n",
    "    ions, initialize=1, bounds=(0, None), units=pyunits.mg / pyunits.L\n",
    ")\n",
    "\n",
    "# ReaktoroBlock needs mass flows of all the species\n",
    "ions.append(\"H2O\")\n",
    "m.fs.feed.species_mass_flow = Var(\n",
    "    ions, initialize=1, bounds=(0, None), units=pyunits.kg / pyunits.s\n",
    ")\n",
    "\n",
    "# Create pH variable for feed\n",
    "m.fs.feed.pH = Var(initialize=sea_water_ph)\n",
    "m.fs.feed.pH.fix()\n",
    "\n",
    "# The solution is not charge neutralized, so to get true TDS, we will need to adjust concentration of one of the ions\"\"\"\n",
    "m.fs.feed.reaktoro_charge = Var(initialize=1e-8, bounds=(None, None))\n",
    "\n",
    "# To get true flow mass, the density is needed for the solution, we can get that from reaktoro\n",
    "m.fs.feed.reaktoro_density = Var(\n",
    "    initialize=1000, units=pyunits.kg / pyunits.m**3\n",
    ")  # default density unit returned by reaktoro - https://reaktoro.org/api/classReaktoro_1_1ChemicalProps.html#afd97c7985258fa29f5a69634c07a0ac7\n",
    "\n",
    "# We can also get osmotic pressure to compare to NaCl prop pack predictions, and pH after acid addition\n",
    "m.fs.feed.reaktoro_osmotic_pressure = Var(initialize=1, units=pyunits.Pa)\n"
   ]
  },
  {
   "cell_type": "markdown",
   "metadata": {},
   "source": [
    "### Writing constraints for calculation of mass flows"
   ]
  },
  {
   "cell_type": "code",
   "execution_count": 5,
   "metadata": {},
   "outputs": [],
   "source": [
    "# Write constraints to convert concentration to mass flows\n",
    "@m.fs.feed.Constraint(list(m.fs.feed.species_mass_flow.keys()))\n",
    "def eq_feed_species_mass_flow(fs, ion):\n",
    "    if ion == \"H2O\":\n",
    "        return (\n",
    "            m.fs.feed.species_mass_flow[\"H2O\"]\n",
    "            == m.fs.feed.properties[0].flow_mass_phase_comp[\"Liq\", \"H2O\"]\n",
    "        )\n",
    "    else:\n",
    "        \"\"\"calculate mass flow based on density\"\"\"\n",
    "        return m.fs.feed.species_mass_flow[ion] == pyunits.convert(\n",
    "            m.fs.feed.species_concentrations[ion]\n",
    "            * m.fs.feed.properties[0].flow_mass_phase_comp[(\"Liq\", \"H2O\")]\n",
    "            / m.fs.feed.reaktoro_density,\n",
    "            to_units=pyunits.kg / pyunits.s,\n",
    "        )\n",
    "\n",
    "\n",
    "# Need NaCl for the NaCl property package in watertap\n",
    "m.fs.feed.eq_NaCl = Constraint(\n",
    "    expr=m.fs.feed.properties[0].flow_mass_phase_comp[(\"Liq\", bulk_ion)]\n",
    "    == sum(m.fs.feed.species_mass_flow[ion] for ion in m.fs.feed.species_concentrations)\n",
    ")\n"
   ]
  },
  {
   "cell_type": "markdown",
   "metadata": {},
   "source": [
    "### Reaktoro Block output dict"
   ]
  },
  {
   "cell_type": "code",
   "execution_count": 6,
   "metadata": {},
   "outputs": [],
   "source": [
    "\"\"\"We need to define an output dictionary with our properties - this can also be an Pyomo IndexedVar please check examples in examples folder for how to use IndexedVars as outputs\"\"\"\n",
    "\n",
    "m.fs.feed.reaktoro_outputs = {    \n",
    "    (\n",
    "        \"osmoticPressure\",\n",
    "        \"H2O\",\n",
    "    ): m.fs.feed.reaktoro_osmotic_pressure,  # not how the second key is the water, we can get osmotic pressure for different components in the system\n",
    "    (\"density\", None): m.fs.feed.reaktoro_density,\n",
    "    (\"charge\", None): m.fs.feed.reaktoro_charge,\n",
    "}  # - this will force reaktor to return exact speciation with all species"
   ]
  },
  {
   "cell_type": "markdown",
   "metadata": {},
   "source": [
    "### Configure ReaktoroBlock\n",
    "We are dealing with seawater desalination, which implies operation at high salinity and pressure for such conditions the PhreeqC Pitzer data base is a good choice \n",
    "For comparison of PhreeqC data base following paper is a good reference: https://doi.org/10.1016/j.earscirev.2021.103888 "
   ]
  },
  {
   "cell_type": "code",
   "execution_count": 7,
   "metadata": {},
   "outputs": [
    {
     "name": "stdout",
     "output_type": "stream",
     "text": [
      "2025-07-22 16:42:54 [INFO] idaes.reaktoro_pse.core.reaktoro_inputs: Exact speciation is not provided! Fixing aqueous solvent and, excluding H\n",
      "2025-07-22 16:42:54 [INFO] idaes.reaktoro_pse.core.reaktoro_inputs: Exact speciation is not provided! Fixing aqueous solvent and, excluding O\n",
      "2025-07-22 16:42:54 [INFO] idaes.reaktoro_pse.core.reaktoro_solver: rktSolver inputs: ['[C]', '[Na]', '[Mg]', '[S]', '[Cl]', '[K]', '[Ca]', '[H2O]', '[H]', '[O]', '[H+]']\n",
      "2025-07-22 16:42:54 [INFO] idaes.reaktoro_pse.core.reaktoro_solver: rktSolver constraints: ['C_constraint', 'Na_constraint', 'Mg_constraint', 'S_constraint', 'Cl_constraint', 'K_constraint', 'Ca_constraint', 'H2O_constraint', 'H_dummy_constraint', 'O_dummy_constraint', 'pH']\n",
      "2025-07-22 16:42:54 [INFO] idaes.reaktoro_pse.core.reaktoro_gray_box: RKT gray box using LBFGS hessian type\n"
     ]
    }
   ],
   "source": [
    "m.fs.feed.charge_neutrality = ReaktoroBlock(\n",
    "    aqueous_phase={\n",
    "        \"composition\": m.fs.feed.species_mass_flow,  # This is the spices mass flow\n",
    "        \"convert_to_rkt_species\": True,  # We can use default converter as its defined for default database (Phreeqc and pitzer)\n",
    "        \"activity_model\": reaktoro.ActivityModelPitzer(),  # Can provide a string, or Reaktoro initialized class\n",
    "        \"fixed_solvent_specie\": \"H2O\",  # We need to define our aqueous solvent as we have to speciate the block\n",
    "    },\n",
    "    system_state={\n",
    "        \"temperature\": m.fs.feed.properties[0].temperature,\n",
    "        \"pressure\": m.fs.feed.properties[0].pressure,\n",
    "        \"pH\": m.fs.feed.pH,\n",
    "    },\n",
    "    outputs=m.fs.feed.reaktoro_outputs,  # This is the output dictionary we defined above\n",
    "    database_file=\"pitzer.dat\",  # needs to be a string that names the database file or points to its location\n",
    "    dissolve_species_in_reaktoro=True,  # This will sum up all species into elements in Reaktoro directly, if set to false, it will build Pyomo constraints instead\n",
    "    assert_charge_neutrality=False,  # This is True by Default, but here we actually want to adjust the input speciation till the charge is zero\n",
    "    build_speciation_block=False,  # We provided apparent species so we need to speciate them.\n",
    ")"
   ]
  },
  {
   "cell_type": "markdown",
   "metadata": {},
   "source": [
    "Lets inspect outputs from main reaktoro model\n",
    "\n",
    "Note how we are missing osmoticPressure, and instead have speciesActivityLn and speciesStandardVolume as our outputs, this is becouse we osmoticPressure is a pyomo property, rather a native property supplied by reaktoro. You can inspect how this property is created by checking the:\n",
    "* osmoticPressure in PyomoProperties class located in reaktoro_pse.core.reaktoro_outputs\n",
    "* build_osmotic_constraint in reaktoro_pse.core.pyomo_property_writer.property_functions\n",
    "\n",
    "This two location will also show how we can access reaktoro database to pull out fixed parameters and create a custom pyomo property. "
   ]
  },
  {
   "cell_type": "markdown",
   "metadata": {},
   "source": [
    "### Set default values for feed and scaling"
   ]
  },
  {
   "cell_type": "code",
   "execution_count": 8,
   "metadata": {},
   "outputs": [],
   "source": [
    "m.fs.feed.properties[0].temperature.fix(273 + 25)  # temperature (K)\n",
    "m.fs.feed.properties[0].pressure.fix(101325)  # pressure (Pa)\n",
    "m.fs.feed.properties[0].flow_mass_phase_comp[\"Liq\", \"H2O\"].fix(\n",
    "    0.965\n",
    ")  # mass flowrate of H2O (kg/s)\n",
    "m.fs.feed.properties[0].conc_mass_phase_comp[...]  # construct concentration props\n",
    "m.fs.feed.properties[0].pressure_osm_phase[...]\n",
    "m.fs.properties.set_default_scaling(\n",
    "    \"flow_mass_phase_comp\",\n",
    "    1 / 0.965,\n",
    "    index=(\"Liq\", \"H2O\"),\n",
    ")\n",
    "m.fs.properties.set_default_scaling(\n",
    "    \"flow_mass_phase_comp\",\n",
    "    1 / 0.035,  # aproximage scale\n",
    "    index=(\"Liq\", bulk_ion),\n",
    ")"
   ]
  },
  {
   "cell_type": "markdown",
   "metadata": {},
   "source": [
    "### Initialize our composition constraints and scale all the variables"
   ]
  },
  {
   "cell_type": "code",
   "execution_count": 9,
   "metadata": {},
   "outputs": [],
   "source": [
    "for ion, value in sea_water_composition.items():\n",
    "    m.fs.feed.species_concentrations[ion].fix(value)\n",
    "    set_scaling_factor(m.fs.feed.species_concentrations[ion], 1 / value)\n",
    "\n",
    "for comp, pyoobj in m.fs.feed.eq_feed_species_mass_flow.items():\n",
    "    calculate_variable_from_constraint(m.fs.feed.species_mass_flow[comp], pyoobj)\n",
    "    set_scaling_factor(\n",
    "        m.fs.feed.species_mass_flow[ion], 1 / m.fs.feed.species_mass_flow[comp].value\n",
    "    )\n",
    "    constraint_scaling_transform(pyoobj, 1 / m.fs.feed.species_mass_flow[comp].value)\n",
    "\n",
    "\n",
    "calculate_variable_from_constraint(\n",
    "    m.fs.feed.properties[0].flow_mass_phase_comp[(\"Liq\", bulk_ion)], m.fs.feed.eq_NaCl\n",
    ")\n",
    "constraint_scaling_transform(m.fs.feed.eq_NaCl, 1 / 0.035)\n",
    "\n",
    "set_scaling_factor(m.fs.feed.reaktoro_density, 1 / 1000)\n",
    "set_scaling_factor(m.fs.feed.reaktoro_osmotic_pressure, 1 / 1e5)\n",
    "set_scaling_factor(m.fs.feed.pH, 1)\n",
    "set_scaling_factor(m.fs.feed.reaktoro_charge, 1e4)"
   ]
  },
  {
   "cell_type": "markdown",
   "metadata": {},
   "source": [
    "### Intialize feed and reaktoro block. \n",
    "Reaktoro initialization does several steps:\n",
    "\n",
    "1) Initialize input constraints propagating them from user variables to Reaktoro graybox inputs\n",
    "2) Solve the Reaktoro block to get output properties \n",
    "3) Propagate Reaktoro solution through output constraints and to output variables \n",
    "4) Scale all input and output variables and constraints using either user provided scaling factors or by inverse of their value \n",
    "5) Scale the jacobian using user provided scaling or inverse of scaling factors of the gray box outputs\n",
    "\n",
    "This will in general provide a well scaled problem. "
   ]
  },
  {
   "cell_type": "code",
   "execution_count": 10,
   "metadata": {},
   "outputs": [
    {
     "name": "stdout",
     "output_type": "stream",
     "text": [
      "2025-07-22 16:42:55 [INFO] idaes.init.fs.feed.properties: fs.feed.properties State Released.\n",
      "2025-07-22 16:42:55 [INFO] idaes.init.fs.feed: Initialization Complete.\n",
      "2025-07-22 16:42:55 [INFO] idaes.reaktoro_pse.reaktoro_block: ---initializing property block fs.feed.charge_neutrality----\n",
      "2025-07-22 16:42:55 [INFO] idaes.reaktoro_pse.core.reaktoro_state: Equilibrated successfully\n",
      "2025-07-22 16:42:55 [INFO] idaes.reaktoro_pse.core.reaktoro_block_builder: Initialized rkt block\n",
      "DOFs: 0\n",
      "cyipopt-watertap: cyipopt with user variable scaling and IDAES jacobian constraint scaling\n",
      "\n",
      "List of user-set options:\n",
      "\n",
      "                                    Name   Value                used\n",
      "              acceptable_constr_viol_tol = 1e-09                 yes\n",
      "                 acceptable_dual_inf_tol = 0.01                  yes\n",
      "                      bound_relax_factor = 0                     yes\n",
      "                         constr_viol_tol = 1e-08                 yes\n",
      "                  diverging_iterates_tol = 1e+30                 yes\n",
      "                            dual_inf_tol = 0.1                   yes\n",
      "                   honor_original_bounds = no                    yes\n",
      "                                max_iter = 50                    yes\n",
      "                      nlp_scaling_method = user-scaling          yes\n",
      "                      print_user_options = yes                   yes\n",
      "                                     tol = 1e-08                 yes\n",
      "\n",
      "******************************************************************************\n",
      "This program contains Ipopt, a library for large-scale nonlinear optimization.\n",
      " Ipopt is released as open source code under the Eclipse Public License (EPL).\n",
      "         For more information visit https://github.com/coin-or/Ipopt\n",
      "******************************************************************************\n",
      "\n",
      "This is Ipopt version 3.14.16, running with linear solver MUMPS 5.7.2.\n",
      "\n",
      "Number of nonzeros in equality constraint Jacobian...:      106\n",
      "Number of nonzeros in inequality constraint Jacobian.:        0\n",
      "Number of nonzeros in Lagrangian Hessian.............:       74\n",
      "\n",
      "Total number of variables............................:       35\n",
      "                     variables with only lower bounds:       21\n",
      "                variables with lower and upper bounds:        8\n",
      "                     variables with only upper bounds:        0\n",
      "Total number of equality constraints.................:       35\n",
      "Total number of inequality constraints...............:        0\n",
      "        inequality constraints with only lower bounds:        0\n",
      "   inequality constraints with lower and upper bounds:        0\n",
      "        inequality constraints with only upper bounds:        0\n",
      "\n",
      "iter    objective    inf_pr   inf_du lg(mu)  ||d||  lg(rg) alpha_du alpha_pr  ls\n",
      "   0  0.0000000e+00 1.60e+04 1.00e+00  -1.0 0.00e+00    -  0.00e+00 0.00e+00   0\n",
      "   1  0.0000000e+00 8.40e+01 2.78e+03  -1.0 4.93e+04    -  9.90e-01 1.00e+00h  1\n",
      "   2  0.0000000e+00 1.77e-05 7.19e+00  -1.0 2.16e+01    -  9.90e-01 1.00e+00h  1\n",
      "   3  0.0000000e+00 7.92e-09 0.00e+00  -1.0 2.01e-05    -  9.90e-01 1.00e+00h  1\n",
      "\n",
      "Number of Iterations....: 3\n",
      "\n",
      "                                   (scaled)                 (unscaled)\n",
      "Objective...............:   0.0000000000000000e+00    0.0000000000000000e+00\n",
      "Dual infeasibility......:   0.0000000000000000e+00    0.0000000000000000e+00\n",
      "Constraint violation....:   1.1136605553417244e-14    7.9162418842315674e-09\n",
      "Variable bound violation:   0.0000000000000000e+00    0.0000000000000000e+00\n",
      "Complementarity.........:   0.0000000000000000e+00    0.0000000000000000e+00\n",
      "Overall NLP error.......:   1.1136605553417244e-14    7.9162418842315674e-09\n",
      "\n",
      "\n",
      "Number of objective function evaluations             = 4\n",
      "Number of objective gradient evaluations             = 4\n",
      "Number of equality constraint evaluations            = 4\n",
      "Number of inequality constraint evaluations          = 0\n",
      "Number of equality constraint Jacobian evaluations   = 4\n",
      "Number of inequality constraint Jacobian evaluations = 0\n",
      "Number of Lagrangian Hessian evaluations             = 3\n",
      "Total seconds in IPOPT                               = 0.206\n",
      "\n",
      "EXIT: Optimal Solution Found.\n"
     ]
    }
   ],
   "source": [
    "\n",
    "m.fs.feed.initialize()\n",
    "m.fs.feed.charge_neutrality.initialize()\n",
    "# lets solve the model with current state:\n",
    "print(\"DOFs:\", degrees_of_freedom(m))\n",
    "cy_solver = get_cyipopt_watertap_solver(max_iter=50)\n",
    "result = cy_solver.solve(m, tee=True)\n",
    "assert_optimal_termination(result)"
   ]
  },
  {
   "cell_type": "code",
   "execution_count": 11,
   "metadata": {},
   "outputs": [
    {
     "name": "stdout",
     "output_type": "stream",
     "text": [
      "Density reaktoro 1021.551231400935 Density Seawater pack 1020.3503109156885\n",
      "Osmotic pressure 2257525.5714272526 Density Seawater pack 2257165.1425331547\n",
      "Solution reaktoro_charge 0.05270862299880515\n"
     ]
    }
   ],
   "source": [
    "\n",
    "# these are manually defined properties and variables of interest\n",
    "print(\n",
    "    \"Density reaktoro\",\n",
    "    m.fs.feed.reaktoro_density.value,\n",
    "    f\"Density {prop_pack} pack\",\n",
    "    m.fs.feed.properties[0].dens_mass_phase[\"Liq\"].value,\n",
    ")\n",
    "print(\n",
    "    \"Osmotic pressure\",\n",
    "    m.fs.feed.reaktoro_osmotic_pressure.value,\n",
    "    f\"Density {prop_pack} pack\",\n",
    "    m.fs.feed.properties[0].pressure_osm_phase[\"Liq\"].value,\n",
    ")\n",
    "print(\"Solution reaktoro_charge\", m.fs.feed.reaktoro_charge.value)\n"
   ]
  },
  {
   "cell_type": "markdown",
   "metadata": {},
   "source": [
    "### Lets solve the current model to:\n",
    "* Find actual mass flows of species \n",
    "* Solution density\n",
    "* Required Cl amount to get zero charge in solution"
   ]
  },
  {
   "cell_type": "code",
   "execution_count": 12,
   "metadata": {},
   "outputs": [],
   "source": [
    "# unfix Cl and fix charge to 0\n",
    "m.fs.feed.species_concentrations[\"Cl\"].unfix()\n",
    "m.fs.feed.reaktoro_charge.fix(0)"
   ]
  },
  {
   "cell_type": "markdown",
   "metadata": {},
   "source": [
    "Lets check DOFs before solve, and note that its equal to number of our reaktoro outputs"
   ]
  },
  {
   "cell_type": "code",
   "execution_count": 13,
   "metadata": {},
   "outputs": [
    {
     "name": "stdout",
     "output_type": "stream",
     "text": [
      "DOFs: 0\n",
      "cyipopt-watertap: cyipopt with user variable scaling and IDAES jacobian constraint scaling\n",
      "\n",
      "List of user-set options:\n",
      "\n",
      "                                    Name   Value                used\n",
      "              acceptable_constr_viol_tol = 1e-09                 yes\n",
      "                 acceptable_dual_inf_tol = 0.01                  yes\n",
      "                      bound_relax_factor = 0                     yes\n",
      "                         constr_viol_tol = 1e-08                 yes\n",
      "                  diverging_iterates_tol = 1e+30                 yes\n",
      "                            dual_inf_tol = 0.1                   yes\n",
      "                   honor_original_bounds = no                    yes\n",
      "                                max_iter = 50                    yes\n",
      "                      nlp_scaling_method = user-scaling          yes\n",
      "                      print_user_options = yes                   yes\n",
      "                                     tol = 1e-08                 yes\n",
      "This is Ipopt version 3.14.16, running with linear solver MUMPS 5.7.2.\n",
      "\n",
      "Number of nonzeros in equality constraint Jacobian...:      106\n",
      "Number of nonzeros in inequality constraint Jacobian.:        0\n",
      "Number of nonzeros in Lagrangian Hessian.............:       75\n",
      "\n",
      "Total number of variables............................:       35\n",
      "                     variables with only lower bounds:       22\n",
      "                variables with lower and upper bounds:        8\n",
      "                     variables with only upper bounds:        0\n",
      "Total number of equality constraints.................:       35\n",
      "Total number of inequality constraints...............:        0\n",
      "        inequality constraints with only lower bounds:        0\n",
      "   inequality constraints with lower and upper bounds:        0\n",
      "        inequality constraints with only upper bounds:        0\n",
      "\n",
      "iter    objective    inf_pr   inf_du lg(mu)  ||d||  lg(rg) alpha_du alpha_pr  ls\n",
      "   0  0.0000000e+00 1.61e+04 1.00e+00  -1.0 0.00e+00    -  0.00e+00 0.00e+00   0\n",
      "   1  0.0000000e+00 3.12e+02 2.21e+04  -1.0 1.37e+05    -  8.90e-01 1.00e+00h  1\n",
      "   2  0.0000000e+00 7.47e-04 3.65e+01  -1.0 1.89e+02    -  9.90e-01 1.00e+00h  1\n",
      "   3  0.0000000e+00 9.41e-08 7.26e-02  -1.0 1.61e-03    -  9.90e-01 1.00e+00h  1\n",
      "   4  0.0000000e+00 1.54e-08 7.18e-04  -1.0 3.09e-07    -  9.90e-01 1.00e+00h  1\n",
      "   5  0.0000000e+00 4.66e-10 0.00e+00  -1.0 2.70e-11    -  9.99e-01 1.00e+00h  1\n",
      "\n",
      "Number of Iterations....: 5\n",
      "\n",
      "                                   (scaled)                 (unscaled)\n",
      "Objective...............:   0.0000000000000000e+00    0.0000000000000000e+00\n",
      "Dual infeasibility......:   0.0000000000000000e+00    0.0000000000000000e+00\n",
      "Constraint violation....:   8.9523178650614632e-16    4.6566128730773926e-10\n",
      "Variable bound violation:   0.0000000000000000e+00    0.0000000000000000e+00\n",
      "Complementarity.........:   0.0000000000000000e+00    0.0000000000000000e+00\n",
      "Overall NLP error.......:   8.9523178650614632e-16    4.6566128730773926e-10\n",
      "\n",
      "\n",
      "Number of objective function evaluations             = 6\n",
      "Number of objective gradient evaluations             = 6\n",
      "Number of equality constraint evaluations            = 6\n",
      "Number of inequality constraint evaluations          = 0\n",
      "Number of equality constraint Jacobian evaluations   = 6\n",
      "Number of inequality constraint Jacobian evaluations = 0\n",
      "Number of Lagrangian Hessian evaluations             = 5\n",
      "Total seconds in IPOPT                               = 0.151\n",
      "\n",
      "EXIT: Optimal Solution Found.\n"
     ]
    }
   ],
   "source": [
    "initial_cl = m.fs.feed.species_concentrations[\"Cl\"].value\n",
    "print(\"DOFs:\", degrees_of_freedom(m))\n",
    "assert degrees_of_freedom(m) == 0\n",
    "result = cy_solver.solve(m, tee=True)\n",
    "assert_optimal_termination(result)"
   ]
  },
  {
   "cell_type": "code",
   "execution_count": 14,
   "metadata": {},
   "outputs": [
    {
     "name": "stdout",
     "output_type": "stream",
     "text": [
      "Density reaktoro 1022.4489592525192 Density Seawater pack 1021.7131638065792\n",
      "Osmotic pressure 2385907.6628959496 Density Seawater pack 2394675.190579777\n",
      "Solution reaktoro_charge 0 intial Cl 17000 final Cl 18978.108233772993\n"
     ]
    }
   ],
   "source": [
    "print(\n",
    "    \"Density reaktoro\",\n",
    "    m.fs.feed.reaktoro_density.value,\n",
    "    f\"Density {prop_pack} pack\",\n",
    "    m.fs.feed.properties[0].dens_mass_phase[\"Liq\"].value,\n",
    ")\n",
    "print(\n",
    "    \"Osmotic pressure\",\n",
    "    m.fs.feed.reaktoro_osmotic_pressure.value,\n",
    "    f\"Density {prop_pack} pack\",\n",
    "    m.fs.feed.properties[0].pressure_osm_phase[\"Liq\"].value,\n",
    ")\n",
    "print(\n",
    "    \"Solution reaktoro_charge\",\n",
    "    m.fs.feed.reaktoro_charge.value,\n",
    "    \"intial Cl\",\n",
    "    initial_cl,\n",
    "    \"final Cl\",\n",
    "    m.fs.feed.species_concentrations[\"Cl\"].value,\n",
    ")"
   ]
  },
  {
   "cell_type": "markdown",
   "metadata": {},
   "source": [
    "### Adding [WaterTAP RO model](https://watertap.readthedocs.io/en/stable/technical_reference/unit_models/reverse_osmosis_1D.html) and replacing default osmotic pressure with reaktoro calculations.\n",
    "Import WaterTAP 1D RO model and pump, and build them.\n"
   ]
  },
  {
   "cell_type": "code",
   "execution_count": 15,
   "metadata": {},
   "outputs": [],
   "source": [
    "from watertap.unit_models.reverse_osmosis_1D import (\n",
    "    ReverseOsmosis1D,\n",
    "    ConcentrationPolarizationType,\n",
    "    MassTransferCoefficient,\n",
    "    PressureChangeType,\n",
    ")\n",
    "from watertap.unit_models.pressure_changer import Pump\n",
    "\n",
    "m.fs.pump = Pump(property_package=m.fs.properties)\n",
    "m.fs.RO = ReverseOsmosis1D(\n",
    "    property_package=m.fs.properties,\n",
    "    has_pressure_change=True,\n",
    "    pressure_change_type=PressureChangeType.calculated,\n",
    "    mass_transfer_coefficient=MassTransferCoefficient.calculated,\n",
    "    concentration_polarization_type=ConcentrationPolarizationType.calculated,\n",
    "    transformation_scheme=\"BACKWARD\",\n",
    "    transformation_method=\"dae.finite_difference\",\n",
    "    finite_elements=5,\n",
    ")\n",
    "# connect feed to pump\n",
    "m.fs.feed_to_pump = Arc(source=m.fs.feed.outlet, destination=m.fs.pump.inlet)\n",
    "# connect pump to RO unit\n",
    "m.fs.pump_to_ro = Arc(source=m.fs.pump.outlet, destination=m.fs.RO.inlet)\n",
    "# Expand arcs\n",
    "TransformationFactory(\"network.expand_arcs\").apply_to(m)"
   ]
  },
  {
   "cell_type": "markdown",
   "metadata": {},
   "source": [
    "Add reaktoro blocks for osmotic pressure calculations. \n",
    "\n",
    "To do so we need to have estimates of apparent species at each node, they will be different from the feed due to removal of water by the processes and phenomena called concentration polarization which will increase salts near the surface. This requires creating new speciation mass flow composition indexed for each node in RO model, and constraints to do the translation from NaCl package to species.\n",
    "\n",
    "At each node the water flow is same as that in RO model, but each specie flow mass is described by equation below:\n",
    "$$ m_{ro}[node, specie] = m_{feed}[specie]*m_{ro}[node, NaCl]/m_{feed}[NaCl]  $$"
   ]
  },
  {
   "cell_type": "code",
   "execution_count": 16,
   "metadata": {},
   "outputs": [],
   "source": [
    "indexes = list(m.fs.RO.length_domain)\n",
    "\n",
    "indexes.pop(0)  # zeros domain does not do anything in RO so we remove it.\n",
    "\n",
    "# build an indexed mass flow of species in RO (indexing will be [node, specie])\n",
    "m.fs.RO.species_mass_flow = Var(\n",
    "    indexes,\n",
    "    list(m.fs.feed.species_mass_flow.keys()),\n",
    "    initialize=1,\n",
    "    units=pyunits.kg / pyunits.s,\n",
    "    domain=Reals,\n",
    ")  # make sure to provide correct units!\n",
    "\n",
    "\n",
    "# build constraints for translating NaCl mass flow in RO at membrane surface to apparent specie mass flow\n",
    "@m.fs.Constraint(list(m.fs.RO.species_mass_flow.keys()))\n",
    "def eq_ro_interphase_flow_mass_comp(fs, idx, ion):\n",
    "    if ion == \"H2O\":  # flow of water is same\n",
    "        return (\n",
    "            m.fs.RO.species_mass_flow[idx, \"H2O\"]\n",
    "            == m.fs.RO.feed_side.properties_interface[0.0, idx].flow_mass_phase_comp[\n",
    "                \"Liq\", \"H2O\"\n",
    "            ]\n",
    "        )\n",
    "    else:\n",
    "        return (\n",
    "            m.fs.RO.species_mass_flow[idx, ion]\n",
    "            == m.fs.feed.species_mass_flow[ion]\n",
    "            * m.fs.RO.feed_side.properties_interface[0.0, idx].flow_mass_phase_comp[\n",
    "                (\"Liq\", bulk_ion)\n",
    "            ]\n",
    "            / m.fs.feed.properties[0].flow_mass_phase_comp[(\"Liq\", bulk_ion)]\n",
    "        )"
   ]
  },
  {
   "cell_type": "markdown",
   "metadata": {},
   "source": [
    "We need to setup outputs for RO model, indexed Reaktoro block expects that index is included in with requested property such that: \n",
    "\n",
    "{(index, property, property_index):Var}   e.g. {(1,\"osmoticPressure\",\"H2O\"):Var}\n",
    "\n",
    "Here we will pack together osmotic pressure, scaling tendency and pH as outputs together to be returned by ReaktoroBlock on each node. "
   ]
  },
  {
   "cell_type": "code",
   "execution_count": 17,
   "metadata": {},
   "outputs": [],
   "source": [
    "m.fs.RO.indexed_outputs = {}\n",
    "for idx in indexes:\n",
    "    m.fs.RO.indexed_outputs[(idx, \"osmoticPressure\", \"H2O\")] = (\n",
    "        m.fs.RO.feed_side.properties_interface[0.0, idx].pressure_osm_phase[\"Liq\"]\n",
    "    )\n",
    "\n",
    "# create sclaing tendcies with indexes\n",
    "m.fs.RO.scaling_tendency = Var(\n",
    "    indexes,\n",
    "    ((\"scalingTendency\", \"Calcite\"), (\"scalingTendency\", \"Gypsum\")),\n",
    "    initialize=1,\n",
    ")\n",
    "set_scaling_factor(m.fs.RO.scaling_tendency, 1)\n",
    "\n",
    "# create indexed pH\n",
    "m.fs.RO.interphase_pH = Var(\n",
    "    indexes,\n",
    "    [(\"pH\", None)],\n",
    "    initialize=1,\n",
    ")\n",
    "set_scaling_factor(m.fs.RO.interphase_pH, 1)\n",
    "\n",
    "# package them all together\n",
    "\n",
    "for idx, obj in m.fs.RO.scaling_tendency.items():\n",
    "    m.fs.RO.indexed_outputs[idx] = obj\n",
    "for idx, obj in m.fs.RO.interphase_pH.items():\n",
    "    m.fs.RO.indexed_outputs[idx] = obj\n",
    "\n",
    "# Similarly, we need to repackage ro feed pressure so ReaktoroBlock can properly process it\n",
    "m.fs.ro_pressure = {}\n",
    "for idx in indexes:\n",
    "    m.fs.ro_pressure[idx] = m.fs.RO.feed_side.properties_interface[0.0, idx].pressure\n",
    "    set_scaling_factor( m.fs.RO.feed_side.properties_interface[0.0, idx].pressure, 1/1e5)"
   ]
  },
  {
   "cell_type": "markdown",
   "metadata": {},
   "source": [
    "Lets check that our outputs are correctly packaged"
   ]
  },
  {
   "cell_type": "code",
   "execution_count": 18,
   "metadata": {},
   "outputs": [
    {
     "name": "stdout",
     "output_type": "stream",
     "text": [
      "(0.2, 'osmoticPressure', 'H2O') fs.RO.feed_side.properties_interface[0.0,0.2].pressure_osm_phase[Liq]\n",
      "(0.4, 'osmoticPressure', 'H2O') fs.RO.feed_side.properties_interface[0.0,0.4].pressure_osm_phase[Liq]\n",
      "(0.6, 'osmoticPressure', 'H2O') fs.RO.feed_side.properties_interface[0.0,0.6].pressure_osm_phase[Liq]\n",
      "(0.8, 'osmoticPressure', 'H2O') fs.RO.feed_side.properties_interface[0.0,0.8].pressure_osm_phase[Liq]\n",
      "(1.0, 'osmoticPressure', 'H2O') fs.RO.feed_side.properties_interface[0.0,1.0].pressure_osm_phase[Liq]\n",
      "(0.2, 'scalingTendency', 'Calcite') fs.RO.scaling_tendency[0.2,scalingTendency,Calcite]\n",
      "(0.2, 'scalingTendency', 'Gypsum') fs.RO.scaling_tendency[0.2,scalingTendency,Gypsum]\n",
      "(0.4, 'scalingTendency', 'Calcite') fs.RO.scaling_tendency[0.4,scalingTendency,Calcite]\n",
      "(0.4, 'scalingTendency', 'Gypsum') fs.RO.scaling_tendency[0.4,scalingTendency,Gypsum]\n",
      "(0.6, 'scalingTendency', 'Calcite') fs.RO.scaling_tendency[0.6,scalingTendency,Calcite]\n",
      "(0.6, 'scalingTendency', 'Gypsum') fs.RO.scaling_tendency[0.6,scalingTendency,Gypsum]\n",
      "(0.8, 'scalingTendency', 'Calcite') fs.RO.scaling_tendency[0.8,scalingTendency,Calcite]\n",
      "(0.8, 'scalingTendency', 'Gypsum') fs.RO.scaling_tendency[0.8,scalingTendency,Gypsum]\n",
      "(1.0, 'scalingTendency', 'Calcite') fs.RO.scaling_tendency[1.0,scalingTendency,Calcite]\n",
      "(1.0, 'scalingTendency', 'Gypsum') fs.RO.scaling_tendency[1.0,scalingTendency,Gypsum]\n",
      "(0.2, 'pH', None) fs.RO.interphase_pH[0.2,pH,None]\n",
      "(0.4, 'pH', None) fs.RO.interphase_pH[0.4,pH,None]\n",
      "(0.6, 'pH', None) fs.RO.interphase_pH[0.6,pH,None]\n",
      "(0.8, 'pH', None) fs.RO.interphase_pH[0.8,pH,None]\n",
      "(1.0, 'pH', None) fs.RO.interphase_pH[1.0,pH,None]\n"
     ]
    }
   ],
   "source": [
    "for key, obj in m.fs.RO.indexed_outputs.items():\n",
    "    print(key, obj)"
   ]
  },
  {
   "cell_type": "markdown",
   "metadata": {},
   "source": [
    "Finally, lets build all the reaktoro blocks."
   ]
  },
  {
   "cell_type": "code",
   "execution_count": 19,
   "metadata": {},
   "outputs": [
    {
     "name": "stdout",
     "output_type": "stream",
     "text": [
      "2025-07-22 16:42:56 [INFO] idaes.reaktoro_pse.core.reaktoro_inputs: Exact speciation is not provided! Fixing aqueous solvent and, excluding H\n",
      "2025-07-22 16:42:56 [INFO] idaes.reaktoro_pse.core.reaktoro_inputs: Exact speciation is not provided! Fixing aqueous solvent and, excluding O\n",
      "2025-07-22 16:42:56 [INFO] idaes.reaktoro_pse.core.reaktoro_solver: rktSolver inputs: ['[Cl]', '[C]', '[Na]', '[Mg]', '[S]', '[K]', '[Ca]', '[H2O]', '[H]', '[O]', '[H+]']\n",
      "2025-07-22 16:42:56 [INFO] idaes.reaktoro_pse.core.reaktoro_solver: rktSolver constraints: ['charge', 'C_constraint', 'Na_constraint', 'Mg_constraint', 'S_constraint', 'K_constraint', 'Ca_constraint', 'H2O_constraint', 'H_dummy_constraint', 'O_dummy_constraint', 'pH']\n",
      "2025-07-22 16:42:56 [INFO] idaes.reaktoro_pse.core.reaktoro_gray_box: RKT gray box using LBFGS hessian type\n",
      "2025-07-22 16:42:56 [INFO] idaes.reaktoro_pse.core.reaktoro_inputs: Exact speciation is not provided! Fixing aqueous solvent and, excluding H\n",
      "2025-07-22 16:42:56 [INFO] idaes.reaktoro_pse.core.reaktoro_inputs: Exact speciation is not provided! Fixing aqueous solvent and, excluding O\n",
      "2025-07-22 16:42:57 [INFO] idaes.reaktoro_pse.core.reaktoro_solver: rktSolver inputs: ['[Cl]', '[C]', '[Na]', '[Mg]', '[S]', '[K]', '[Ca]', '[H2O]', '[H]', '[O]', '[H+]']\n",
      "2025-07-22 16:42:57 [INFO] idaes.reaktoro_pse.core.reaktoro_solver: rktSolver constraints: ['charge', 'C_constraint', 'Na_constraint', 'Mg_constraint', 'S_constraint', 'K_constraint', 'Ca_constraint', 'H2O_constraint', 'H_dummy_constraint', 'O_dummy_constraint', 'pH']\n",
      "2025-07-22 16:42:57 [INFO] idaes.reaktoro_pse.core.reaktoro_gray_box: RKT gray box using LBFGS hessian type\n",
      "2025-07-22 16:42:57 [INFO] idaes.reaktoro_pse.core.reaktoro_inputs: Exact speciation is not provided! Fixing aqueous solvent and, excluding H\n",
      "2025-07-22 16:42:57 [INFO] idaes.reaktoro_pse.core.reaktoro_inputs: Exact speciation is not provided! Fixing aqueous solvent and, excluding O\n",
      "2025-07-22 16:42:57 [INFO] idaes.reaktoro_pse.core.reaktoro_solver: rktSolver inputs: ['[Cl]', '[C]', '[Na]', '[Mg]', '[S]', '[K]', '[Ca]', '[H2O]', '[H]', '[O]', '[H+]']\n",
      "2025-07-22 16:42:57 [INFO] idaes.reaktoro_pse.core.reaktoro_solver: rktSolver constraints: ['charge', 'C_constraint', 'Na_constraint', 'Mg_constraint', 'S_constraint', 'K_constraint', 'Ca_constraint', 'H2O_constraint', 'H_dummy_constraint', 'O_dummy_constraint', 'pH']\n",
      "2025-07-22 16:42:57 [INFO] idaes.reaktoro_pse.core.reaktoro_gray_box: RKT gray box using LBFGS hessian type\n",
      "2025-07-22 16:42:57 [INFO] idaes.reaktoro_pse.core.reaktoro_inputs: Exact speciation is not provided! Fixing aqueous solvent and, excluding H\n",
      "2025-07-22 16:42:57 [INFO] idaes.reaktoro_pse.core.reaktoro_inputs: Exact speciation is not provided! Fixing aqueous solvent and, excluding O\n",
      "2025-07-22 16:42:58 [INFO] idaes.reaktoro_pse.core.reaktoro_solver: rktSolver inputs: ['[Cl]', '[C]', '[Na]', '[Mg]', '[S]', '[K]', '[Ca]', '[H2O]', '[H]', '[O]', '[H+]']\n",
      "2025-07-22 16:42:58 [INFO] idaes.reaktoro_pse.core.reaktoro_solver: rktSolver constraints: ['charge', 'C_constraint', 'Na_constraint', 'Mg_constraint', 'S_constraint', 'K_constraint', 'Ca_constraint', 'H2O_constraint', 'H_dummy_constraint', 'O_dummy_constraint', 'pH']\n",
      "2025-07-22 16:42:58 [INFO] idaes.reaktoro_pse.core.reaktoro_gray_box: RKT gray box using LBFGS hessian type\n",
      "2025-07-22 16:42:58 [INFO] idaes.reaktoro_pse.core.reaktoro_inputs: Exact speciation is not provided! Fixing aqueous solvent and, excluding H\n",
      "2025-07-22 16:42:58 [INFO] idaes.reaktoro_pse.core.reaktoro_inputs: Exact speciation is not provided! Fixing aqueous solvent and, excluding O\n",
      "2025-07-22 16:42:58 [INFO] idaes.reaktoro_pse.core.reaktoro_solver: rktSolver inputs: ['[Cl]', '[C]', '[Na]', '[Mg]', '[S]', '[K]', '[Ca]', '[H2O]', '[H]', '[O]', '[H+]']\n",
      "2025-07-22 16:42:58 [INFO] idaes.reaktoro_pse.core.reaktoro_solver: rktSolver constraints: ['charge', 'C_constraint', 'Na_constraint', 'Mg_constraint', 'S_constraint', 'K_constraint', 'Ca_constraint', 'H2O_constraint', 'H_dummy_constraint', 'O_dummy_constraint', 'pH']\n",
      "2025-07-22 16:42:58 [INFO] idaes.reaktoro_pse.core.reaktoro_gray_box: RKT gray box using LBFGS hessian type\n"
     ]
    }
   ],
   "source": [
    "m.fs.eq_ro_chem_props = ReaktoroBlock(\n",
    "    indexes,\n",
    "    aqueous_phase={\n",
    "        \"composition\": m.fs.RO.species_mass_flow,  # This is the spices mass flow\n",
    "        \"convert_to_rkt_species\": True,  # We can use default converter as its defined for default database (Phreeqc and pitzer)\n",
    "        \"activity_model\": reaktoro.ActivityModelPitzer(),  # Can provide a string, or Reaktoro initialized class\n",
    "        \"fixed_solvent_specie\": \"H2O\",  # We need to define our aqueous solvent as we have to speciate the block\n",
    "    },\n",
    "    system_state={\n",
    "        \"temperature\": m.fs.feed.properties[0].temperature,\n",
    "        \"temperature_indexed\": False,\n",
    "        \"pressure\": m.fs.ro_pressure,\n",
    "        \"pH\": m.fs.feed.pH,\n",
    "        \"pH_indexed\": False,  # we are not providing unique pH at each node, so lets disable indexing for it\n",
    "    },\n",
    "    outputs=m.fs.RO.indexed_outputs,  # outputs we desired\n",
    "    database=\"PhreeqcDatabase\",  # Can provide a string, or Reaktoro initialized class reaktor.PhreeqcDatabase()\n",
    "    database_file=\"pitzer.dat\",  # needs to be a string that names the database file or points to its location\n",
    "    dissolve_species_in_reaktoro=True,  # This will sum up all species into elements in Reaktoro directly, if set to false, it will build Pyomo constraints instead\n",
    "    assert_charge_neutrality=True, \n",
    "    build_speciation_block=False,\n",
    ")"
   ]
  },
  {
   "cell_type": "markdown",
   "metadata": {},
   "source": [
    "Configure RO defaults and scale the model"
   ]
  },
  {
   "cell_type": "code",
   "execution_count": 20,
   "metadata": {},
   "outputs": [
    {
     "name": "stdout",
     "output_type": "stream",
     "text": [
      "2025-07-22 16:42:58 [WARNING] idaes.core.util.scaling: Missing scaling factor for fs.RO.feed_side.area\n"
     ]
    }
   ],
   "source": [
    "m.fs.feed.properties[0].pressure_osm_phase[...]\n",
    "# define pump defaults\n",
    "m.fs.pump.efficiency_pump[0].fix(0.75)\n",
    "# scale work and pressures for the pump\n",
    "set_scaling_factor(m.fs.pump.control_volume.work, 1e-4)\n",
    "set_scaling_factor(m.fs.pump.control_volume.properties_out[0].pressure, 1e-5)\n",
    "set_scaling_factor(m.fs.pump.control_volume.properties_in[0].pressure, 1e-5)\n",
    "\n",
    "# define RO default values for initialization\n",
    "# we opt to specify stage area, and inlet velocity\n",
    "# unfixing width and area\n",
    "# We also apply variable scaling as we set up each default parameter\n",
    "\n",
    "m.fs.RO.feed_side.velocity[0, 0].fix(0.2)\n",
    "m.fs.RO.area.fix(100)\n",
    "set_scaling_factor(m.fs.RO.area, 1 / 100)\n",
    "m.fs.RO.length.unfix()\n",
    "set_scaling_factor(m.fs.RO.length, 0.1)\n",
    "m.fs.RO.width.unfix()\n",
    "set_scaling_factor(m.fs.RO.width, 0.1)\n",
    "\n",
    "# we need to specify RO permeate pressure\n",
    "m.fs.RO.permeate.pressure[0].fix(101325)\n",
    "# we need to specify default values for default mass transport\n",
    "# and friction factor correlations\n",
    "m.fs.RO.feed_side.channel_height.fix(1e-3)\n",
    "m.fs.RO.feed_side.spacer_porosity.fix(0.9)\n",
    "\n",
    "# Specify default A and B values, these are defined as m/s/Pa and m/s, respectively.\n",
    "m.fs.RO.A_comp[0, \"H2O\"].fix(3 / (3600 * 1000 * 1e5))\n",
    "m.fs.RO.B_comp[0, bulk_ion].fix(0.15 / (3600 * 1000))\n",
    "\n",
    "# calculate all the scaling factors\n",
    "calculate_scaling_factors(m)"
   ]
  },
  {
   "cell_type": "markdown",
   "metadata": {},
   "source": [
    "Initialize RO model and pump"
   ]
  },
  {
   "cell_type": "code",
   "execution_count": 21,
   "metadata": {},
   "outputs": [
    {
     "name": "stdout",
     "output_type": "stream",
     "text": [
      "Osmotic pressure is 23.946751905797772 bar\n",
      "2025-07-22 16:42:59 [INFO] idaes.init.fs.pump.control_volume.properties_out: fs.pump.control_volume.properties_out State Released.\n",
      "2025-07-22 16:42:59 [INFO] idaes.init.fs.pump.control_volume: Initialization Complete\n",
      "2025-07-22 16:42:59 [INFO] idaes.init.fs.pump.control_volume.properties_in: fs.pump.control_volume.properties_in State Released.\n",
      "2025-07-22 16:42:59 [INFO] idaes.init.fs.pump: Initialization Complete: optimal - Optimal Solution Found\n",
      "2025-07-22 16:42:59 [INFO] idaes.init.fs.RO.feed_side: Initialization Complete\n",
      "2025-07-22 16:42:59 [INFO] idaes.init.fs.RO.feed_side.properties: fs.RO.feed_side.properties State Released.\n",
      "2025-07-22 16:42:59 [INFO] idaes.init.fs.RO.feed_side.properties_interface: fs.RO.feed_side.properties_interface State Released.\n",
      "2025-07-22 16:42:59 [INFO] idaes.init.fs.RO.permeate_side: fs.RO.permeate_side State Released.\n",
      "2025-07-22 16:42:59 [INFO] idaes.init.fs.RO.mixed_permeate: fs.RO.mixed_permeate State Released.\n",
      "2025-07-22 16:43:00 [INFO] idaes.watertap.core.util.initialization: variable fs.RO.feed_side.material_flow_dx[0.0,0.0,Liq,H2O] has no initial value: setting to 0.0\n",
      "2025-07-22 16:43:00 [INFO] idaes.watertap.core.util.initialization: variable fs.RO.feed_side.material_flow_dx[0.0,0.0,Liq,TDS] has no initial value: setting to 0.0\n",
      "2025-07-22 16:43:00 [INFO] idaes.watertap.core.util.initialization: variable fs.RO.feed_side.material_flow_dx[0.0,0.2,Liq,H2O] has no initial value: setting to 0.0\n",
      "2025-07-22 16:43:00 [INFO] idaes.watertap.core.util.initialization: variable fs.RO.feed_side.material_flow_dx[0.0,0.2,Liq,TDS] has no initial value: setting to 0.0\n",
      "2025-07-22 16:43:00 [INFO] idaes.watertap.core.util.initialization: variable fs.RO.feed_side.material_flow_dx[0.0,0.4,Liq,H2O] has no initial value: setting to 0.0\n",
      "2025-07-22 16:43:00 [INFO] idaes.watertap.core.util.initialization: variable fs.RO.feed_side.material_flow_dx[0.0,0.4,Liq,TDS] has no initial value: setting to 0.0\n",
      "2025-07-22 16:43:00 [INFO] idaes.watertap.core.util.initialization: variable fs.RO.feed_side.material_flow_dx[0.0,0.6,Liq,H2O] has no initial value: setting to 0.0\n",
      "2025-07-22 16:43:00 [INFO] idaes.watertap.core.util.initialization: variable fs.RO.feed_side.material_flow_dx[0.0,0.6,Liq,TDS] has no initial value: setting to 0.0\n",
      "2025-07-22 16:43:00 [INFO] idaes.watertap.core.util.initialization: variable fs.RO.feed_side.material_flow_dx[0.0,0.8,Liq,H2O] has no initial value: setting to 0.0\n",
      "2025-07-22 16:43:00 [INFO] idaes.watertap.core.util.initialization: variable fs.RO.feed_side.material_flow_dx[0.0,0.8,Liq,TDS] has no initial value: setting to 0.0\n",
      "2025-07-22 16:43:00 [INFO] idaes.watertap.core.util.initialization: variable fs.RO.feed_side.material_flow_dx[0.0,1.0,Liq,H2O] has no initial value: setting to 0.0\n",
      "2025-07-22 16:43:00 [INFO] idaes.watertap.core.util.initialization: variable fs.RO.feed_side.material_flow_dx[0.0,1.0,Liq,TDS] has no initial value: setting to 0.0\n",
      "2025-07-22 16:43:00 [INFO] idaes.watertap.core.util.initialization: variable fs.RO.feed_side.pressure_dx[0.0,0.0] has no initial value: setting to 0.0\n",
      "2025-07-22 16:43:00 [INFO] idaes.watertap.core.util.initialization: variable fs.RO.feed_side.pressure_dx[0.0,0.2] has no initial value: setting to 0.0\n",
      "2025-07-22 16:43:00 [INFO] idaes.watertap.core.util.initialization: variable fs.RO.feed_side.pressure_dx[0.0,0.4] has no initial value: setting to 0.0\n",
      "2025-07-22 16:43:00 [INFO] idaes.watertap.core.util.initialization: variable fs.RO.feed_side.pressure_dx[0.0,0.6] has no initial value: setting to 0.0\n",
      "2025-07-22 16:43:00 [INFO] idaes.watertap.core.util.initialization: variable fs.RO.feed_side.pressure_dx[0.0,0.8] has no initial value: setting to 0.0\n",
      "2025-07-22 16:43:00 [INFO] idaes.watertap.core.util.initialization: variable fs.RO.feed_side.pressure_dx[0.0,1.0] has no initial value: setting to 0.0\n",
      "2025-07-22 16:43:01 [INFO] idaes.init.fs.RO: Initialization Complete: optimal - Optimal Solution Found\n"
     ]
    }
   ],
   "source": [
    "propagate_state(m.fs.feed_to_pump)\n",
    "# get osmotic pressure\n",
    "osmotic_feed_pressure = m.fs.feed.properties[0].pressure_osm_phase[\"Liq\"].value\n",
    "print(\"Osmotic pressure is {} bar\".format(osmotic_feed_pressure / 1e5))\n",
    "m.fs.pump.outlet.pressure[0].fix(osmotic_feed_pressure *2)\n",
    "m.fs.pump.initialize()\n",
    "\n",
    "propagate_state(m.fs.pump_to_ro)\n",
    "m.fs.RO.initialize()"
   ]
  },
  {
   "cell_type": "markdown",
   "metadata": {},
   "source": [
    "Initialize water removal and deactivate RO osmotic pressure constraints"
   ]
  },
  {
   "cell_type": "code",
   "execution_count": 22,
   "metadata": {},
   "outputs": [],
   "source": [
    "for (idx, ion), obj in m.fs.RO.species_mass_flow.items():\n",
    "    calculate_variable_from_constraint(\n",
    "        m.fs.RO.species_mass_flow[idx, ion],\n",
    "        m.fs.eq_ro_interphase_flow_mass_comp[idx, ion],\n",
    "    )\n",
    "    sf = 1 / m.fs.feed.species_mass_flow[ion].value\n",
    "    set_scaling_factor(m.fs.RO.species_mass_flow[idx, ion], sf)\n",
    "    constraint_scaling_transform(m.fs.eq_ro_interphase_flow_mass_comp[idx, ion], sf)\n",
    "    m.fs.RO.feed_side.properties_interface[0.0, idx].eq_pressure_osm_phase[\n",
    "        \"Liq\"\n",
    "    ].deactivate()"
   ]
  },
  {
   "cell_type": "markdown",
   "metadata": {},
   "source": [
    "Initialize all the ReaktoroBlocks on RO model, we have to iterate over them as they are indexed blocks"
   ]
  },
  {
   "cell_type": "code",
   "execution_count": 23,
   "metadata": {},
   "outputs": [
    {
     "name": "stdout",
     "output_type": "stream",
     "text": [
      "2025-07-22 16:43:01 [INFO] idaes.reaktoro_pse.reaktoro_block: ---initializing property block fs.eq_ro_chem_props[0.2]----\n",
      "2025-07-22 16:43:01 [INFO] idaes.reaktoro_pse.core.reaktoro_state: Equilibrated successfully\n",
      "2025-07-22 16:43:01 [INFO] idaes.reaktoro_pse.core.reaktoro_block_builder: Initialized rkt block\n",
      "2025-07-22 16:43:01 [INFO] idaes.reaktoro_pse.reaktoro_block: ---initializing property block fs.eq_ro_chem_props[0.4]----\n",
      "2025-07-22 16:43:01 [INFO] idaes.reaktoro_pse.core.reaktoro_state: Equilibrated successfully\n",
      "2025-07-22 16:43:01 [INFO] idaes.reaktoro_pse.core.reaktoro_block_builder: Initialized rkt block\n",
      "2025-07-22 16:43:01 [INFO] idaes.reaktoro_pse.reaktoro_block: ---initializing property block fs.eq_ro_chem_props[0.6]----\n",
      "2025-07-22 16:43:01 [INFO] idaes.reaktoro_pse.core.reaktoro_state: Equilibrated successfully\n",
      "2025-07-22 16:43:01 [INFO] idaes.reaktoro_pse.core.reaktoro_block_builder: Initialized rkt block\n",
      "2025-07-22 16:43:01 [INFO] idaes.reaktoro_pse.reaktoro_block: ---initializing property block fs.eq_ro_chem_props[0.8]----\n",
      "2025-07-22 16:43:01 [INFO] idaes.reaktoro_pse.core.reaktoro_state: Equilibrated successfully\n",
      "2025-07-22 16:43:01 [INFO] idaes.reaktoro_pse.core.reaktoro_block_builder: Initialized rkt block\n",
      "2025-07-22 16:43:01 [INFO] idaes.reaktoro_pse.reaktoro_block: ---initializing property block fs.eq_ro_chem_props[1.0]----\n",
      "2025-07-22 16:43:01 [INFO] idaes.reaktoro_pse.core.reaktoro_state: Equilibrated successfully\n",
      "2025-07-22 16:43:01 [INFO] idaes.reaktoro_pse.core.reaktoro_block_builder: Initialized rkt block\n"
     ]
    }
   ],
   "source": [
    "for blk, obj in m.fs.eq_ro_chem_props.items():\n",
    "    obj.initialize()"
   ]
  },
  {
   "cell_type": "markdown",
   "metadata": {},
   "source": [
    "Lets check our outputs make sense"
   ]
  },
  {
   "cell_type": "code",
   "execution_count": 24,
   "metadata": {},
   "outputs": [
    {
     "name": "stdout",
     "output_type": "stream",
     "text": [
      "(0.2, 'osmoticPressure', 'H2O') 3652485.7767003337\n",
      "(0.4, 'osmoticPressure', 'H2O') 3967465.6054316475\n",
      "(0.6, 'osmoticPressure', 'H2O') 4193243.9278157377\n",
      "(0.8, 'osmoticPressure', 'H2O') 4349279.355054818\n",
      "(1.0, 'osmoticPressure', 'H2O') 4461488.086135984\n",
      "(0.2, 'scalingTendency', 'Calcite') 2.0877948534608457\n",
      "(0.2, 'scalingTendency', 'Gypsum') 0.28437595853361824\n",
      "(0.4, 'scalingTendency', 'Calcite') 2.391065768947307\n",
      "(0.4, 'scalingTendency', 'Gypsum') 0.30926425486856407\n",
      "(0.6, 'scalingTendency', 'Calcite') 2.620201869739486\n",
      "(0.6, 'scalingTendency', 'Gypsum') 0.3271910672572744\n",
      "(0.8, 'scalingTendency', 'Calcite') 2.784535550483155\n",
      "(0.8, 'scalingTendency', 'Gypsum') 0.33965822702915743\n",
      "(1.0, 'scalingTendency', 'Calcite') 2.9059016859990248\n",
      "(1.0, 'scalingTendency', 'Gypsum') 0.34868726565536534\n",
      "(0.2, 'pH', None) 7.560000000025352\n",
      "(0.4, 'pH', None) 7.560000000000771\n",
      "(0.6, 'pH', None) 7.560000000011571\n",
      "(0.8, 'pH', None) 7.560000000000325\n",
      "(1.0, 'pH', None) 7.560000000001792\n"
     ]
    }
   ],
   "source": [
    "for key, obj in m.fs.RO.indexed_outputs.items():\n",
    "    print(key, obj.value)"
   ]
  },
  {
   "cell_type": "markdown",
   "metadata": {},
   "source": [
    "Solve RO model with new osmotic pressure calculation "
   ]
  },
  {
   "cell_type": "code",
   "execution_count": 25,
   "metadata": {},
   "outputs": [
    {
     "name": "stdout",
     "output_type": "stream",
     "text": [
      "cyipopt-watertap: cyipopt with user variable scaling and IDAES jacobian constraint scaling\n",
      "\n",
      "List of user-set options:\n",
      "\n",
      "                                    Name   Value                used\n",
      "              acceptable_constr_viol_tol = 1e-09                 yes\n",
      "                 acceptable_dual_inf_tol = 0.01                  yes\n",
      "                      bound_relax_factor = 0                     yes\n",
      "                         constr_viol_tol = 1e-08                 yes\n",
      "                  diverging_iterates_tol = 1e+30                 yes\n",
      "                            dual_inf_tol = 0.1                   yes\n",
      "                   honor_original_bounds = no                    yes\n",
      "                                max_iter = 50                    yes\n",
      "                      nlp_scaling_method = user-scaling          yes\n",
      "                      print_user_options = yes                   yes\n",
      "                                     tol = 1e-08                 yes\n",
      "This is Ipopt version 3.14.16, running with linear solver MUMPS 5.7.2.\n",
      "\n",
      "Number of nonzeros in equality constraint Jacobian...:     1647\n",
      "Number of nonzeros in inequality constraint Jacobian.:        0\n",
      "Number of nonzeros in Lagrangian Hessian.............:      794\n",
      "\n",
      "Total number of variables............................:      516\n",
      "                     variables with only lower bounds:      156\n",
      "                variables with lower and upper bounds:      231\n",
      "                     variables with only upper bounds:        0\n",
      "Total number of equality constraints.................:      516\n",
      "Total number of inequality constraints...............:        0\n",
      "        inequality constraints with only lower bounds:        0\n",
      "   inequality constraints with lower and upper bounds:        0\n",
      "        inequality constraints with only upper bounds:        0\n",
      "\n",
      "iter    objective    inf_pr   inf_du lg(mu)  ||d||  lg(rg) alpha_du alpha_pr  ls\n",
      "   0  0.0000000e+00 1.60e+04 1.00e+00  -1.0 0.00e+00    -  0.00e+00 0.00e+00   0\n",
      "   1  0.0000000e+00 7.50e+01 1.72e+02  -1.0 3.58e-01    -  9.90e-01 1.00e+00h  1\n",
      "   2  0.0000000e+00 2.53e+00 6.22e+00  -1.0 3.50e-01    -  9.90e-01 1.00e+00h  1\n",
      "   3  0.0000000e+00 5.61e-05 7.19e-02  -1.0 2.63e-04    -  9.90e-01 1.00e+00h  1\n",
      "   4  0.0000000e+00 1.63e-07 7.13e-04  -1.0 1.51e-08    -  9.90e-01 1.00e+00h  1\n",
      "   5  0.0000000e+00 1.77e-08 1.16e-06  -1.0 1.10e-09    -  9.97e-01 1.00e+00h  1\n",
      "   6  0.0000000e+00 1.02e-08 2.83e-08  -2.5 1.98e-13    -  1.00e+00 1.00e+00h  1\n",
      "   7  0.0000000e+00 1.68e-08 1.50e-09  -3.8 9.51e-14    -  1.00e+00 1.00e+00h  1\n",
      "   8  0.0000000e+00 1.21e-08 1.85e-11  -5.7 2.57e-13    -  1.00e+00 1.00e+00h  1\n",
      "   9  0.0000000e+00 1.54e-08 2.51e-14  -8.6 1.20e-13    -  1.00e+00 1.00e+00h  1\n",
      "iter    objective    inf_pr   inf_du lg(mu)  ||d||  lg(rg) alpha_du alpha_pr  ls\n",
      "  10  0.0000000e+00 1.21e-08 9.09e-15  -9.0 1.63e-13    -  1.00e+00 1.00e+00h  1\n",
      "  11  0.0000000e+00 1.40e-08 9.09e-15  -9.0 1.13e-13    -  1.00e+00 1.00e+00h  1\n",
      "  12  0.0000000e+00 8.38e-09 9.09e-15  -9.0 1.46e-13    -  1.00e+00 5.00e-01h  2\n",
      "\n",
      "Number of Iterations....: 12\n",
      "\n",
      "                                   (scaled)                 (unscaled)\n",
      "Objective...............:   0.0000000000000000e+00    0.0000000000000000e+00\n",
      "Dual infeasibility......:   9.0909099719147493e-15    6.8800818199129287e-11\n",
      "Constraint violation....:   2.0699341829914380e-14    8.3819031715393066e-09\n",
      "Variable bound violation:   0.0000000000000000e+00    0.0000000000000000e+00\n",
      "Complementarity.........:   9.0909090909091903e-10    9.0909090909091903e-10\n",
      "Overall NLP error.......:   9.0909090909091903e-10    8.3819031715393066e-09\n",
      "\n",
      "\n",
      "Number of objective function evaluations             = 17\n",
      "Number of objective gradient evaluations             = 13\n",
      "Number of equality constraint evaluations            = 17\n",
      "Number of inequality constraint evaluations          = 0\n",
      "Number of equality constraint Jacobian evaluations   = 13\n",
      "Number of inequality constraint Jacobian evaluations = 0\n",
      "Number of Lagrangian Hessian evaluations             = 12\n",
      "Total seconds in IPOPT                               = 3.033\n",
      "\n",
      "EXIT: Optimal Solution Found.\n"
     ]
    }
   ],
   "source": [
    "result = cy_solver.solve(m, tee=True)\n",
    "assert_optimal_termination(result)"
   ]
  },
  {
   "cell_type": "markdown",
   "metadata": {},
   "source": [
    "# Compare osmotic pressure for NaCl vs Reaktoro"
   ]
  },
  {
   "cell_type": "code",
   "execution_count": 26,
   "metadata": {},
   "outputs": [
    {
     "data": {
      "image/png": "[encoded data removed]",
      "text/plain": [
       "<Figure size 640x480 with 1 Axes>"
      ]
     },
     "metadata": {},
     "output_type": "display_data"
    }
   ],
   "source": [
    "import matplotlib.pyplot as plt\n",
    "\n",
    "fig, ax = plt.subplots()\n",
    "\n",
    "reaktoro_osm = []\n",
    "sewater_prop_pack_osm = []\n",
    "for idx in indexes:\n",
    "    reaktoro_osm.append(\n",
    "        float(m.fs.RO.indexed_outputs[idx, \"osmoticPressure\", \"H2O\"].value / 1e5)\n",
    "    )\n",
    "    \"\"\" recalc pressure from prop pack package\"\"\"\n",
    "    calculate_variable_from_constraint(\n",
    "        m.fs.RO.indexed_outputs[idx, \"osmoticPressure\", \"H2O\"],\n",
    "        m.fs.RO.feed_side.properties_interface[0.0, idx].eq_pressure_osm_phase[\"Liq\"],\n",
    "    )\n",
    "    sewater_prop_pack_osm.append(\n",
    "        float(m.fs.RO.indexed_outputs[idx, \"osmoticPressure\", \"H2O\"].value / 1e5)\n",
    "    )\n",
    "\n",
    "ax.plot(indexes, reaktoro_osm, color=\"red\", label=\"Reaktoro\")\n",
    "ax.plot(\n",
    "    indexes, sewater_prop_pack_osm, color=\"black\", label=f\"{prop_pack} property pack\"\n",
    ")\n",
    "ax.set(xlabel=\"Node position\", ylabel=\"Osmotic pressure (Bar)\")\n",
    "plt.legend()\n",
    "plt.show()"
   ]
  },
  {
   "cell_type": "markdown",
   "metadata": {},
   "source": [
    "Check other properties"
   ]
  },
  {
   "cell_type": "code",
   "execution_count": 27,
   "metadata": {},
   "outputs": [
    {
     "data": {
      "image/png": "[encoded data removed]",
      "text/plain": [
       "<Figure size 640x480 with 1 Axes>"
      ]
     },
     "metadata": {},
     "output_type": "display_data"
    }
   ],
   "source": [
    "fig, ax = plt.subplots()\n",
    "\n",
    "scaling_calcite = []\n",
    "scaling_gypsum = []\n",
    "for idx in indexes:\n",
    "    scaling_calcite.append(\n",
    "        float(m.fs.RO.indexed_outputs[idx, \"scalingTendency\", \"Calcite\"].value)\n",
    "    )\n",
    "    scaling_gypsum.append(\n",
    "        float(m.fs.RO.indexed_outputs[idx, \"scalingTendency\", \"Gypsum\"].value)\n",
    "    )\n",
    "ax.plot(indexes, scaling_calcite, color=\"red\", label=\"Calcite\")\n",
    "ax.plot(indexes, scaling_gypsum, color=\"black\", label=\"Gypsum\")\n",
    "ax.set(xlabel=\"Node position\", ylabel=\"Scaling tendency\")\n",
    "plt.legend()\n",
    "plt.show()"
   ]
  },
  {
   "cell_type": "markdown",
   "metadata": {},
   "source": [
    "Solve RO for higher recovery. "
   ]
  },
  {
   "cell_type": "code",
   "execution_count": 28,
   "metadata": {},
   "outputs": [
    {
     "name": "stdout",
     "output_type": "stream",
     "text": [
      "Current recovery 0.42961464880012323\n",
      "cyipopt-watertap: cyipopt with user variable scaling and IDAES jacobian constraint scaling\n",
      "\n",
      "List of user-set options:\n",
      "\n",
      "                                    Name   Value                used\n",
      "              acceptable_constr_viol_tol = 1e-09                 yes\n",
      "                 acceptable_dual_inf_tol = 0.01                  yes\n",
      "                      bound_relax_factor = 0                     yes\n",
      "                         constr_viol_tol = 1e-08                 yes\n",
      "                  diverging_iterates_tol = 1e+30                 yes\n",
      "                            dual_inf_tol = 0.1                   yes\n",
      "                   honor_original_bounds = no                    yes\n",
      "                                max_iter = 50                    yes\n",
      "                      nlp_scaling_method = user-scaling          yes\n",
      "                      print_user_options = yes                   yes\n",
      "                                     tol = 1e-08                 yes\n",
      "This is Ipopt version 3.14.16, running with linear solver MUMPS 5.7.2.\n",
      "\n",
      "Number of nonzeros in equality constraint Jacobian...:     1651\n",
      "Number of nonzeros in inequality constraint Jacobian.:        0\n",
      "Number of nonzeros in Lagrangian Hessian.............:      797\n",
      "\n",
      "Total number of variables............................:      516\n",
      "                     variables with only lower bounds:      156\n",
      "                variables with lower and upper bounds:      232\n",
      "                     variables with only upper bounds:        0\n",
      "Total number of equality constraints.................:      516\n",
      "Total number of inequality constraints...............:        0\n",
      "        inequality constraints with only lower bounds:        0\n",
      "   inequality constraints with lower and upper bounds:        0\n",
      "        inequality constraints with only upper bounds:        0\n",
      "\n",
      "iter    objective    inf_pr   inf_du lg(mu)  ||d||  lg(rg) alpha_du alpha_pr  ls\n",
      "   0  0.0000000e+00 1.60e+04 1.00e+00  -1.0 0.00e+00    -  0.00e+00 0.00e+00   0\n",
      "   1  0.0000000e+00 1.13e+05 2.91e+04  -1.0 7.30e+01    -  2.64e-01 1.00e+00h  1\n",
      "   2  0.0000000e+00 1.90e+03 4.26e+05  -1.0 5.49e+01    -  8.58e-01 1.00e+00h  1\n",
      "   3  0.0000000e+00 1.30e-01 1.80e+04  -1.0 4.67e+00    -  9.90e-01 1.00e+00h  1\n",
      "   4  0.0000000e+00 1.29e-05 4.13e+00  -1.0 5.52e-05    -  9.90e-01 1.00e+00h  1\n",
      "   5  0.0000000e+00 9.97e-08 1.02e-04  -1.0 5.42e-10    -  9.90e-01 1.00e+00h  1\n",
      "   6  0.0000000e+00 2.70e-08 1.00e-06  -1.0 4.79e-10    -  9.91e-01 1.00e+00h  1\n",
      "   7  0.0000000e+00 2.42e-08 1.00e-06  -1.0 7.32e-13    -  1.00e+00 1.00e+00h  1\n",
      "   8  0.0000000e+00 1.96e-08 2.83e-08  -2.5 3.15e-13    -  1.00e+00 1.00e+00h  1\n",
      "   9  0.0000000e+00 2.05e-08 1.50e-09  -3.8 2.77e-13    -  1.00e+00 1.00e+00h  1\n",
      "iter    objective    inf_pr   inf_du lg(mu)  ||d||  lg(rg) alpha_du alpha_pr  ls\n",
      "  10  0.0000000e+00 1.96e-08 1.84e-11  -5.7 2.42e-13    -  1.00e+00 1.00e+00h  1\n",
      "  11  0.0000000e+00 2.05e-08 2.51e-14  -8.6 3.12e-13    -  1.00e+00 1.00e+00h  1\n",
      "  12  0.0000000e+00 1.96e-08 1.09e-05  -9.0 3.20e-13    -  1.00e+00 6.25e-02h  5\n",
      "  13  0.0000000e+00 2.61e-08 9.09e-15  -9.0 2.36e-13    -  1.00e+00 1.00e+00h  1\n",
      "  14  0.0000000e+00 2.42e-08 9.09e-15  -9.0 4.05e-13    -  1.00e+00 1.00e+00h  1\n",
      "  15  0.0000000e+00 2.33e-08 9.09e-15  -9.0 6.23e-13    -  1.00e+00 3.12e-02h  6\n",
      "  16r 0.0000000e+00 2.33e-08 1.03e+01  -9.0 0.00e+00    -  0.00e+00 4.77e-07R 22\n",
      "  17r 0.0000000e+00 2.33e-08 5.81e-02  -9.0 6.73e-08    -  1.00e+00 2.98e-08h 26\n",
      "  18  0.0000000e+00 1.77e-08 9.09e-15  -9.0 6.54e-13    -  1.00e+00 1.00e+00s 22\n",
      "  19r 0.0000000e+00 1.68e-08 5.11e+01  -9.0 0.00e+00    -  0.00e+00 0.00e+00R  1\n",
      "iter    objective    inf_pr   inf_du lg(mu)  ||d||  lg(rg) alpha_du alpha_pr  ls\n",
      "  20r 0.0000000e+00 1.68e-08 5.81e-02  -9.0 6.73e-08    -  1.00e+00 1.86e-09h 30\n",
      "  21  0.0000000e+00 2.24e-08 9.09e-15  -9.0 1.78e-13    -  1.00e+00 1.00e+00s 22\n",
      "  22  0.0000000e+00 2.42e-08 9.09e-15  -9.0 4.20e-13    -  1.00e+00 1.00e+00s 22\n",
      "  23r 0.0000000e+00 2.42e-08 1.17e+01  -9.0 0.00e+00    -  0.00e+00 0.00e+00R  1\n",
      "  24r 0.0000000e+00 2.42e-08 5.81e-02  -9.0 6.73e-08    -  1.00e+00 1.19e-07h 24\n",
      "  25  0.0000000e+00 2.14e-08 9.09e-15  -9.0 4.81e-13    -  1.00e+00 1.00e+00s 22\n",
      "  26  0.0000000e+00 2.05e-08 9.09e-15  -9.0 5.88e-13    -  1.00e+00 1.00e+00s 22\n",
      "  27r 0.0000000e+00 2.05e-08 5.11e+01  -9.0 0.00e+00    -  0.00e+00 0.00e+00R  1\n",
      "  28r 0.0000000e+00 2.05e-08 5.81e-02  -9.0 6.73e-08    -  1.00e+00 7.45e-09h 28\n",
      "  29  0.0000000e+00 1.58e-08 9.09e-15  -9.0 7.81e-13    -  1.00e+00 1.00e+00s 22\n",
      "iter    objective    inf_pr   inf_du lg(mu)  ||d||  lg(rg) alpha_du alpha_pr  ls\n",
      "  30r 0.0000000e+00 1.58e-08 5.11e+01  -9.0 0.00e+00    -  0.00e+00 0.00e+00R  1\n",
      "  31r 0.0000000e+00 1.58e-08 5.81e-02  -9.0 6.73e-08    -  1.00e+00 2.98e-08h 26\n",
      "  32  0.0000000e+00 2.05e-08 9.09e-15  -9.0 2.64e-13    -  1.00e+00 1.00e+00s 22\n",
      "  33  0.0000000e+00 6.98e-09 9.09e-15  -9.0 6.78e-13    -  1.00e+00 1.00e+00s 22\n",
      "\n",
      "Number of Iterations....: 33\n",
      "\n",
      "                                   (scaled)                 (unscaled)\n",
      "Objective...............:   0.0000000000000000e+00    0.0000000000000000e+00\n",
      "Dual infeasibility......:   9.0909123220544230e-15    6.8800818198835845e-11\n",
      "Constraint violation....:   9.3132257461547856e-14    6.9849193096160889e-09\n",
      "Variable bound violation:   0.0000000000000000e+00    0.0000000000000000e+00\n",
      "Complementarity.........:   9.0909090909090920e-10    9.0909090909090920e-10\n",
      "Overall NLP error.......:   9.0909090909090920e-10    6.9849193096160889e-09\n",
      "\n",
      "\n",
      "Number of objective function evaluations             = 329\n",
      "Number of objective gradient evaluations             = 34\n",
      "Number of equality constraint evaluations            = 329\n",
      "Number of inequality constraint evaluations          = 0\n",
      "Number of equality constraint Jacobian evaluations   = 39\n",
      "Number of inequality constraint Jacobian evaluations = 0\n",
      "Number of Lagrangian Hessian evaluations             = 33\n",
      "Total seconds in IPOPT                               = 20.310\n",
      "\n",
      "EXIT: Optimal Solution Found.\n"
     ]
    }
   ],
   "source": [
    "print(\"Current recovery\", m.fs.RO.recovery_vol_phase[0, \"Liq\"].value)\n",
    "m.fs.RO.recovery_vol_phase[0, \"Liq\"].fix(0.5)\n",
    "m.fs.pump.outlet.pressure[0].unfix()\n",
    "result = cy_solver.solve(m, tee=True)\n",
    "assert_optimal_termination(result)"
   ]
  },
  {
   "cell_type": "markdown",
   "metadata": {},
   "source": [
    "Plot comparison at higher recovery"
   ]
  },
  {
   "cell_type": "code",
   "execution_count": 29,
   "metadata": {},
   "outputs": [
    {
     "data": {
      "image/png": "[encoded data removed]",
      "text/plain": [
       "<Figure size 640x480 with 1 Axes>"
      ]
     },
     "metadata": {},
     "output_type": "display_data"
    },
    {
     "data": {
      "image/png": "[encoded data removed]",
      "text/plain": [
       "<Figure size 640x480 with 1 Axes>"
      ]
     },
     "metadata": {},
     "output_type": "display_data"
    }
   ],
   "source": [
    "fig, ax = plt.subplots()\n",
    "\n",
    "reaktoro_osm = []\n",
    "sewater_prop_pack_osm = []\n",
    "for idx in indexes:\n",
    "    reaktoro_osm.append(\n",
    "        float(m.fs.RO.indexed_outputs[idx, \"osmoticPressure\", \"H2O\"].value / 1e5)\n",
    "    )\n",
    "    calculate_variable_from_constraint(\n",
    "        m.fs.RO.indexed_outputs[idx, \"osmoticPressure\", \"H2O\"],\n",
    "        m.fs.RO.feed_side.properties_interface[0.0, idx].eq_pressure_osm_phase[\"Liq\"],\n",
    "    )\n",
    "    sewater_prop_pack_osm.append(\n",
    "        float(m.fs.RO.indexed_outputs[idx, \"osmoticPressure\", \"H2O\"].value / 1e5)\n",
    "    )\n",
    "\n",
    "ax.plot(indexes, reaktoro_osm, color=\"red\", label=\"Reaktoro\")\n",
    "ax.plot(\n",
    "    indexes, sewater_prop_pack_osm, color=\"black\", label=f\"{prop_pack} property pack\"\n",
    ")\n",
    "ax.set(xlabel=\"Node position\", ylabel=\"Osmotic pressure (Bar)\")\n",
    "plt.legend()\n",
    "\n",
    "fig, ax = plt.subplots()\n",
    "\n",
    "scaling_calcite = []\n",
    "scaling_gypsum = []\n",
    "for idx in indexes:\n",
    "    scaling_calcite.append(\n",
    "        float(m.fs.RO.indexed_outputs[idx, \"scalingTendency\", \"Calcite\"].value)\n",
    "    )\n",
    "    scaling_gypsum.append(\n",
    "        float(m.fs.RO.indexed_outputs[idx, \"scalingTendency\", \"Gypsum\"].value)\n",
    "    )\n",
    "ax.plot(indexes, scaling_calcite, color=\"red\", label=\"Calcite\")\n",
    "ax.plot(indexes, scaling_gypsum, color=\"black\", label=\"Gypsum\")\n",
    "ax.set(xlabel=\"Node position\", ylabel=\"Scaling tendency\")\n",
    "plt.legend()\n",
    "plt.show()"
   ]
  }
 ],
 "metadata": {
  "kernelspec": {
   "display_name": "reaktoro-pse-dev",
   "language": "python",
   "name": "python3"
  },
  "language_info": {
   "codemirror_mode": {
    "name": "ipython",
    "version": 3
   },
   "file_extension": ".py",
   "mimetype": "text/x-python",
   "name": "python",
   "nbconvert_exporter": "python",
   "pygments_lexer": "ipython3",
   "version": "3.11.9"
  }
 },
 "nbformat": 4,
 "nbformat_minor": 4
}
