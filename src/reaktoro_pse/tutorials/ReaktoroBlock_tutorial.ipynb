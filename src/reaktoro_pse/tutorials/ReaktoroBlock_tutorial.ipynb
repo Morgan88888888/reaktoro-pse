{
 "cells": [
  {
   "cell_type": "markdown",
   "metadata": {},
   "source": [
    "# Tutorial on interacting with ReaktoroBlock\n",
    "Demonstration of how use Reaktoro block in practical settings. \n",
    "\n",
    "## Dependencies\n",
    "* Python - Programming language\n",
    "* Pyomo - Python package for equation-oriented modeling\n",
    "* IDAES - Python package extending Pyomo for flowsheet modeling\n",
    "* cyipopt - Solver necessary for use with gray box models\n",
    "* Reaktoro-pse -python package for building Reaktoro gray box models\n",
    "* WaterTAP - Unit models"
   ]
  },
  {
   "cell_type": "markdown",
   "metadata": {},
   "source": [
    "## Demonstration structure \n",
    "* Background on speciation and Reaktoro-pse philosophy \n",
    "* Setting up basic speciation block and calculating properties for a feed composition\n",
    "    * Demonstrate key configuration options\n",
    "    * Key display options\n",
    "    * How to adjust apparent species to achieve thermodynamic equilibrium\n",
    "* Adding Reaktoro block to a [RO WaterTAP](https://watertap.readthedocs.io/en/stable/technical_reference/unit_models/reverse_osmosis_1D.html) model for calculation of local osmotic pressure and scaling tendency\n"
   ]
  },
  {
   "cell_type": "markdown",
   "metadata": {},
   "source": [
    "## Reaktoro-PSE API and structure \n",
    "Reaktoro-pse is a wrapper for enabling use of [Reaktoro](https://reaktoro.org/) as a [Graybox model](https://pyomo.readthedocs.io/en/stable/contributed_packages/pynumero/pynumero.interfaces.external_grey_box_model.html) in IDAES compatible modeling platforms such as WaterTAP. This is not a replacement for Reaktoro or higher level API for Reaktoro. \n",
    "\n",
    "The general objective is to provide a structure that enables user to automatically build Reaktoro Graybox model by specifying:\n",
    "\n",
    "* Input ion composition (apprant  or exact species)\n",
    "* System temperature, pressure, pH, and charge neutrality\n",
    "* Rekatoro databases and activity models\n",
    "* Outputs supported by Reaktoro and custom outputs built using Reaktoro database information and outputs \n",
    "\n",
    "The general API structure is shown in Figure bellow. The figure shows the type of inputs and outputs and how they are handled by core api to configure Reaktoro Graybox model. "
   ]
  },
  {
   "cell_type": "markdown",
   "metadata": {},
   "source": [
    "<img src=\"reaktoro_pse_api.png\" width=\"1000\" height=\"650\">"
   ]
  },
  {
   "cell_type": "markdown",
   "metadata": {},
   "source": [
    "Reaktoro-pse supports all available databases and activity models provided by Reaktoro:\n",
    "* Please refer here for information on [databases](https://reaktoro.org/tutorials/basics/loading-databases.html) (all are supported) \n",
    "* Please refer here for information on [activity models](https://reaktoro.org/tutorials/basics/specifying-activity-models.html) (all are supported, included chain operations, or passing in pre-configured activity models) \n",
    "\n",
    "Reaktoro-pse supports all properties that provide as single floating point or real value as an output from chemical and aqueous properties: \n",
    "* [Chemical properties](https://reaktoro.org/api/classReaktoro_1_1ChemicalProps.html)\n",
    "* [Aqueous properties](https://reaktoro.org/api/classReaktoro_1_1AqueousProps.html)\n",
    "* Pyomo build properties, which are custom properties built in Pyomo that use chemical properties or aqueous properties "
   ]
  },
  {
   "cell_type": "markdown",
   "metadata": {},
   "source": [
    "## ReaktoroBlock builds Reaktoro Graybox usings standard IDAES StateBlock methods\n",
    "\n",
    "The ReaktoroBlock automates construction of reaktoro Graybox as a IDAES [StateBlock](https://idaes-pse.readthedocs.io/en/stable/explanations/components/property_package/state_block.html), providing range of configuration of options to simplify performing equilibrium chemistry calculations:\n",
    "\n",
    "* Enables construction of speciation block and propagation of exact spetiation to property block to enable chemistry modification\n",
    "* Supports indexing \n",
    "* Provides options to configure reaktoro property block (and if constructed speciation block) \n",
    "* Uses core api functionality to automatically scale input and output variables and constraints if user does not provide any\n",
    "* Automatically scales gray box jacobian \n",
    "* Provides defaults to simplify configuration and usage for typical calculations \n",
    "\n",
    "**Minimal configuration options required for RreaktoroBlock:**\n",
    "* Database and database file selection from Reaktoro\n",
    "* Activity models for phases being considered from Reaktoro\n",
    "* Input apparent or exact species mol or mass flows (**concentrations are not supported!**)\n",
    "* If speciation block is needed (if exact speciation is not provided then generally yes)\n",
    "* System states (temperature, pressure, or pH, unless they are being solved for)\n",
    "* Outputs of interest "
   ]
  },
  {
   "cell_type": "markdown",
   "metadata": {},
   "source": [
    "### Example for speciation of NaCl and use with RO model"
   ]
  },
  {
   "cell_type": "markdown",
   "metadata": {},
   "source": [
    "## Import needed modules"
   ]
  },
  {
   "cell_type": "code",
   "execution_count": 8,
   "metadata": {},
   "outputs": [],
   "source": [
    "## Import core components\n",
    "# Pyomo core components\n",
    "from pyomo.environ import (\n",
    "    Var,\n",
    "    Constraint,\n",
    "    TransformationFactory,\n",
    "    Reals,\n",
    "    ConcreteModel,\n",
    "    value,\n",
    "    assert_optimal_termination,\n",
    "    units as pyunits,\n",
    ")\n",
    "from pyomo.network import Arc\n",
    "\n",
    "# Ideas core components\n",
    "from idaes.core import FlowsheetBlock\n",
    "from idaes.core.util.scaling import (\n",
    "    calculate_scaling_factors,\n",
    "    set_scaling_factor,\n",
    "    constraint_scaling_transform,\n",
    ")\n",
    "\n",
    "from idaes.core.util.model_statistics import degrees_of_freedom\n",
    "from watertap.core.solvers import get_solver\n",
    "\n",
    "from idaes.core.util.initialization import propagate_state\n",
    "\n",
    "from idaes.models.unit_models import Feed\n",
    "from pyomo.util.calc_var_value import calculate_variable_from_constraint\n",
    "\n",
    "# WaterTAP core components\n",
    "import watertap.property_models.NaCl_prop_pack as properties\n",
    "\n",
    "# Import reaktoro-pse and reaktoro\n",
    "from reaktoro_pse.reaktoro_block import ReaktoroBlock\n",
    "import reaktoro"
   ]
  },
  {
   "cell_type": "markdown",
   "metadata": {},
   "source": [
    "### Incorporating Reaktoro to calculate Seawater properties in Reverse Osmosis Desalination\n",
    "Sea water desalination is a common process. Here it is demonstrated how ReaktoroBlock can be used:\n",
    " 1) Calculate feed density, achieve reaktoro_charge neutrality, and estimate amount of acid need to operate at target pH\n",
    " 2) Calculate osmotic pressure on each node of 1D WaterTAP RO model"
   ]
  },
  {
   "cell_type": "code",
   "execution_count": 9,
   "metadata": {},
   "outputs": [],
   "source": [
    "\"\"\"This a typical composition of sea water with ion concentration in mg/L and pH\"\"\"\n",
    "\n",
    "sea_water_composition = {\n",
    "    \"Na\": 10556,\n",
    "    \"K\": 380,\n",
    "    \"Ca\": 400,\n",
    "    \"Mg\": 1262,\n",
    "    \"Cl\": 17000,\n",
    "    \"SO4\": 2649,\n",
    "    \"HCO3\": 140,\n",
    "}\n",
    "sea_water_ph = 7.56"
   ]
  },
  {
   "cell_type": "markdown",
   "metadata": {},
   "source": [
    "### Define standard Pyomo model and WaterTAP property package"
   ]
  },
  {
   "cell_type": "code",
   "execution_count": 10,
   "metadata": {},
   "outputs": [],
   "source": [
    "m = ConcreteModel()\n",
    "# create IDAES flowsheet\n",
    "m.fs = FlowsheetBlock(dynamic=False)\n",
    "# create NaCl property model\n",
    "m.fs.properties = properties.NaClParameterBlock()\n",
    "# build feed\n",
    "m.fs.feed = Feed(property_package=m.fs.properties)"
   ]
  },
  {
   "cell_type": "markdown",
   "metadata": {},
   "source": [
    "### Define inputs for Reaktoro and outputs\n",
    "The NaCl prop package does not track spiceies so we will create new variable sets to track thesese as well as needed outputs"
   ]
  },
  {
   "cell_type": "code",
   "execution_count": 11,
   "metadata": {},
   "outputs": [],
   "source": [
    "\"\"\"Need to create true feed compostion, the default NaCl property block only tracks NaCl\"\"\"\n",
    "\n",
    "# Get ions\n",
    "ions = list(sea_water_composition.keys())\n",
    "#\n",
    "m.fs.feed.species_concentrations = Var(\n",
    "    ions, initialize=1, bounds=(0, None), units=pyunits.mg / pyunits.L\n",
    ")\n",
    "\n",
    "\"\"\"ReaktoroBlock needs mass flows of all the species\"\"\"\n",
    "ions.append(\"H2O\")\n",
    "m.fs.feed.species_mass_flow = Var(\n",
    "    ions, initialize=1, bounds=(0, None), units=pyunits.kg / pyunits.s\n",
    ")\n",
    "\n",
    "\"\"\"Create pH variable for feed\"\"\"\n",
    "m.fs.feed.pH = Var(initialize=sea_water_ph)\n",
    "m.fs.feed.pH.fix()\n",
    "\n",
    "\"\"\"The solution is not charge neutralized, so to get true TDS, we will need to adjust concentration of one of the ions\"\"\"\n",
    "m.fs.feed.reaktoro_charge = Var(initialize=0, bounds=(None, None))\n",
    "set_scaling_factor(m.fs.feed.reaktoro_charge, 1e8)\n",
    "\n",
    "\"\"\"To get true flow mass, the density is needed for the solution, we can get that from reaktoro\"\"\"\n",
    "m.fs.feed.reaktoro_density = Var(\n",
    "    initialize=1000, units=pyunits.kg / pyunits.m**3\n",
    ")  # default density unit returned by reaktoro - https://reaktoro.org/api/classReaktoro_1_1ChemicalProps.html#afd97c7985258fa29f5a69634c07a0ac7\n",
    "\n",
    "\"\"\" We can also get osmotic pressure to compare to NaCl prop pack predicitons, and pH after acid addition\"\"\"\n",
    "m.fs.feed.reaktoro_osmotic_pressure = Var(initialize=1, units=pyunits.Pa)\n",
    "m.fs.feed.reaktoro_adjusted_pH = Var(initialize=1, units=pyunits.dimensionless)\n",
    "\n",
    "\"\"\" We will want to add a dose of acid to the feed to drop the pH to typical operating point of RO\"\"\"\n",
    "m.fs.acid_dose = Var(initialize=0, units=pyunits.mg / pyunits.L)\n",
    "m.fs.acid_mass_flow = Var(\n",
    "    initialize=0, units=pyunits.kg / pyunits.s\n",
    ")  # Reaktoro will use massflow as input!"
   ]
  },
  {
   "cell_type": "markdown",
   "metadata": {},
   "source": [
    "### Writing constraints for calculation of mass flows"
   ]
  },
  {
   "cell_type": "code",
   "execution_count": 12,
   "metadata": {},
   "outputs": [],
   "source": [
    "\"\"\"Write constraints to convert concentration to mass flows\"\"\"\n",
    "\n",
    "@m.fs.feed.Constraint(list(m.fs.feed.species_mass_flow.keys()))\n",
    "def eq_feed_species_mass_flow(fs, ion):\n",
    "    if ion == \"H2O\":\n",
    "        return (\n",
    "            m.fs.feed.species_mass_flow[\"H2O\"]\n",
    "            == m.fs.feed.properties[0].flow_mass_phase_comp[\"Liq\", \"H2O\"]\n",
    "        )\n",
    "    else:\n",
    "        \"\"\"calculate mass flow based on density\"\"\"\n",
    "        return m.fs.feed.species_mass_flow[ion] == pyunits.convert(\n",
    "            m.fs.feed.species_concentrations[ion]\n",
    "            * m.fs.feed.properties[0].flow_mass_phase_comp[(\"Liq\", \"H2O\")]\n",
    "            / m.fs.feed.reaktoro_density,\n",
    "            to_units=pyunits.kg / pyunits.s,\n",
    "        )\n",
    "\n",
    "\n",
    "\"\"\" Need NaCl for the NaCl property package in watertap \"\"\"\n",
    "m.fs.feed.eq_NaCl = Constraint(\n",
    "    expr=m.fs.feed.properties[0].flow_mass_phase_comp[(\"Liq\", \"NaCl\")]\n",
    "    == sum(m.fs.feed.species_mass_flow[ion] for ion in m.fs.feed.species_concentrations)\n",
    ")\n",
    "\n",
    "\"\"\" Calculate acid dose \"\"\"\n",
    "m.fs.eq_acid_dose = Constraint(\n",
    "    expr=m.fs.acid_mass_flow\n",
    "    == pyunits.convert(\n",
    "        m.fs.acid_dose\n",
    "        * m.fs.feed.properties[0].flow_mass_phase_comp[(\"Liq\", \"H2O\")]\n",
    "        / m.fs.feed.reaktoro_density,\n",
    "        to_units=pyunits.kg / pyunits.s,\n",
    "    )\n",
    ")"
   ]
  },
  {
   "cell_type": "markdown",
   "metadata": {},
   "source": [
    "### Reaktoro Block output dict"
   ]
  },
  {
   "cell_type": "code",
   "execution_count": 13,
   "metadata": {},
   "outputs": [],
   "source": [
    "\"\"\"We need to define an output dictionary with our properties - this can also be an Pyomo IndexedVar please check examples in examples folder for how to use IndexedVars as outputs\"\"\"\n",
    "\n",
    "m.fs.feed.reaktoro_outputs = {\n",
    "    (\n",
    "        \"pH\",\n",
    "        None,\n",
    "    ): m.fs.feed.reaktoro_adjusted_pH,  # the \"None\" in second index is defined to indicate its a system property rather then specific component\n",
    "    (\n",
    "        \"osmoticPressure\",\n",
    "        \"H2O\",\n",
    "    ): m.fs.feed.reaktoro_osmotic_pressure,  # not how the second key is the water, we can get osmotic pressure for different components in the system\n",
    "    (\"density\", None): m.fs.feed.reaktoro_density,\n",
    "    (\"charge\", None): m.fs.feed.reaktoro_charge,\n",
    "    \"speciesAmount\": True,  # - this will force reaktor to return exact speciation with all species - we will use this down the line\n",
    "}"
   ]
  },
  {
   "cell_type": "markdown",
   "metadata": {},
   "source": [
    "### Configure ReaktoroBlock\n",
    "We are dealing with seawater desalination, which implies operation at high salinity and pressure for such conditions the PhreeqC Pitzer data base is a good choice \n",
    "For comparison of PhreeqC data base following paper is a good reference: https://doi.org/10.1016/j.earscirev.2021.103888 "
   ]
  },
  {
   "cell_type": "code",
   "execution_count": 14,
   "metadata": {},
   "outputs": [
    {
     "name": "stdout",
     "output_type": "stream",
     "text": [
      "2024-09-01 15:56:17 [INFO] idaes.reaktoro_pse.core.reaktoro_inputs: Exact speciation is not provided! Fixing aqueous solvent and, excluding H\n",
      "2024-09-01 15:56:17 [INFO] idaes.reaktoro_pse.core.reaktoro_inputs: Exact speciation is not provided! Fixing aqueous solvent and, excluding O\n",
      "2024-09-01 15:56:17 [INFO] idaes.reaktoro_pse.core.reaktoro_gray_box: RKT gray box using Jt.J hessian type\n",
      "2024-09-01 15:56:17 [WARNING] idaes.reaktoro_pse.core.reaktoro_inputs: Registered an empty constraint for ['H+', 'OH-'], this can lead to unexpected results depending on reaktoro configuration, please use with caution\n",
      "2024-09-01 15:56:17 [WARNING] idaes.reaktoro_pse.core.reaktoro_inputs: Registered an empty constraint for ['H+', 'OH-'], this can lead to unexpected results depending on reaktoro configuration, please use with caution\n",
      "2024-09-01 15:56:18 [INFO] idaes.reaktoro_pse.core.reaktoro_gray_box: RKT gray box using Jt.J hessian type\n"
     ]
    }
   ],
   "source": [
    "from reaktoro_pse.reaktoro_block_config import reaktoro_solver_options\n",
    "\n",
    "\n",
    "m.fs.feed.reaktoro_properties = ReaktoroBlock(\n",
    "    aqueous_phase={\n",
    "        \"composition\": m.fs.feed.species_mass_flow,  # This is the spices mass flow\n",
    "        \"convert_to_rkt_species\": True,  # We can use default converter as its defined for default database (Phreeqc and pitzer)\n",
    "        \"activity_model\": reaktoro.ActivityModelPitzer(),  # Can provide a string, or Reaktoro initialized class\n",
    "        \"fixed_solvent_specie\": \"H2O\",  # We need to define our aqueous solvent as we have to speciate the block\n",
    "    },\n",
    "    system_state={\n",
    "        \"temperature\": m.fs.feed.properties[0].temperature,\n",
    "        \"pressure\": m.fs.feed.properties[0].pressure,\n",
    "        \"pH\": m.fs.feed.pH,\n",
    "    },\n",
    "    outputs=m.fs.feed.reaktoro_outputs,  # outputs we desired\n",
    "    chemistry_modifier={\n",
    "        \"HCl\": m.fs.acid_mass_flow\n",
    "    },  # here we define that we are adding 'HCL' as acid and its mass flow\n",
    "    database=\"PhreeqcDatabase\",  # Can provide a string, or Reaktoro initialized class reaktor.PhreeqcDatabase()\n",
    "    database_file=\"pitzer.dat\",  # needs to be a string that names the database file or points to its location\n",
    "    dissolve_species_in_reaktoro=True,  # This will sum up all species into elements in Reaktoro directly, if set to false, it will build Pyomo constraints instead\n",
    "    assert_charge_neutrality=False,  # This is True by Default, but here we actually want to adjust the input speciation till the charge is zero\n",
    "    reaktoro_solve_options={\n",
    "        \"open_species_on_property_block\": [\n",
    "            \"H+\",\n",
    "            \"OH-\",\n",
    "        ]\n",
    "    },  # This option helps stabilize Reaktoro by providing redundant constraints and generally does not impact final solution.\n",
    "    build_speciation_block=True,  # We provided apparent species so we need to speciate them.\n",
    ")"
   ]
  },
  {
   "cell_type": "markdown",
   "metadata": {},
   "source": [
    "### Inspecting Reaktoro block outputs and inputs"
   ]
  },
  {
   "cell_type": "markdown",
   "metadata": {},
   "source": [
    "Lets inspect inputs into the Graybox model on speciation block"
   ]
  },
  {
   "cell_type": "code",
   "execution_count": 15,
   "metadata": {},
   "outputs": [
    {
     "name": "stdout",
     "output_type": "stream",
     "text": [
      "inputs : Size=11, Index=fs.feed.reaktoro_properties.speciation_block.reaktoro_model._input_names_set\n",
      "    Key         : Lower : Value : Upper : Fixed : Stale : Domain\n",
      "          CO3-2 :     0 :     1 :  None : False : False :  Reals\n",
      "           Ca+2 :     0 :     1 :  None : False : False :  Reals\n",
      "            Cl- :     0 :     1 :  None : False : False :  Reals\n",
      "            H2O :     0 :     1 :  None : False : False :  Reals\n",
      "             K+ :     0 :     1 :  None : False : False :  Reals\n",
      "           Mg+2 :     0 :     1 :  None : False : False :  Reals\n",
      "            Na+ :     0 :     1 :  None : False : False :  Reals\n",
      "          SO4-2 :     0 :     1 :  None : False : False :  Reals\n",
      "             pH :     0 :     1 :  None : False : False :  Reals\n",
      "       pressure :     0 :     1 :  None : False : False :  Reals\n",
      "    temperature :     0 :     1 :  None : False : False :  Reals\n"
     ]
    }
   ],
   "source": [
    "m.fs.feed.reaktoro_properties.speciation_block.reaktoro_model.inputs.display()"
   ]
  },
  {
   "cell_type": "markdown",
   "metadata": {},
   "source": [
    "This inputs are converted to element sums, with in reaktoro and we can inspect them for each block\n",
    "useing lower level api calls "
   ]
  },
  {
   "cell_type": "code",
   "execution_count": 16,
   "metadata": {},
   "outputs": [
    {
     "name": "stdout",
     "output_type": "stream",
     "text": [
      "C [(1.0, 'CO3-2')]\n",
      "Na [(1.0, 'Na+')]\n",
      "Mg [(1.0, 'Mg+2')]\n",
      "S [(1.0, 'SO4-2')]\n",
      "Cl [(1.0, 'Cl-')]\n",
      "K [(1.0, 'K+')]\n",
      "Ca [(1.0, 'Ca+2')]\n"
     ]
    }
   ],
   "source": [
    "\"\"\" for speciation block\"\"\"\n",
    "\n",
    "conversion_dict = (\n",
    "    m.fs.feed.reaktoro_properties.speciation_block.rkt_inputs.constraint_dict\n",
    ")\n",
    "for element, species in conversion_dict.items():\n",
    "    print(element, species)"
   ]
  },
  {
   "cell_type": "code",
   "execution_count": 17,
   "metadata": {},
   "outputs": [
    {
     "name": "stdout",
     "output_type": "stream",
     "text": [
      "H [(1.0, 'H+'), (1.0, 'OH-'), (2.0, 'H2O'), (1.0, 'MgOH+'), (1.0, 'HCO3-'), (1.0, 'HSO4-'), (1, 'HCl')]\n",
      "C [(1.0, 'CO2'), (1.0, 'CO3-2'), (1.0, 'MgCO3'), (1.0, 'HCO3-')]\n",
      "O [(1.0, 'OH-'), (2.0, 'CO2'), (1.0, 'H2O'), (1.0, 'MgOH+'), (3.0, 'CO3-2'), (4.0, 'SO4-2'), (3.0, 'MgCO3'), (3.0, 'HCO3-'), (4.0, 'HSO4-')]\n",
      "Na [(1.0, 'Na+')]\n",
      "Mg [(1.0, 'MgOH+'), (1.0, 'Mg+2'), (1.0, 'MgCO3')]\n",
      "S [(1.0, 'SO4-2'), (1.0, 'HSO4-')]\n",
      "Cl [(1.0, 'Cl-'), (1, 'HCl')]\n",
      "K [(1.0, 'K+')]\n",
      "Ca [(1.0, 'Ca+2')]\n"
     ]
    }
   ],
   "source": [
    "\"\"\"for main block\"\"\"\n",
    "\n",
    "conversion_dict = m.fs.feed.reaktoro_properties.rkt_inputs.constraint_dict\n",
    "for element, species in conversion_dict.items():\n",
    "    print(element, species)"
   ]
  },
  {
   "cell_type": "markdown",
   "metadata": {},
   "source": [
    "Lets inspect outputs from speciation block, which produce exact stream speciation based on input"
   ]
  },
  {
   "cell_type": "code",
   "execution_count": 18,
   "metadata": {},
   "outputs": [
    {
     "name": "stdout",
     "output_type": "stream",
     "text": [
      "outputs : Size=15, Index={('speciesAmount', 'H+'), ('speciesAmount', 'K+'), ('speciesAmount', 'OH-'), ('speciesAmount', 'CO2'), ('speciesAmount', 'H2O'), ('speciesAmount', 'MgOH+'), ('speciesAmount', 'Na+'), ('speciesAmount', 'CO3-2'), ('speciesAmount', 'Mg+2'), ('speciesAmount', 'Cl-'), ('speciesAmount', 'SO4-2'), ('speciesAmount', 'Ca+2'), ('speciesAmount', 'MgCO3'), ('speciesAmount', 'HCO3-'), ('speciesAmount', 'HSO4-')}\n",
      "    Key                        : Lower : Value : Upper : Fixed : Stale : Domain\n",
      "      ('speciesAmount', 'CO2') :  None :     1 :  None : False : False :  Reals\n",
      "    ('speciesAmount', 'CO3-2') :  None :     1 :  None : False : False :  Reals\n",
      "     ('speciesAmount', 'Ca+2') :  None :     1 :  None : False : False :  Reals\n",
      "      ('speciesAmount', 'Cl-') :  None :     1 :  None : False : False :  Reals\n",
      "       ('speciesAmount', 'H+') :  None :     1 :  None : False : False :  Reals\n",
      "      ('speciesAmount', 'H2O') :  None :     1 :  None : False : False :  Reals\n",
      "    ('speciesAmount', 'HCO3-') :  None :     1 :  None : False : False :  Reals\n",
      "    ('speciesAmount', 'HSO4-') :  None :     1 :  None : False : False :  Reals\n",
      "       ('speciesAmount', 'K+') :  None :     1 :  None : False : False :  Reals\n",
      "     ('speciesAmount', 'Mg+2') :  None :     1 :  None : False : False :  Reals\n",
      "    ('speciesAmount', 'MgCO3') :  None :     1 :  None : False : False :  Reals\n",
      "    ('speciesAmount', 'MgOH+') :  None :     1 :  None : False : False :  Reals\n",
      "      ('speciesAmount', 'Na+') :  None :     1 :  None : False : False :  Reals\n",
      "      ('speciesAmount', 'OH-') :  None :     1 :  None : False : False :  Reals\n",
      "    ('speciesAmount', 'SO4-2') :  None :     1 :  None : False : False :  Reals\n"
     ]
    }
   ],
   "source": [
    "m.fs.feed.reaktoro_properties.speciation_block.outputs.display()"
   ]
  },
  {
   "cell_type": "markdown",
   "metadata": {},
   "source": [
    "Lets inspect inputs into main ReaktoroBlock Graybox\n",
    "\n",
    "Note how the speciation block outputs are now inputs into the model, including chemistry modifier HCl!"
   ]
  },
  {
   "cell_type": "code",
   "execution_count": 19,
   "metadata": {},
   "outputs": [
    {
     "name": "stdout",
     "output_type": "stream",
     "text": [
      "inputs : Size=18, Index=fs.feed.reaktoro_properties.reaktoro_model._input_names_set\n",
      "    Key         : Lower : Value : Upper : Fixed : Stale : Domain\n",
      "            CO2 :     0 :     1 :  None : False : False :  Reals\n",
      "          CO3-2 :     0 :     1 :  None : False : False :  Reals\n",
      "           Ca+2 :     0 :     1 :  None : False : False :  Reals\n",
      "            Cl- :     0 :     1 :  None : False : False :  Reals\n",
      "             H+ :     0 :     1 :  None : False : False :  Reals\n",
      "            H2O :     0 :     1 :  None : False : False :  Reals\n",
      "          HCO3- :     0 :     1 :  None : False : False :  Reals\n",
      "            HCl :     0 :     1 :  None : False : False :  Reals\n",
      "          HSO4- :     0 :     1 :  None : False : False :  Reals\n",
      "             K+ :     0 :     1 :  None : False : False :  Reals\n",
      "           Mg+2 :     0 :     1 :  None : False : False :  Reals\n",
      "          MgCO3 :     0 :     1 :  None : False : False :  Reals\n",
      "          MgOH+ :     0 :     1 :  None : False : False :  Reals\n",
      "            Na+ :     0 :     1 :  None : False : False :  Reals\n",
      "            OH- :     0 :     1 :  None : False : False :  Reals\n",
      "          SO4-2 :     0 :     1 :  None : False : False :  Reals\n",
      "       pressure :     0 :     1 :  None : False : False :  Reals\n",
      "    temperature :     0 :     1 :  None : False : False :  Reals\n"
     ]
    }
   ],
   "source": [
    "m.fs.feed.reaktoro_properties.reaktoro_model.inputs.display()"
   ]
  },
  {
   "cell_type": "markdown",
   "metadata": {},
   "source": [
    "Lets inspect outputs from main reaktoro model\n",
    "\n",
    "Note how we are missing osmoticPressure, and instead have speciesActivityLn and speciesStandardVolume as our outputs, this is becouse we osmoticPressure is a pyomo property, rather a native property supplied by reaktoro. You can inspect how this property is created by checking the:\n",
    "* osmoticPressure in PyomoProperties class located in reaktoro_pse.core.reaktoro_outputs\n",
    "* build_osmotic_constraint in reaktoro_pse.core.pyomo_property_writer.property_functions\n",
    "\n",
    "This two location will also show how we can access reaktoro database to pull out fixed parameters and create a custom pyomo property. "
   ]
  },
  {
   "cell_type": "code",
   "execution_count": 20,
   "metadata": {},
   "outputs": [
    {
     "name": "stdout",
     "output_type": "stream",
     "text": [
      "outputs : Size=21, Index=fs.feed.reaktoro_properties.reaktoro_model._output_names_set\n",
      "    Key                              : Lower : Value : Upper : Fixed : Stale : Domain\n",
      "                    ('charge', None) :  None :   0.1 :  None : False : False :  Reals\n",
      "                   ('density', None) :  None :   0.1 :  None : False : False :  Reals\n",
      "                        ('pH', None) :  None :   0.1 :  None : False : False :  Reals\n",
      "        ('speciesActivityLn', 'H2O') :  None :   0.1 :  None : False : False :  Reals\n",
      "            ('speciesAmount', 'CO2') :  None :   0.1 :  None : False : False :  Reals\n",
      "          ('speciesAmount', 'CO3-2') :  None :   0.1 :  None : False : False :  Reals\n",
      "           ('speciesAmount', 'Ca+2') :  None :   0.1 :  None : False : False :  Reals\n",
      "            ('speciesAmount', 'Cl-') :  None :   0.1 :  None : False : False :  Reals\n",
      "             ('speciesAmount', 'H+') :  None :   0.1 :  None : False : False :  Reals\n",
      "            ('speciesAmount', 'H2O') :  None :   0.1 :  None : False : False :  Reals\n",
      "          ('speciesAmount', 'HCO3-') :  None :   0.1 :  None : False : False :  Reals\n",
      "          ('speciesAmount', 'HSO4-') :  None :   0.1 :  None : False : False :  Reals\n",
      "             ('speciesAmount', 'K+') :  None :   0.1 :  None : False : False :  Reals\n",
      "           ('speciesAmount', 'Mg+2') :  None :   0.1 :  None : False : False :  Reals\n",
      "          ('speciesAmount', 'MgCO3') :  None :   0.1 :  None : False : False :  Reals\n",
      "          ('speciesAmount', 'MgOH+') :  None :   0.1 :  None : False : False :  Reals\n",
      "            ('speciesAmount', 'Na+') :  None :   0.1 :  None : False : False :  Reals\n",
      "            ('speciesAmount', 'OH-') :  None :   0.1 :  None : False : False :  Reals\n",
      "          ('speciesAmount', 'SO4-2') :  None :   0.1 :  None : False : False :  Reals\n",
      "    ('speciesStandardVolume', 'H2O') :  None :   0.1 :  None : False : False :  Reals\n",
      "               ('temperature', None) :  None :   0.1 :  None : False : False :  Reals\n"
     ]
    }
   ],
   "source": [
    "m.fs.feed.reaktoro_properties.reaktoro_model.outputs.display()"
   ]
  },
  {
   "cell_type": "markdown",
   "metadata": {},
   "source": [
    "Now lets check the final reaktoro output that are built on ReaktoroBlock\n",
    "\n",
    "Note how only specie amounts are present in an IndexedVar other properties are automatically connected to Variables we provided in our m.fs.feed.reaktoro_outputs dictionary. "
   ]
  },
  {
   "cell_type": "code",
   "execution_count": 21,
   "metadata": {},
   "outputs": [
    {
     "name": "stdout",
     "output_type": "stream",
     "text": [
      "outputs : Size=15, Index={('speciesAmount', 'H+'), ('speciesAmount', 'K+'), ('speciesAmount', 'OH-'), ('speciesAmount', 'CO2'), ('speciesAmount', 'H2O'), ('speciesAmount', 'MgOH+'), ('speciesAmount', 'Na+'), ('speciesAmount', 'CO3-2'), ('speciesAmount', 'Mg+2'), ('speciesAmount', 'Cl-'), ('speciesAmount', 'SO4-2'), ('speciesAmount', 'Ca+2'), ('speciesAmount', 'MgCO3'), ('speciesAmount', 'HCO3-'), ('speciesAmount', 'HSO4-')}\n",
      "    Key                        : Lower : Value : Upper : Fixed : Stale : Domain\n",
      "      ('speciesAmount', 'CO2') :  None :     1 :  None : False : False :  Reals\n",
      "    ('speciesAmount', 'CO3-2') :  None :     1 :  None : False : False :  Reals\n",
      "     ('speciesAmount', 'Ca+2') :  None :     1 :  None : False : False :  Reals\n",
      "      ('speciesAmount', 'Cl-') :  None :     1 :  None : False : False :  Reals\n",
      "       ('speciesAmount', 'H+') :  None :     1 :  None : False : False :  Reals\n",
      "      ('speciesAmount', 'H2O') :  None :     1 :  None : False : False :  Reals\n",
      "    ('speciesAmount', 'HCO3-') :  None :     1 :  None : False : False :  Reals\n",
      "    ('speciesAmount', 'HSO4-') :  None :     1 :  None : False : False :  Reals\n",
      "       ('speciesAmount', 'K+') :  None :     1 :  None : False : False :  Reals\n",
      "     ('speciesAmount', 'Mg+2') :  None :     1 :  None : False : False :  Reals\n",
      "    ('speciesAmount', 'MgCO3') :  None :     1 :  None : False : False :  Reals\n",
      "    ('speciesAmount', 'MgOH+') :  None :     1 :  None : False : False :  Reals\n",
      "      ('speciesAmount', 'Na+') :  None :     1 :  None : False : False :  Reals\n",
      "      ('speciesAmount', 'OH-') :  None :     1 :  None : False : False :  Reals\n",
      "    ('speciesAmount', 'SO4-2') :  None :     1 :  None : False : False :  Reals\n"
     ]
    }
   ],
   "source": [
    "m.fs.feed.reaktoro_properties.outputs.display()"
   ]
  },
  {
   "cell_type": "markdown",
   "metadata": {},
   "source": [
    "### Set default values for feed and scaling"
   ]
  },
  {
   "cell_type": "code",
   "execution_count": 22,
   "metadata": {},
   "outputs": [],
   "source": [
    "m.fs.feed.properties[0].temperature.fix(273 + 25)  # temperature (K)\n",
    "m.fs.feed.properties[0].pressure.fix(101325)  # pressure (Pa)\n",
    "m.fs.feed.properties[0].flow_mass_phase_comp[\"Liq\", \"H2O\"].fix(\n",
    "    0.965\n",
    ")  # mass flowrate of H2O (kg/s)\n",
    "m.fs.feed.properties[0].conc_mass_phase_comp[...]  # construct concentration props\n",
    "m.fs.feed.properties[0].pressure_osm_phase[...]\n",
    "m.fs.properties.set_default_scaling(\n",
    "    \"flow_mass_phase_comp\",\n",
    "    1 / 0.965,\n",
    "    index=(\"Liq\", \"H2O\"),\n",
    ")\n",
    "m.fs.properties.set_default_scaling(\n",
    "    \"flow_mass_phase_comp\",\n",
    "    1 / 0.035,  # aproximage scale\n",
    "    index=(\"Liq\", \"NaCl\"),\n",
    ")"
   ]
  },
  {
   "cell_type": "markdown",
   "metadata": {},
   "source": [
    "### Initialize our composition constraints and scale all the variables"
   ]
  },
  {
   "cell_type": "code",
   "execution_count": 23,
   "metadata": {},
   "outputs": [],
   "source": [
    "for ion, value in sea_water_composition.items():\n",
    "    m.fs.feed.species_concentrations[ion].fix(value)\n",
    "    set_scaling_factor(m.fs.feed.species_concentrations[ion], 1 / value)\n",
    "\n",
    "for comp, pyoobj in m.fs.feed.eq_feed_species_mass_flow.items():\n",
    "    calculate_variable_from_constraint(m.fs.feed.species_mass_flow[comp], pyoobj)\n",
    "    set_scaling_factor(\n",
    "        m.fs.feed.species_mass_flow[ion], 1 / m.fs.feed.species_mass_flow[comp].value\n",
    "    )\n",
    "    constraint_scaling_transform(pyoobj, 1 / m.fs.feed.species_mass_flow[comp].value)\n",
    "\n",
    "\n",
    "calculate_variable_from_constraint(\n",
    "    m.fs.feed.properties[0].flow_mass_phase_comp[(\"Liq\", \"NaCl\")], m.fs.feed.eq_NaCl\n",
    ")\n",
    "constraint_scaling_transform(m.fs.feed.eq_NaCl, 1 / 0.035)\n",
    "\n",
    "set_scaling_factor(m.fs.feed.reaktoro_density, 1 / 1000)\n",
    "set_scaling_factor(m.fs.feed.reaktoro_osmotic_pressure, 1 / 1e5)\n",
    "set_scaling_factor(m.fs.feed.reaktoro_adjusted_pH, 1)\n",
    "set_scaling_factor(m.fs.feed.pH, 1)\n",
    "set_scaling_factor(m.fs.acid_mass_flow, 1e2)\n",
    "set_scaling_factor(m.fs.acid_dose, 1e-3)\n",
    "set_scaling_factor(m.fs.feed.reaktoro_charge, 1e8)"
   ]
  },
  {
   "cell_type": "markdown",
   "metadata": {},
   "source": [
    "### Intialize feed and reaktoro block. \n",
    "Reaktoro initialization does several steps:\n",
    "\n",
    "1) Initialize input constraints propagating them from user variables to Reaktoro graybox inputs\n",
    "2) Solve the Reaktoro block to get output properties \n",
    "3) Propagate Reaktoro solution through output constraints and to output variables \n",
    "4) Scale all input and output variables and constraints using either user provided scaling factors or by inverse of their value \n",
    "5) Scale the jacobian using user provided scaling or inverse of scaling factors of the gray box outputs\n",
    "\n",
    "This will in general provide a well scaled problem. "
   ]
  },
  {
   "cell_type": "code",
   "execution_count": 24,
   "metadata": {},
   "outputs": [
    {
     "name": "stdout",
     "output_type": "stream",
     "text": [
      "2024-09-01 15:56:19 [INFO] idaes.init.fs.feed: Initialization Complete.\n",
      "2024-09-01 15:56:19 [INFO] idaes.reaktoro_pse.core.reaktoro_state: Equilibrated successfully\n",
      "2024-09-01 15:56:20 [INFO] idaes.reaktoro_pse.core.reaktoro_block_builder: Initialized rkt block\n",
      "2024-09-01 15:56:20 [INFO] idaes.reaktoro_pse.core.reaktoro_state: Equilibrated successfully\n",
      "2024-09-01 15:56:20 [INFO] idaes.reaktoro_pse.core.reaktoro_block_builder: Initialized rkt block\n",
      "Density reaktoro 1022.0762152208728 Density NaCl prop pack 1018.7164667900701\n",
      "Osmotic pressure 2306930.392393324 Density NaCl prop pack 2542018.9084112146\n",
      "Adjusted pH 7.560000000075305\n",
      "Solution reaktoro_charge 0.05380713824779206\n"
     ]
    },
    {
     "name": "stderr",
     "output_type": "stream",
     "text": [
      "D:\\github\\reaktoro-pse\\src\\reaktoro_pse\\core\\reaktoro_jacobian.py:318: RuntimeWarning: invalid value encountered in divide\n",
      "  np.diff(values) / np.diff(self.numerical_steps * input_value)\n"
     ]
    }
   ],
   "source": [
    "solver = get_solver()  # get solver\n",
    "m.fs.feed.initialize(optarg=solver.options)\n",
    "m.fs.feed.reaktoro_properties.initialize()\n",
    "\"\"\" this is our exact composition!\"\"\"\n",
    "# m.fs.feed.reaktoro_properties.outputs.display()\n",
    "\n",
    "\"\"\" and these are manually defined properties and variables of interest \"\"\"\n",
    "print(\n",
    "    \"Density reaktoro\",\n",
    "    m.fs.feed.reaktoro_density.value,\n",
    "    \"Density NaCl prop pack\",\n",
    "    m.fs.feed.properties[0].dens_mass_phase[\"Liq\"].value,\n",
    ")\n",
    "print(\n",
    "    \"Osmotic pressure\",\n",
    "    m.fs.feed.reaktoro_osmotic_pressure.value,\n",
    "    \"Density NaCl prop pack\",\n",
    "    m.fs.feed.properties[0].pressure_osm_phase[\"Liq\"].value,\n",
    ")\n",
    "print(\"Adjusted pH\", m.fs.feed.reaktoro_adjusted_pH.value)\n",
    "print(\"Solution reaktoro_charge\", m.fs.feed.reaktoro_charge.value)"
   ]
  },
  {
   "cell_type": "markdown",
   "metadata": {},
   "source": [
    "We can check the jacobian scaling using provided tool, it will also return a dictionary with scaling factors. "
   ]
  },
  {
   "cell_type": "code",
   "execution_count": 25,
   "metadata": {},
   "outputs": [
    {
     "name": "stdout",
     "output_type": "stream",
     "text": [
      "2024-09-01 15:56:20 [INFO] idaes.reaktoro_pse.reaktoro_block: -----Displaying information for speciation block ------\n",
      "2024-09-01 15:56:20 [INFO] idaes.reaktoro_pse.core.reaktoro_block_builder: Jacobian scale for ('speciesAmount', 'H+') : 3.6980404144745577e-08, IDX: 0\n",
      "2024-09-01 15:56:20 [INFO] idaes.reaktoro_pse.core.reaktoro_block_builder: Jacobian scale for ('speciesAmount', 'H2O') : 53.563499111900526, IDX: 1\n",
      "2024-09-01 15:56:20 [INFO] idaes.reaktoro_pse.core.reaktoro_block_builder: Jacobian scale for ('speciesAmount', 'CO3-2') : 2.1445433578637287e-05, IDX: 2\n",
      "2024-09-01 15:56:20 [INFO] idaes.reaktoro_pse.core.reaktoro_block_builder: Jacobian scale for ('speciesAmount', 'CO2') : 8.114686961714109e-05, IDX: 3\n",
      "2024-09-01 15:56:20 [INFO] idaes.reaktoro_pse.core.reaktoro_block_builder: Jacobian scale for ('speciesAmount', 'Ca+2') : 0.009631002164385654, IDX: 4\n",
      "2024-09-01 15:56:20 [INFO] idaes.reaktoro_pse.core.reaktoro_block_builder: Jacobian scale for ('speciesAmount', 'Cl-') : 0.46271813844035137, IDX: 5\n",
      "2024-09-01 15:56:20 [INFO] idaes.reaktoro_pse.core.reaktoro_block_builder: Jacobian scale for ('speciesAmount', 'HCO3-') : 0.002128396381625551, IDX: 6\n",
      "2024-09-01 15:56:20 [INFO] idaes.reaktoro_pse.core.reaktoro_block_builder: Jacobian scale for ('speciesAmount', 'SO4-2') : 0.02660991466702055, IDX: 7\n",
      "2024-09-01 15:56:20 [INFO] idaes.reaktoro_pse.core.reaktoro_block_builder: Jacobian scale for ('speciesAmount', 'HSO4-') : 1.0015065684362326e-08, IDX: 8\n",
      "2024-09-01 15:56:20 [INFO] idaes.reaktoro_pse.core.reaktoro_block_builder: Jacobian scale for ('speciesAmount', 'Mg+2') : 0.05008757813300821, IDX: 9\n",
      "2024-09-01 15:56:20 [INFO] idaes.reaktoro_pse.core.reaktoro_block_builder: Jacobian scale for ('speciesAmount', 'K+') : 0.009379055998898631, IDX: 10\n",
      "2024-09-01 15:56:20 [INFO] idaes.reaktoro_pse.core.reaktoro_block_builder: Jacobian scale for ('speciesAmount', 'MgCO3') : 2.0220342574741862e-05, IDX: 11\n",
      "2024-09-01 15:56:20 [INFO] idaes.reaktoro_pse.core.reaktoro_block_builder: Jacobian scale for ('speciesAmount', 'MgOH+') : 6.144821296279712e-07, IDX: 12\n",
      "2024-09-01 15:56:20 [INFO] idaes.reaktoro_pse.core.reaktoro_block_builder: Jacobian scale for ('speciesAmount', 'Na+') : 0.44310011726165166, IDX: 13\n",
      "2024-09-01 15:56:20 [INFO] idaes.reaktoro_pse.core.reaktoro_block_builder: Jacobian scale for ('speciesAmount', 'OH-') : 5.820318169524698e-07, IDX: 14\n",
      "2024-09-01 15:56:20 [INFO] idaes.reaktoro_pse.reaktoro_block: -----Displaying information for property block ------\n",
      "2024-09-01 15:56:20 [INFO] idaes.reaktoro_pse.core.reaktoro_block_builder: Jacobian scale for ('pH', None) : 1.0, IDX: 0\n",
      "2024-09-01 15:56:20 [INFO] idaes.reaktoro_pse.core.reaktoro_block_builder: Jacobian scale for ('speciesStandardVolume', 'H2O') : 1.8068735534310935e-05, IDX: 1\n",
      "2024-09-01 15:56:20 [INFO] idaes.reaktoro_pse.core.reaktoro_block_builder: Jacobian scale for ('speciesActivityLn', 'H2O') : 0.016823324806228848, IDX: 2\n",
      "2024-09-01 15:56:20 [INFO] idaes.reaktoro_pse.core.reaktoro_block_builder: Jacobian scale for ('temperature', None) : 298.0, IDX: 3\n",
      "2024-09-01 15:56:20 [INFO] idaes.reaktoro_pse.core.reaktoro_block_builder: Jacobian scale for ('density', None) : 1000.0, IDX: 4\n",
      "2024-09-01 15:56:20 [INFO] idaes.reaktoro_pse.core.reaktoro_block_builder: Jacobian scale for ('charge', None) : 1e-08, IDX: 5\n",
      "2024-09-01 15:56:20 [INFO] idaes.reaktoro_pse.core.reaktoro_block_builder: Jacobian scale for ('speciesAmount', 'H+') : 3.698040413848915e-08, IDX: 6\n",
      "2024-09-01 15:56:20 [INFO] idaes.reaktoro_pse.core.reaktoro_block_builder: Jacobian scale for ('speciesAmount', 'H2O') : 53.56349911190051, IDX: 7\n",
      "2024-09-01 15:56:20 [INFO] idaes.reaktoro_pse.core.reaktoro_block_builder: Jacobian scale for ('speciesAmount', 'CO3-2') : 2.1445433582590796e-05, IDX: 8\n",
      "2024-09-01 15:56:20 [INFO] idaes.reaktoro_pse.core.reaktoro_block_builder: Jacobian scale for ('speciesAmount', 'CO2') : 8.114686960263481e-05, IDX: 9\n",
      "2024-09-01 15:56:20 [INFO] idaes.reaktoro_pse.core.reaktoro_block_builder: Jacobian scale for ('speciesAmount', 'Ca+2') : 0.009631002164385626, IDX: 10\n",
      "2024-09-01 15:56:20 [INFO] idaes.reaktoro_pse.core.reaktoro_block_builder: Jacobian scale for ('speciesAmount', 'Cl-') : 0.46271813844035126, IDX: 11\n",
      "2024-09-01 15:56:20 [INFO] idaes.reaktoro_pse.core.reaktoro_block_builder: Jacobian scale for ('speciesAmount', 'HCO3-') : 0.0021283963816330857, IDX: 12\n",
      "2024-09-01 15:56:20 [INFO] idaes.reaktoro_pse.core.reaktoro_block_builder: Jacobian scale for ('speciesAmount', 'SO4-2') : 0.026609914667020593, IDX: 13\n",
      "2024-09-01 15:56:20 [INFO] idaes.reaktoro_pse.core.reaktoro_block_builder: Jacobian scale for ('speciesAmount', 'HSO4-') : 1.0015065682548559e-08, IDX: 14\n",
      "2024-09-01 15:56:20 [INFO] idaes.reaktoro_pse.core.reaktoro_block_builder: Jacobian scale for ('speciesAmount', 'Mg+2') : 0.050087578133005024, IDX: 15\n",
      "2024-09-01 15:56:20 [INFO] idaes.reaktoro_pse.core.reaktoro_block_builder: Jacobian scale for ('speciesAmount', 'K+') : 0.009379055998898624, IDX: 16\n",
      "2024-09-01 15:56:20 [INFO] idaes.reaktoro_pse.core.reaktoro_block_builder: Jacobian scale for ('speciesAmount', 'MgCO3') : 2.0220342577770462e-05, IDX: 17\n",
      "2024-09-01 15:56:20 [INFO] idaes.reaktoro_pse.core.reaktoro_block_builder: Jacobian scale for ('speciesAmount', 'MgOH+') : 6.144821297281377e-07, IDX: 18\n",
      "2024-09-01 15:56:20 [INFO] idaes.reaktoro_pse.core.reaktoro_block_builder: Jacobian scale for ('speciesAmount', 'Na+') : 0.44310011726165177, IDX: 19\n",
      "2024-09-01 15:56:20 [INFO] idaes.reaktoro_pse.core.reaktoro_block_builder: Jacobian scale for ('speciesAmount', 'OH-') : 5.820318170562862e-07, IDX: 20\n"
     ]
    }
   ],
   "source": [
    "jac_scaling_dict = m.fs.feed.reaktoro_properties.display_jacobian_scaling()"
   ]
  },
  {
   "cell_type": "markdown",
   "metadata": {},
   "source": [
    "## Updating Jacobian scaling \n",
    "In some cases we need to manually scale output Jacobian values, as they can get overscaled via automatic scaling.\n",
    "This can be done during creating of ReaktoroBlock by passing \"jacobian_user_scaling\" option with a dictionary of output indexes and scaling factor to apply. In some cases it might be more convenient to update scaling factor later.\n",
    "\n",
    "Example below shows updating scaling factor using built in function set_jacboian_scaling, the scaling will be applied to both speciation block (if built) and main block\n"
   ]
  },
  {
   "cell_type": "code",
   "execution_count": 26,
   "metadata": {},
   "outputs": [],
   "source": [
    "m.fs.feed.reaktoro_properties.set_jacobian_scaling({(\"density\", None): 1000})"
   ]
  },
  {
   "cell_type": "markdown",
   "metadata": {},
   "source": [
    "### Inspect reakotor states"
   ]
  },
  {
   "cell_type": "code",
   "execution_count": 27,
   "metadata": {},
   "outputs": [
    {
     "name": "stdout",
     "output_type": "stream",
     "text": [
      "2024-09-01 15:56:20 [INFO] idaes.reaktoro_pse.reaktoro_block: -----Displaying information for speciation block ------\n",
      "2024-09-01 15:56:20 [INFO] idaes.reaktoro_pse.reaktoro_block: +-----------------+------------+------+\n",
      "| Property        |      Value | Unit |\n",
      "+-----------------+------------+------+\n",
      "| Temperature     |   298.0000 |    K |\n",
      "| Pressure        |     1.0132 |  bar |\n",
      "| Charge:         | 5.3807e-02 |  mol |\n",
      "| Element Amount: |            |      |\n",
      "| :: H            | 1.0713e+02 |  mol |\n",
      "| :: C            | 2.2512e-03 |  mol |\n",
      "| :: O            | 5.3677e+01 |  mol |\n",
      "| :: Na           | 4.4310e-01 |  mol |\n",
      "| :: Mg           | 5.0108e-02 |  mol |\n",
      "| :: S            | 2.6610e-02 |  mol |\n",
      "| :: Cl           | 4.6272e-01 |  mol |\n",
      "| :: K            | 9.3791e-03 |  mol |\n",
      "| :: Ca           | 9.6310e-03 |  mol |\n",
      "| Species Amount: |            |      |\n",
      "| :: H+           | 3.6980e-08 |  mol |\n",
      "| :: H2O          | 5.3563e+01 |  mol |\n",
      "| :: CO3-2        | 2.1445e-05 |  mol |\n",
      "| :: CO2          | 8.1147e-05 |  mol |\n",
      "| :: Ca+2         | 9.6310e-03 |  mol |\n",
      "| :: Cl-          | 4.6272e-01 |  mol |\n",
      "| :: HCO3-        | 2.1284e-03 |  mol |\n",
      "| :: SO4-2        | 2.6610e-02 |  mol |\n",
      "| :: HSO4-        | 1.0015e-08 |  mol |\n",
      "| :: Mg+2         | 5.0088e-02 |  mol |\n",
      "| :: K+           | 9.3791e-03 |  mol |\n",
      "| :: MgCO3        | 2.0220e-05 |  mol |\n",
      "| :: MgOH+        | 6.1448e-07 |  mol |\n",
      "| :: Na+          | 4.4310e-01 |  mol |\n",
      "| :: OH-          | 5.8203e-07 |  mol |\n",
      "+-----------------+------------+------+\n",
      "2024-09-01 15:56:20 [INFO] idaes.reaktoro_pse.reaktoro_block: -----Displaying information for property block ------\n",
      "2024-09-01 15:56:20 [INFO] idaes.reaktoro_pse.reaktoro_block: +-----------------+------------+------+\n",
      "| Property        |      Value | Unit |\n",
      "+-----------------+------------+------+\n",
      "| Temperature     |   298.0000 |    K |\n",
      "| Pressure        |     1.0132 |  bar |\n",
      "| Charge:         | 5.3807e-02 |  mol |\n",
      "| Element Amount: |            |      |\n",
      "| :: H            | 1.0713e+02 |  mol |\n",
      "| :: C            | 2.2512e-03 |  mol |\n",
      "| :: O            | 5.3677e+01 |  mol |\n",
      "| :: Na           | 4.4310e-01 |  mol |\n",
      "| :: Mg           | 5.0108e-02 |  mol |\n",
      "| :: S            | 2.6610e-02 |  mol |\n",
      "| :: Cl           | 4.6272e-01 |  mol |\n",
      "| :: K            | 9.3791e-03 |  mol |\n",
      "| :: Ca           | 9.6310e-03 |  mol |\n",
      "| Species Amount: |            |      |\n",
      "| :: H+           | 3.6980e-08 |  mol |\n",
      "| :: H2O          | 5.3563e+01 |  mol |\n",
      "| :: CO3-2        | 2.1445e-05 |  mol |\n",
      "| :: CO2          | 8.1147e-05 |  mol |\n",
      "| :: Ca+2         | 9.6310e-03 |  mol |\n",
      "| :: Cl-          | 4.6272e-01 |  mol |\n",
      "| :: HCO3-        | 2.1284e-03 |  mol |\n",
      "| :: SO4-2        | 2.6610e-02 |  mol |\n",
      "| :: HSO4-        | 1.0015e-08 |  mol |\n",
      "| :: Mg+2         | 5.0088e-02 |  mol |\n",
      "| :: K+           | 9.3791e-03 |  mol |\n",
      "| :: MgCO3        | 2.0220e-05 |  mol |\n",
      "| :: MgOH+        | 6.1448e-07 |  mol |\n",
      "| :: Na+          | 4.4310e-01 |  mol |\n",
      "| :: OH-          | 5.8203e-07 |  mol |\n",
      "+-----------------+------------+------+\n"
     ]
    }
   ],
   "source": [
    "m.fs.feed.reaktoro_properties.display_reaktoro_state()"
   ]
  },
  {
   "cell_type": "markdown",
   "metadata": {},
   "source": [
    "### Lets solve the current model to:\n",
    "* Find actual mass flows of species \n",
    "* Solution density\n",
    "* Required Cl amount to get zero charge in solution\n",
    "* Dose of HCl ot get to pH of 7"
   ]
  },
  {
   "cell_type": "code",
   "execution_count": 28,
   "metadata": {},
   "outputs": [],
   "source": [
    "\"\"\" unfix Cl and fix charge to 0\"\"\"\n",
    "\n",
    "m.fs.feed.species_concentrations[\"Cl\"].unfix()\n",
    "m.fs.feed.reaktoro_charge.fix(0)\n",
    "\"\"\" fix our target pH\"\"\"\n",
    "m.fs.feed.reaktoro_adjusted_pH.fix(7)"
   ]
  },
  {
   "cell_type": "markdown",
   "metadata": {},
   "source": [
    "Lets check DOFs before solve, and note that its equal to number of our reaktoro outputs"
   ]
  },
  {
   "cell_type": "code",
   "execution_count": 29,
   "metadata": {},
   "outputs": [
    {
     "name": "stdout",
     "output_type": "stream",
     "text": [
      "DOFs: 36\n",
      "Number of Reaktoro speciation block outputs 15\n",
      "Number of Reaktoro outputs 21\n",
      "Total number of outputs on reaktoro 36\n",
      "Actual DOFs: 0\n"
     ]
    }
   ],
   "source": [
    "print(\"DOFs:\", degrees_of_freedom(m))\n",
    "outputs_main_block = len(m.fs.feed.reaktoro_properties.reaktoro_model.outputs)\n",
    "outputs_speciation_block = len(\n",
    "    m.fs.feed.reaktoro_properties.speciation_block.reaktoro_model.outputs\n",
    ")\n",
    "print(\"Number of Reaktoro speciation block outputs\", outputs_speciation_block)\n",
    "print(\"Number of Reaktoro outputs\", outputs_main_block)\n",
    "print(\n",
    "    \"Total number of outputs on reaktoro\", outputs_main_block + outputs_speciation_block\n",
    ")\n",
    "print(\n",
    "    \"Actual DOFs:\",\n",
    "    degrees_of_freedom(m) - (outputs_main_block + outputs_speciation_block),\n",
    ")\n",
    "assert degrees_of_freedom(m) - (outputs_main_block + outputs_speciation_block) == 0"
   ]
  },
  {
   "cell_type": "code",
   "execution_count": 30,
   "metadata": {},
   "outputs": [
    {
     "name": "stdout",
     "output_type": "stream",
     "text": [
      "cyipopt-watertap: cyipopt with user variable scaling and IDAES jacobian constraint scaling\n"
     ]
    },
    {
     "name": "stderr",
     "output_type": "stream",
     "text": [
      "D:\\github\\reaktoro-pse\\src\\reaktoro_pse\\core\\reaktoro_jacobian.py:318: RuntimeWarning: invalid value encountered in divide\n",
      "  np.diff(values) / np.diff(self.numerical_steps * input_value)\n"
     ]
    },
    {
     "name": "stdout",
     "output_type": "stream",
     "text": [
      "\n",
      "******************************************************************************\n",
      "This program contains Ipopt, a library for large-scale nonlinear optimization.\n",
      " Ipopt is released as open source code under the Eclipse Public License (EPL).\n",
      "         For more information visit https://github.com/coin-or/Ipopt\n",
      "******************************************************************************\n",
      "\n",
      "This is Ipopt version 3.14.16, running with linear solver MUMPS 5.7.2.\n",
      "\n",
      "Number of nonzeros in equality constraint Jacobian...:      746\n",
      "Number of nonzeros in inequality constraint Jacobian.:        0\n",
      "Number of nonzeros in Lagrangian Hessian.............:       12\n",
      "\n",
      "Total number of variables............................:      117\n",
      "                     variables with only lower bounds:       41\n",
      "                variables with lower and upper bounds:        6\n",
      "                     variables with only upper bounds:        0\n",
      "Total number of equality constraints.................:      117\n",
      "Total number of inequality constraints...............:        0\n",
      "        inequality constraints with only lower bounds:        0\n",
      "   inequality constraints with lower and upper bounds:        0\n",
      "        inequality constraints with only upper bounds:        0\n",
      "\n",
      "iter    objective    inf_pr   inf_du lg(mu)  ||d||  lg(rg) alpha_du alpha_pr  ls\n",
      "   0  0.0000000e+00 7.05e+01 1.00e+00  -1.0 0.00e+00    -  0.00e+00 0.00e+00   0\n",
      "   1  0.0000000e+00 4.72e+01 9.24e+03  -1.0 5.38e+06    -  9.54e-01 1.00e+00h  1\n",
      "   2  0.0000000e+00 9.11e-04 9.14e+00  -1.0 8.30e+01    -  9.90e-01 1.00e+00h  1\n",
      "   3  0.0000000e+00 6.48e-07 7.21e-02  -1.0 1.47e-02    -  9.90e-01 1.00e+00h  1\n",
      "   4  0.0000000e+00 4.66e-10 0.00e+00  -1.0 9.63e-06    -  9.90e-01 1.00e+00h  1\n",
      "\n",
      "Number of Iterations....: 4\n",
      "\n",
      "                                   (scaled)                 (unscaled)\n",
      "Objective...............:   0.0000000000000000e+00    0.0000000000000000e+00\n",
      "Dual infeasibility......:   0.0000000000000000e+00    0.0000000000000000e+00\n",
      "Constraint violation....:   1.0231815394945443e-09    4.6566128730773926e-10\n",
      "Variable bound violation:   0.0000000000000000e+00    0.0000000000000000e+00\n",
      "Complementarity.........:   0.0000000000000000e+00    0.0000000000000000e+00\n",
      "Overall NLP error.......:   1.0231815394945443e-09    4.6566128730773926e-10\n",
      "\n",
      "\n",
      "Number of objective function evaluations             = 5\n",
      "Number of objective gradient evaluations             = 5\n",
      "Number of equality constraint evaluations            = 5\n",
      "Number of inequality constraint evaluations          = 0\n",
      "Number of equality constraint Jacobian evaluations   = 5\n",
      "Number of inequality constraint Jacobian evaluations = 0\n",
      "Number of Lagrangian Hessian evaluations             = 4\n",
      "Total seconds in IPOPT                               = 0.544\n",
      "\n",
      "EXIT: Optimal Solution Found.\n"
     ]
    }
   ],
   "source": [
    "initial_cl = m.fs.feed.species_concentrations[\"Cl\"].value\n",
    "cy_solver = get_solver(solver=\"cyipopt-watertap\")\n",
    "\n",
    "cy_solver.options[\"max_iter\"] = 25\n",
    "\n",
    "result = cy_solver.solve(m, tee=True)\n",
    "assert_optimal_termination(result)"
   ]
  },
  {
   "cell_type": "code",
   "execution_count": 31,
   "metadata": {},
   "outputs": [
    {
     "name": "stdout",
     "output_type": "stream",
     "text": [
      "Density reaktoro 1022.4474912371847 Density NaCl prop pack 1019.5824469406037\n",
      "Osmotic pressure 2386602.544686385 Density NaCl prop pack 2639273.7868881244\n",
      "Adjusted pH 7 Acid dose 8.43304628297393 Acid mass flow 7.959225028977094e-06\n",
      "Solution reaktoro_charge 0 intial Cl 17000 final Cl 18976.765400159155\n"
     ]
    }
   ],
   "source": [
    "print(\n",
    "    \"Density reaktoro\",\n",
    "    m.fs.feed.reaktoro_density.value,\n",
    "    \"Density NaCl prop pack\",\n",
    "    m.fs.feed.properties[0].dens_mass_phase[\"Liq\"].value,\n",
    ")\n",
    "print(\n",
    "    \"Osmotic pressure\",\n",
    "    m.fs.feed.reaktoro_osmotic_pressure.value,\n",
    "    \"Density NaCl prop pack\",\n",
    "    m.fs.feed.properties[0].pressure_osm_phase[\"Liq\"].value,\n",
    ")\n",
    "print(\n",
    "    \"Adjusted pH\",\n",
    "    m.fs.feed.reaktoro_adjusted_pH.value,\n",
    "    \"Acid dose\",\n",
    "    m.fs.acid_dose.value,\n",
    "    \"Acid mass flow\",\n",
    "    m.fs.acid_mass_flow.value,\n",
    ")\n",
    "print(\n",
    "    \"Solution reaktoro_charge\",\n",
    "    m.fs.feed.reaktoro_charge.value,\n",
    "    \"intial Cl\",\n",
    "    initial_cl,\n",
    "    \"final Cl\",\n",
    "    m.fs.feed.species_concentrations[\"Cl\"].value,\n",
    ")"
   ]
  },
  {
   "cell_type": "markdown",
   "metadata": {},
   "source": [
    "### Adding [WaterTAP RO model](https://watertap.readthedocs.io/en/stable/technical_reference/unit_models/reverse_osmosis_1D.html) and replacing default osmotic pressure with reaktoro calculations.\n",
    "Import WaterTAP 1D RO model and pump, and build them.\n"
   ]
  },
  {
   "cell_type": "code",
   "execution_count": 32,
   "metadata": {},
   "outputs": [],
   "source": [
    "from watertap.unit_models.reverse_osmosis_1D import (\n",
    "    ReverseOsmosis1D,\n",
    "    ConcentrationPolarizationType,\n",
    "    MassTransferCoefficient,\n",
    "    PressureChangeType,\n",
    ")\n",
    "from watertap.unit_models.pressure_changer import Pump\n",
    "\n",
    "m.fs.pump = Pump(property_package=m.fs.properties)\n",
    "m.fs.RO = ReverseOsmosis1D(\n",
    "    property_package=m.fs.properties,\n",
    "    has_pressure_change=True,\n",
    "    pressure_change_type=PressureChangeType.calculated,\n",
    "    mass_transfer_coefficient=MassTransferCoefficient.calculated,\n",
    "    concentration_polarization_type=ConcentrationPolarizationType.calculated,\n",
    "    transformation_scheme=\"BACKWARD\",\n",
    "    transformation_method=\"dae.finite_difference\",\n",
    "    finite_elements=10,\n",
    ")\n",
    "# connect feed to pump\n",
    "m.fs.feed_to_pump = Arc(source=m.fs.feed.outlet, destination=m.fs.pump.inlet)\n",
    "# connect pump to RO unit\n",
    "m.fs.pump_to_ro = Arc(source=m.fs.pump.outlet, destination=m.fs.RO.inlet)\n",
    "# Expand arcs\n",
    "TransformationFactory(\"network.expand_arcs\").apply_to(m)"
   ]
  },
  {
   "cell_type": "markdown",
   "metadata": {},
   "source": [
    "Add reaktoro blocks for osmotic pressure calculations. \n",
    "\n",
    "To do so we need to have estimates of apparent species at each node, they will be different from the feed due to removal of water by the processes and phenomena called concentration polarization which will increase salts near the surface. This requires creating new speciation mass flow composition indexed for each node in RO model, and constraints to do the translation from NaCl package to species.\n",
    "\n",
    "At each node the water flow is same as that in RO model, but each specie flow mass is described by equation below:\n",
    "$$ m_{ro}[node, specie] = m_{feed}[specie]*m_{ro}[node, NaCl]/m_{feed}[NaCl]  $$"
   ]
  },
  {
   "cell_type": "code",
   "execution_count": 33,
   "metadata": {},
   "outputs": [],
   "source": [
    "indexes = list(m.fs.RO.length_domain)\n",
    "\n",
    "indexes.pop(0)  # zeros domain does not do anything in RO so we remove it.\n",
    "\n",
    "# build an indexed mass flow of species in RO (indexing will be [node, specie])\n",
    "m.fs.RO.species_mass_flow = Var(\n",
    "    indexes,\n",
    "    list(m.fs.feed.species_mass_flow.keys()),\n",
    "    initialize=1,\n",
    "    units=pyunits.kg / pyunits.s,\n",
    "    domain=Reals,\n",
    ")  # make sure to provide correct units!\n",
    "\n",
    "\n",
    "# build constraints for translating NaCl mass flow in RO at membrane surface to apparent specie mass flow\n",
    "@m.fs.Constraint(list(m.fs.RO.species_mass_flow.keys()))\n",
    "def eq_ro_interphase_flow_mass_comp(fs, idx, ion):\n",
    "    if ion == \"H2O\":  # flow of water is same\n",
    "        return (\n",
    "            m.fs.RO.species_mass_flow[idx, \"H2O\"]\n",
    "            == m.fs.RO.feed_side.properties_interface[0.0, idx].flow_mass_phase_comp[\n",
    "                \"Liq\", \"H2O\"\n",
    "            ]\n",
    "        )\n",
    "    else:\n",
    "        return (\n",
    "            m.fs.RO.species_mass_flow[idx, ion]\n",
    "            == m.fs.feed.species_mass_flow[ion]\n",
    "            * m.fs.RO.feed_side.properties_interface[0.0, idx].flow_mass_phase_comp[\n",
    "                (\"Liq\", \"NaCl\")\n",
    "            ]\n",
    "            / m.fs.feed.properties[0].flow_mass_phase_comp[(\"Liq\", \"NaCl\")]\n",
    "        )"
   ]
  },
  {
   "cell_type": "markdown",
   "metadata": {},
   "source": [
    "We need to setup outputs for RO model, indexed Reaktoro block expects that index is included in with requested property such that: \n",
    "\n",
    "{(index, property, property_index):Var}   e.g. {(1,\"osmoticPressure\",\"H2O\"):Var}\n",
    "\n",
    "Here we will pack together osmotic pressure, scaling tendency and pH as outputs together to be returned by ReaktoroBlock on each node. "
   ]
  },
  {
   "cell_type": "code",
   "execution_count": 34,
   "metadata": {},
   "outputs": [],
   "source": [
    "m.fs.RO.indexed_outputs = {}\n",
    "for idx in indexes:\n",
    "    m.fs.RO.indexed_outputs[(idx, \"osmoticPressure\", \"H2O\")] = (\n",
    "        m.fs.RO.feed_side.properties_interface[0.0, idx].pressure_osm_phase[\"Liq\"]\n",
    "    )\n",
    "\n",
    "# create sclaing tendcies with indexes\n",
    "m.fs.RO.scaling_tendency = Var(\n",
    "    indexes,\n",
    "    ((\"scalingTendency\", \"Calcite\"), (\"scalingTendency\", \"Gypsum\")),\n",
    "    initialize=1,\n",
    ")\n",
    "set_scaling_factor(m.fs.RO.scaling_tendency, 1)\n",
    "\n",
    "# create indexed pH\n",
    "m.fs.RO.interphase_pH = Var(\n",
    "    indexes,\n",
    "    [(\"pH\", None)],\n",
    "    initialize=1,\n",
    ")\n",
    "set_scaling_factor(m.fs.RO.interphase_pH, 1)\n",
    "\n",
    "# package them all together\n",
    "\n",
    "for idx, obj in m.fs.RO.scaling_tendency.items():\n",
    "    m.fs.RO.indexed_outputs[idx] = obj\n",
    "for idx, obj in m.fs.RO.interphase_pH.items():\n",
    "    m.fs.RO.indexed_outputs[idx] = obj\n",
    "\n",
    "\"\"\" Similarly, we need to repackage ro feed pressure so ReaktoroBlock can properly process it\"\"\"\n",
    "m.fs.ro_pressure = {}\n",
    "for idx in indexes:\n",
    "    m.fs.ro_pressure[idx] = m.fs.RO.feed_side.properties_interface[0.0, idx].pressure"
   ]
  },
  {
   "cell_type": "markdown",
   "metadata": {},
   "source": [
    "Lets check that our outputs are correctly packaged"
   ]
  },
  {
   "cell_type": "code",
   "execution_count": 35,
   "metadata": {},
   "outputs": [
    {
     "name": "stdout",
     "output_type": "stream",
     "text": [
      "(0.1, 'osmoticPressure', 'H2O') fs.RO.feed_side.properties_interface[0.0,0.1].pressure_osm_phase[Liq]\n",
      "(0.2, 'osmoticPressure', 'H2O') fs.RO.feed_side.properties_interface[0.0,0.2].pressure_osm_phase[Liq]\n",
      "(0.3, 'osmoticPressure', 'H2O') fs.RO.feed_side.properties_interface[0.0,0.3].pressure_osm_phase[Liq]\n",
      "(0.4, 'osmoticPressure', 'H2O') fs.RO.feed_side.properties_interface[0.0,0.4].pressure_osm_phase[Liq]\n",
      "(0.5, 'osmoticPressure', 'H2O') fs.RO.feed_side.properties_interface[0.0,0.5].pressure_osm_phase[Liq]\n",
      "(0.6, 'osmoticPressure', 'H2O') fs.RO.feed_side.properties_interface[0.0,0.6].pressure_osm_phase[Liq]\n",
      "(0.7, 'osmoticPressure', 'H2O') fs.RO.feed_side.properties_interface[0.0,0.7].pressure_osm_phase[Liq]\n",
      "(0.8, 'osmoticPressure', 'H2O') fs.RO.feed_side.properties_interface[0.0,0.8].pressure_osm_phase[Liq]\n",
      "(0.9, 'osmoticPressure', 'H2O') fs.RO.feed_side.properties_interface[0.0,0.9].pressure_osm_phase[Liq]\n",
      "(1.0, 'osmoticPressure', 'H2O') fs.RO.feed_side.properties_interface[0.0,1.0].pressure_osm_phase[Liq]\n",
      "(0.1, 'scalingTendency', 'Calcite') fs.RO.scaling_tendency[0.1,scalingTendency,Calcite]\n",
      "(0.1, 'scalingTendency', 'Gypsum') fs.RO.scaling_tendency[0.1,scalingTendency,Gypsum]\n",
      "(0.2, 'scalingTendency', 'Calcite') fs.RO.scaling_tendency[0.2,scalingTendency,Calcite]\n",
      "(0.2, 'scalingTendency', 'Gypsum') fs.RO.scaling_tendency[0.2,scalingTendency,Gypsum]\n",
      "(0.3, 'scalingTendency', 'Calcite') fs.RO.scaling_tendency[0.3,scalingTendency,Calcite]\n",
      "(0.3, 'scalingTendency', 'Gypsum') fs.RO.scaling_tendency[0.3,scalingTendency,Gypsum]\n",
      "(0.4, 'scalingTendency', 'Calcite') fs.RO.scaling_tendency[0.4,scalingTendency,Calcite]\n",
      "(0.4, 'scalingTendency', 'Gypsum') fs.RO.scaling_tendency[0.4,scalingTendency,Gypsum]\n",
      "(0.5, 'scalingTendency', 'Calcite') fs.RO.scaling_tendency[0.5,scalingTendency,Calcite]\n",
      "(0.5, 'scalingTendency', 'Gypsum') fs.RO.scaling_tendency[0.5,scalingTendency,Gypsum]\n",
      "(0.6, 'scalingTendency', 'Calcite') fs.RO.scaling_tendency[0.6,scalingTendency,Calcite]\n",
      "(0.6, 'scalingTendency', 'Gypsum') fs.RO.scaling_tendency[0.6,scalingTendency,Gypsum]\n",
      "(0.7, 'scalingTendency', 'Calcite') fs.RO.scaling_tendency[0.7,scalingTendency,Calcite]\n",
      "(0.7, 'scalingTendency', 'Gypsum') fs.RO.scaling_tendency[0.7,scalingTendency,Gypsum]\n",
      "(0.8, 'scalingTendency', 'Calcite') fs.RO.scaling_tendency[0.8,scalingTendency,Calcite]\n",
      "(0.8, 'scalingTendency', 'Gypsum') fs.RO.scaling_tendency[0.8,scalingTendency,Gypsum]\n",
      "(0.9, 'scalingTendency', 'Calcite') fs.RO.scaling_tendency[0.9,scalingTendency,Calcite]\n",
      "(0.9, 'scalingTendency', 'Gypsum') fs.RO.scaling_tendency[0.9,scalingTendency,Gypsum]\n",
      "(1.0, 'scalingTendency', 'Calcite') fs.RO.scaling_tendency[1.0,scalingTendency,Calcite]\n",
      "(1.0, 'scalingTendency', 'Gypsum') fs.RO.scaling_tendency[1.0,scalingTendency,Gypsum]\n",
      "(0.1, 'pH', None) fs.RO.interphase_pH[0.1,pH,None]\n",
      "(0.2, 'pH', None) fs.RO.interphase_pH[0.2,pH,None]\n",
      "(0.3, 'pH', None) fs.RO.interphase_pH[0.3,pH,None]\n",
      "(0.4, 'pH', None) fs.RO.interphase_pH[0.4,pH,None]\n",
      "(0.5, 'pH', None) fs.RO.interphase_pH[0.5,pH,None]\n",
      "(0.6, 'pH', None) fs.RO.interphase_pH[0.6,pH,None]\n",
      "(0.7, 'pH', None) fs.RO.interphase_pH[0.7,pH,None]\n",
      "(0.8, 'pH', None) fs.RO.interphase_pH[0.8,pH,None]\n",
      "(0.9, 'pH', None) fs.RO.interphase_pH[0.9,pH,None]\n",
      "(1.0, 'pH', None) fs.RO.interphase_pH[1.0,pH,None]\n"
     ]
    }
   ],
   "source": [
    "for key, obj in m.fs.RO.indexed_outputs.items():\n",
    "    print(key, obj)"
   ]
  },
  {
   "cell_type": "markdown",
   "metadata": {},
   "source": [
    "Finally, lets build all the reaktoro blocks."
   ]
  },
  {
   "cell_type": "code",
   "execution_count": 36,
   "metadata": {},
   "outputs": [
    {
     "name": "stdout",
     "output_type": "stream",
     "text": [
      "2024-09-01 15:56:21 [ERROR] idaes.core.base.process_block: Failure in build: fs.eq_ro_chem_props[0.1]\n",
      "Traceback (most recent call last):\n",
      "  File \"d:\\Software\\miniconda\\envs\\reaktoro-pse-dev\\Lib\\site-packages\\idaes\\core\\base\\process_block.py\", line 41, in _rule_default\n",
      "    b.build()\n",
      "  File \"D:\\github\\reaktoro-pse\\src\\reaktoro_pse\\reaktoro_block.py\", line 237, in build\n",
      "    super().build()\n",
      "  File \"d:\\Software\\miniconda\\envs\\reaktoro-pse-dev\\Lib\\site-packages\\idaes\\core\\base\\process_base.py\", line 129, in build\n",
      "    self._get_config_args()\n",
      "  File \"d:\\Software\\miniconda\\envs\\reaktoro-pse-dev\\Lib\\site-packages\\idaes\\core\\base\\process_base.py\", line 250, in _get_config_args\n",
      "    self.config = self.CONFIG(kwargs)\n",
      "                  ^^^^^^^^^^^^^^^^^^^\n",
      "  File \"d:\\Software\\miniconda\\envs\\reaktoro-pse-dev\\Lib\\site-packages\\pyomo\\common\\config.py\", line 1789, in __call__\n",
      "    ans.set_value(value)\n",
      "  File \"d:\\Software\\miniconda\\envs\\reaktoro-pse-dev\\Lib\\site-packages\\pyomo\\common\\config.py\", line 2738, in set_value\n",
      "    self[key] = value[_decl_map[key]]\n",
      "    ~~~~^^^^^\n",
      "  File \"d:\\Software\\miniconda\\envs\\reaktoro-pse-dev\\Lib\\site-packages\\pyomo\\common\\config.py\", line 2552, in __setitem__\n",
      "    self._data[_key].set_value(val)\n",
      "  File \"d:\\Software\\miniconda\\envs\\reaktoro-pse-dev\\Lib\\site-packages\\pyomo\\common\\config.py\", line 2722, in set_value\n",
      "    raise ValueError(\n",
      "ValueError: key 'aqueous_solvent_specie' not defined for ConfigDict 'aqueous_phase' and implicit (undefined) keys are not allowed\n",
      "ERROR: Constructing component 'fs.eq_ro_chem_props' from data=None failed:\n",
      "        ValueError: key 'aqueous_solvent_specie' not defined for ConfigDict\n",
      "        'aqueous_phase' and implicit (undefined) keys are not allowed\n"
     ]
    },
    {
     "ename": "ValueError",
     "evalue": "key 'aqueous_solvent_specie' not defined for ConfigDict 'aqueous_phase' and implicit (undefined) keys are not allowed",
     "output_type": "error",
     "traceback": [
      "\u001b[1;31m---------------------------------------------------------------------------\u001b[0m",
      "\u001b[1;31mValueError\u001b[0m                                Traceback (most recent call last)",
      "Cell \u001b[1;32mIn[36], line 1\u001b[0m\n\u001b[1;32m----> 1\u001b[0m m\u001b[38;5;241m.\u001b[39mfs\u001b[38;5;241m.\u001b[39meq_ro_chem_props \u001b[38;5;241m=\u001b[39m ReaktoroBlock(\n\u001b[0;32m      2\u001b[0m     indexes,\n\u001b[0;32m      3\u001b[0m     aqueous_phase\u001b[38;5;241m=\u001b[39m{\n\u001b[0;32m      4\u001b[0m         \u001b[38;5;124m\"\u001b[39m\u001b[38;5;124mcomposition\u001b[39m\u001b[38;5;124m\"\u001b[39m: m\u001b[38;5;241m.\u001b[39mfs\u001b[38;5;241m.\u001b[39mRO\u001b[38;5;241m.\u001b[39mspecies_mass_flow,  \u001b[38;5;66;03m# This is the spices mass flow\u001b[39;00m\n\u001b[0;32m      5\u001b[0m         \u001b[38;5;124m\"\u001b[39m\u001b[38;5;124mconvert_to_rkt_species\u001b[39m\u001b[38;5;124m\"\u001b[39m: \u001b[38;5;28;01mTrue\u001b[39;00m,  \u001b[38;5;66;03m# We can use default converter as its defined for default database (Phreeqc and pitzer)\u001b[39;00m\n\u001b[0;32m      6\u001b[0m        \n\u001b[0;32m      7\u001b[0m         \u001b[38;5;124m\"\u001b[39m\u001b[38;5;124mactivity_model\u001b[39m\u001b[38;5;124m\"\u001b[39m: reaktoro\u001b[38;5;241m.\u001b[39mActivityModelPitzer(),  \u001b[38;5;66;03m# Can provide a string, or Reaktoro initialized class\u001b[39;00m\n\u001b[0;32m      8\u001b[0m         \u001b[38;5;124m\"\u001b[39m\u001b[38;5;124maqueous_solvent_specie\u001b[39m\u001b[38;5;124m\"\u001b[39m: \u001b[38;5;124m\"\u001b[39m\u001b[38;5;124mH2O\u001b[39m\u001b[38;5;124m\"\u001b[39m,  \u001b[38;5;66;03m# We need to define our aqueous solvent as we have to speciate the block\u001b[39;00m\n\u001b[0;32m      9\u001b[0m     },\n\u001b[0;32m     10\u001b[0m     system_state\u001b[38;5;241m=\u001b[39m{\n\u001b[0;32m     11\u001b[0m         \u001b[38;5;124m\"\u001b[39m\u001b[38;5;124mtemperature\u001b[39m\u001b[38;5;124m\"\u001b[39m: m\u001b[38;5;241m.\u001b[39mfs\u001b[38;5;241m.\u001b[39mfeed\u001b[38;5;241m.\u001b[39mproperties[\u001b[38;5;241m0\u001b[39m]\u001b[38;5;241m.\u001b[39mtemperature,\n\u001b[0;32m     12\u001b[0m         \u001b[38;5;124m\"\u001b[39m\u001b[38;5;124mtemperature_indexed\u001b[39m\u001b[38;5;124m\"\u001b[39m: \u001b[38;5;28;01mFalse\u001b[39;00m,\n\u001b[0;32m     13\u001b[0m         \u001b[38;5;124m\"\u001b[39m\u001b[38;5;124mpressure\u001b[39m\u001b[38;5;124m\"\u001b[39m: m\u001b[38;5;241m.\u001b[39mfs\u001b[38;5;241m.\u001b[39mro_pressure,\n\u001b[0;32m     14\u001b[0m         \u001b[38;5;124m\"\u001b[39m\u001b[38;5;124mpH\u001b[39m\u001b[38;5;124m\"\u001b[39m: m\u001b[38;5;241m.\u001b[39mfs\u001b[38;5;241m.\u001b[39mfeed\u001b[38;5;241m.\u001b[39mreaktoro_adjusted_pH,\n\u001b[0;32m     15\u001b[0m         \u001b[38;5;124m\"\u001b[39m\u001b[38;5;124mpH_indexed\u001b[39m\u001b[38;5;124m\"\u001b[39m: \u001b[38;5;28;01mFalse\u001b[39;00m,  \u001b[38;5;66;03m# we are not providing unique pH at each node, so lets disable indexing for it\u001b[39;00m\n\u001b[0;32m     16\u001b[0m     },\n\u001b[0;32m     17\u001b[0m     outputs\u001b[38;5;241m=\u001b[39mm\u001b[38;5;241m.\u001b[39mfs\u001b[38;5;241m.\u001b[39mRO\u001b[38;5;241m.\u001b[39mindexed_outputs,  \u001b[38;5;66;03m# outputs we desired\u001b[39;00m\n\u001b[0;32m     18\u001b[0m     database\u001b[38;5;241m=\u001b[39m\u001b[38;5;124m\"\u001b[39m\u001b[38;5;124mPhreeqcDatabase\u001b[39m\u001b[38;5;124m\"\u001b[39m,  \u001b[38;5;66;03m# Can provide a string, or Reaktoro initialized class reaktor.PhreeqcDatabase()\u001b[39;00m\n\u001b[0;32m     19\u001b[0m     database_file\u001b[38;5;241m=\u001b[39m\u001b[38;5;124m\"\u001b[39m\u001b[38;5;124mpitzer.dat\u001b[39m\u001b[38;5;124m\"\u001b[39m,  \u001b[38;5;66;03m# needs to be a string that names the database file or points to its location\u001b[39;00m\n\u001b[0;32m     20\u001b[0m     dissolve_species_in_reaktoro\u001b[38;5;241m=\u001b[39m\u001b[38;5;28;01mTrue\u001b[39;00m,  \u001b[38;5;66;03m# This will sum up all species into elements in Reaktoro directly, if set to false, it will build Pyomo constraints instead\u001b[39;00m\n\u001b[0;32m     21\u001b[0m     assert_charge_neutrality\u001b[38;5;241m=\u001b[39m\u001b[38;5;28;01mFalse\u001b[39;00m,  \u001b[38;5;66;03m# This is True by Default, but here we actually want to adjust the input speciation till the charge is zero\u001b[39;00m\n\u001b[0;32m     22\u001b[0m     build_speciation_block\u001b[38;5;241m=\u001b[39m\u001b[38;5;28;01mFalse\u001b[39;00m,\n\u001b[0;32m     23\u001b[0m )\n",
      "File \u001b[1;32md:\\Software\\miniconda\\envs\\reaktoro-pse-dev\\Lib\\site-packages\\pyomo\\core\\base\\block.py:571\u001b[0m, in \u001b[0;36mBlockData.__setattr__\u001b[1;34m(self, name, val)\u001b[0m\n\u001b[0;32m    566\u001b[0m \u001b[38;5;28;01mif\u001b[39;00m name \u001b[38;5;129;01mnot\u001b[39;00m \u001b[38;5;129;01min\u001b[39;00m \u001b[38;5;28mself\u001b[39m\u001b[38;5;241m.\u001b[39m\u001b[38;5;18m__dict__\u001b[39m:\n\u001b[0;32m    567\u001b[0m     \u001b[38;5;28;01mif\u001b[39;00m \u001b[38;5;28misinstance\u001b[39m(val, Component):\n\u001b[0;32m    568\u001b[0m         \u001b[38;5;66;03m#\u001b[39;00m\n\u001b[0;32m    569\u001b[0m         \u001b[38;5;66;03m# Pyomo components are added with the add_component method.\u001b[39;00m\n\u001b[0;32m    570\u001b[0m         \u001b[38;5;66;03m#\u001b[39;00m\n\u001b[1;32m--> 571\u001b[0m         \u001b[38;5;28mself\u001b[39m\u001b[38;5;241m.\u001b[39madd_component(name, val)\n\u001b[0;32m    572\u001b[0m     \u001b[38;5;28;01melse\u001b[39;00m:\n\u001b[0;32m    573\u001b[0m         \u001b[38;5;66;03m#\u001b[39;00m\n\u001b[0;32m    574\u001b[0m         \u001b[38;5;66;03m# Other Python objects are added with the standard __setattr__\u001b[39;00m\n\u001b[0;32m    575\u001b[0m         \u001b[38;5;66;03m# method.\u001b[39;00m\n\u001b[0;32m    576\u001b[0m         \u001b[38;5;66;03m#\u001b[39;00m\n\u001b[0;32m    577\u001b[0m         \u001b[38;5;28msuper\u001b[39m(BlockData, \u001b[38;5;28mself\u001b[39m)\u001b[38;5;241m.\u001b[39m\u001b[38;5;21m__setattr__\u001b[39m(name, val)\n",
      "File \u001b[1;32md:\\Software\\miniconda\\envs\\reaktoro-pse-dev\\Lib\\site-packages\\pyomo\\core\\base\\block.py:1105\u001b[0m, in \u001b[0;36mBlockData.add_component\u001b[1;34m(self, name, val)\u001b[0m\n\u001b[0;32m   1097\u001b[0m     logger\u001b[38;5;241m.\u001b[39mdebug(\n\u001b[0;32m   1098\u001b[0m         \u001b[38;5;124m\"\u001b[39m\u001b[38;5;124mConstructing \u001b[39m\u001b[38;5;132;01m%s\u001b[39;00m\u001b[38;5;124m \u001b[39m\u001b[38;5;124m'\u001b[39m\u001b[38;5;132;01m%s\u001b[39;00m\u001b[38;5;124m'\u001b[39m\u001b[38;5;124m on \u001b[39m\u001b[38;5;132;01m%s\u001b[39;00m\u001b[38;5;124m from data=\u001b[39m\u001b[38;5;132;01m%s\u001b[39;00m\u001b[38;5;124m\"\u001b[39m,\n\u001b[0;32m   1099\u001b[0m         val\u001b[38;5;241m.\u001b[39m\u001b[38;5;18m__class__\u001b[39m\u001b[38;5;241m.\u001b[39m\u001b[38;5;18m__name__\u001b[39m,\n\u001b[1;32m   (...)\u001b[0m\n\u001b[0;32m   1102\u001b[0m         \u001b[38;5;28mstr\u001b[39m(data),\n\u001b[0;32m   1103\u001b[0m     )\n\u001b[0;32m   1104\u001b[0m \u001b[38;5;28;01mtry\u001b[39;00m:\n\u001b[1;32m-> 1105\u001b[0m     val\u001b[38;5;241m.\u001b[39mconstruct(data)\n\u001b[0;32m   1106\u001b[0m \u001b[38;5;28;01mexcept\u001b[39;00m:\n\u001b[0;32m   1107\u001b[0m     err \u001b[38;5;241m=\u001b[39m sys\u001b[38;5;241m.\u001b[39mexc_info()[\u001b[38;5;241m1\u001b[39m]\n",
      "File \u001b[1;32md:\\Software\\miniconda\\envs\\reaktoro-pse-dev\\Lib\\site-packages\\pyomo\\core\\base\\block.py:2137\u001b[0m, in \u001b[0;36mBlock.construct\u001b[1;34m(self, data)\u001b[0m\n\u001b[0;32m   2132\u001b[0m     \u001b[38;5;28;01mif\u001b[39;00m \u001b[38;5;28mself\u001b[39m\u001b[38;5;241m.\u001b[39mindex_set()\u001b[38;5;241m.\u001b[39misfinite() \u001b[38;5;129;01mand\u001b[39;00m (\n\u001b[0;32m   2133\u001b[0m         \u001b[38;5;28mself\u001b[39m\u001b[38;5;241m.\u001b[39m_dense \u001b[38;5;129;01mor\u001b[39;00m \u001b[38;5;28mself\u001b[39m\u001b[38;5;241m.\u001b[39m_rule \u001b[38;5;129;01mis\u001b[39;00m \u001b[38;5;129;01mnot\u001b[39;00m \u001b[38;5;28;01mNone\u001b[39;00m\n\u001b[0;32m   2134\u001b[0m     ):\n\u001b[0;32m   2135\u001b[0m         \u001b[38;5;28;01mfor\u001b[39;00m _idx \u001b[38;5;129;01min\u001b[39;00m \u001b[38;5;28mself\u001b[39m\u001b[38;5;241m.\u001b[39mindex_set():\n\u001b[0;32m   2136\u001b[0m             \u001b[38;5;66;03m# Trigger population & call the rule\u001b[39;00m\n\u001b[1;32m-> 2137\u001b[0m             \u001b[38;5;28mself\u001b[39m\u001b[38;5;241m.\u001b[39m_getitem_when_not_present(_idx)\n\u001b[0;32m   2138\u001b[0m \u001b[38;5;28;01melse\u001b[39;00m:\n\u001b[0;32m   2139\u001b[0m     \u001b[38;5;66;03m# We must check that any pre-existing components are\u001b[39;00m\n\u001b[0;32m   2140\u001b[0m     \u001b[38;5;66;03m# constructed.  This catches the case where someone is\u001b[39;00m\n\u001b[0;32m   2141\u001b[0m     \u001b[38;5;66;03m# building a Concrete model by building (potentially\u001b[39;00m\n\u001b[0;32m   2142\u001b[0m     \u001b[38;5;66;03m# pseudo-abstract) sub-blocks and then adding them to a\u001b[39;00m\n\u001b[0;32m   2143\u001b[0m     \u001b[38;5;66;03m# Concrete model block.\u001b[39;00m\n\u001b[0;32m   2144\u001b[0m     _idx \u001b[38;5;241m=\u001b[39m \u001b[38;5;28mnext\u001b[39m(\u001b[38;5;28miter\u001b[39m(UnindexedComponent_set))\n",
      "File \u001b[1;32md:\\Software\\miniconda\\envs\\reaktoro-pse-dev\\Lib\\site-packages\\pyomo\\core\\base\\block.py:2076\u001b[0m, in \u001b[0;36mBlock._getitem_when_not_present\u001b[1;34m(self, idx)\u001b[0m\n\u001b[0;32m   2073\u001b[0m     data \u001b[38;5;241m=\u001b[39m \u001b[38;5;28;01mNone\u001b[39;00m\n\u001b[0;32m   2075\u001b[0m \u001b[38;5;28;01mtry\u001b[39;00m:\n\u001b[1;32m-> 2076\u001b[0m     obj \u001b[38;5;241m=\u001b[39m \u001b[38;5;28mself\u001b[39m\u001b[38;5;241m.\u001b[39m_rule(_block, idx)\n\u001b[0;32m   2077\u001b[0m     \u001b[38;5;66;03m# If the user returns a block, transfer over everything\u001b[39;00m\n\u001b[0;32m   2078\u001b[0m     \u001b[38;5;66;03m# they defined into the empty one we created.  We do\u001b[39;00m\n\u001b[0;32m   2079\u001b[0m     \u001b[38;5;66;03m# this inside the try block so that any abstract\u001b[39;00m\n\u001b[0;32m   2080\u001b[0m     \u001b[38;5;66;03m# components declared by the rule have the opportunity\u001b[39;00m\n\u001b[0;32m   2081\u001b[0m     \u001b[38;5;66;03m# to be initialized with data from\u001b[39;00m\n\u001b[0;32m   2082\u001b[0m     \u001b[38;5;66;03m# _BlockConstruction.data as they are transferred over.\u001b[39;00m\n\u001b[0;32m   2083\u001b[0m     \u001b[38;5;28;01mif\u001b[39;00m obj \u001b[38;5;129;01mis\u001b[39;00m \u001b[38;5;129;01mnot\u001b[39;00m _block \u001b[38;5;129;01mand\u001b[39;00m \u001b[38;5;28misinstance\u001b[39m(obj, BlockData):\n",
      "File \u001b[1;32md:\\Software\\miniconda\\envs\\reaktoro-pse-dev\\Lib\\site-packages\\pyomo\\core\\base\\initializer.py:349\u001b[0m, in \u001b[0;36mIndexedCallInitializer.__call__\u001b[1;34m(self, parent, idx)\u001b[0m\n\u001b[0;32m    347\u001b[0m     \u001b[38;5;28;01mreturn\u001b[39;00m \u001b[38;5;28mself\u001b[39m\u001b[38;5;241m.\u001b[39m_fcn(parent, \u001b[38;5;241m*\u001b[39midx)\n\u001b[0;32m    348\u001b[0m \u001b[38;5;28;01melse\u001b[39;00m:\n\u001b[1;32m--> 349\u001b[0m     \u001b[38;5;28;01mreturn\u001b[39;00m \u001b[38;5;28mself\u001b[39m\u001b[38;5;241m.\u001b[39m_fcn(parent, idx)\n",
      "File \u001b[1;32md:\\Software\\miniconda\\envs\\reaktoro-pse-dev\\Lib\\site-packages\\idaes\\core\\base\\process_block.py:41\u001b[0m, in \u001b[0;36m_rule_default\u001b[1;34m(b, *args)\u001b[0m\n\u001b[0;32m     35\u001b[0m \u001b[38;5;250m\u001b[39m\u001b[38;5;124;03m\"\"\"\u001b[39;00m\n\u001b[0;32m     36\u001b[0m \u001b[38;5;124;03mDefault rule for ProcessBlock, which calls build(). A different rule can\u001b[39;00m\n\u001b[0;32m     37\u001b[0m \u001b[38;5;124;03mbe specified to add additional build steps, or to not call build at all\u001b[39;00m\n\u001b[0;32m     38\u001b[0m \u001b[38;5;124;03musing the normal rule argument to ProcessBlock init.\u001b[39;00m\n\u001b[0;32m     39\u001b[0m \u001b[38;5;124;03m\"\"\"\u001b[39;00m\n\u001b[0;32m     40\u001b[0m \u001b[38;5;28;01mtry\u001b[39;00m:\n\u001b[1;32m---> 41\u001b[0m     b\u001b[38;5;241m.\u001b[39mbuild()\n\u001b[0;32m     42\u001b[0m \u001b[38;5;28;01mexcept\u001b[39;00m \u001b[38;5;167;01mException\u001b[39;00m:\n\u001b[0;32m     43\u001b[0m     logging\u001b[38;5;241m.\u001b[39mgetLogger(\u001b[38;5;18m__name__\u001b[39m)\u001b[38;5;241m.\u001b[39mexception(\u001b[38;5;124mf\u001b[39m\u001b[38;5;124m\"\u001b[39m\u001b[38;5;124mFailure in build: \u001b[39m\u001b[38;5;132;01m{\u001b[39;00mb\u001b[38;5;132;01m}\u001b[39;00m\u001b[38;5;124m\"\u001b[39m)\n",
      "File \u001b[1;32mD:\\github\\reaktoro-pse\\src\\reaktoro_pse\\reaktoro_block.py:237\u001b[0m, in \u001b[0;36mReaktoroBlockData.build\u001b[1;34m(self)\u001b[0m\n\u001b[0;32m    236\u001b[0m \u001b[38;5;28;01mdef\u001b[39;00m \u001b[38;5;21mbuild\u001b[39m(\u001b[38;5;28mself\u001b[39m):\n\u001b[1;32m--> 237\u001b[0m     \u001b[38;5;28msuper\u001b[39m()\u001b[38;5;241m.\u001b[39mbuild()\n\u001b[0;32m    238\u001b[0m \u001b[38;5;250m    \u001b[39m\u001b[38;5;124;03m\"\"\" configure state\"\"\"\u001b[39;00m\n\u001b[0;32m    239\u001b[0m     \u001b[38;5;28;01mif\u001b[39;00m \u001b[38;5;28mself\u001b[39m\u001b[38;5;241m.\u001b[39mconfig\u001b[38;5;241m.\u001b[39mbuild_speciation_block:\n",
      "File \u001b[1;32md:\\Software\\miniconda\\envs\\reaktoro-pse-dev\\Lib\\site-packages\\idaes\\core\\base\\process_base.py:129\u001b[0m, in \u001b[0;36mProcessBlockData.build\u001b[1;34m(self)\u001b[0m\n\u001b[0;32m    109\u001b[0m \u001b[38;5;28;01mdef\u001b[39;00m \u001b[38;5;21mbuild\u001b[39m(\u001b[38;5;28mself\u001b[39m):\n\u001b[0;32m    110\u001b[0m \u001b[38;5;250m    \u001b[39m\u001b[38;5;124;03m\"\"\"\u001b[39;00m\n\u001b[0;32m    111\u001b[0m \u001b[38;5;124;03m    The build method is called by the default ProcessBlock rule.  If a rule\u001b[39;00m\n\u001b[0;32m    112\u001b[0m \u001b[38;5;124;03m    is specified other than the default it is important to call\u001b[39;00m\n\u001b[1;32m   (...)\u001b[0m\n\u001b[0;32m    127\u001b[0m \u001b[38;5;124;03m        None\u001b[39;00m\n\u001b[0;32m    128\u001b[0m \u001b[38;5;124;03m    \"\"\"\u001b[39;00m\n\u001b[1;32m--> 129\u001b[0m     \u001b[38;5;28mself\u001b[39m\u001b[38;5;241m.\u001b[39m_get_config_args()\n\u001b[0;32m    131\u001b[0m     \u001b[38;5;66;03m# Add initialization order list, and populate with current model\u001b[39;00m\n\u001b[0;32m    132\u001b[0m     \u001b[38;5;28mself\u001b[39m\u001b[38;5;241m.\u001b[39minitialization_order \u001b[38;5;241m=\u001b[39m [\u001b[38;5;28mself\u001b[39m]\n",
      "File \u001b[1;32md:\\Software\\miniconda\\envs\\reaktoro-pse-dev\\Lib\\site-packages\\idaes\\core\\base\\process_base.py:250\u001b[0m, in \u001b[0;36mProcessBlockData._get_config_args\u001b[1;34m(self)\u001b[0m\n\u001b[0;32m    248\u001b[0m \u001b[38;5;28;01melse\u001b[39;00m:\n\u001b[0;32m    249\u001b[0m     kwargs \u001b[38;5;241m=\u001b[39m \u001b[38;5;28mself\u001b[39m\u001b[38;5;241m.\u001b[39mparent_component()\u001b[38;5;241m.\u001b[39m_block_data_config_default\n\u001b[1;32m--> 250\u001b[0m \u001b[38;5;28mself\u001b[39m\u001b[38;5;241m.\u001b[39mconfig \u001b[38;5;241m=\u001b[39m \u001b[38;5;28mself\u001b[39m\u001b[38;5;241m.\u001b[39mCONFIG(kwargs)\n",
      "File \u001b[1;32md:\\Software\\miniconda\\envs\\reaktoro-pse-dev\\Lib\\site-packages\\pyomo\\common\\config.py:1789\u001b[0m, in \u001b[0;36mConfigBase.__call__\u001b[1;34m(self, value, default, domain, description, doc, visibility, implicit, implicit_domain, preserve_implicit)\u001b[0m\n\u001b[0;32m   1787\u001b[0m \u001b[38;5;66;03m# ... and set the value, if appropriate\u001b[39;00m\n\u001b[0;32m   1788\u001b[0m \u001b[38;5;28;01mif\u001b[39;00m value \u001b[38;5;129;01mis\u001b[39;00m \u001b[38;5;129;01mnot\u001b[39;00m NOTSET:\n\u001b[1;32m-> 1789\u001b[0m     ans\u001b[38;5;241m.\u001b[39mset_value(value)\n\u001b[0;32m   1790\u001b[0m \u001b[38;5;28;01mreturn\u001b[39;00m ans\n",
      "File \u001b[1;32md:\\Software\\miniconda\\envs\\reaktoro-pse-dev\\Lib\\site-packages\\pyomo\\common\\config.py:2738\u001b[0m, in \u001b[0;36mConfigDict.set_value\u001b[1;34m(self, value, skip_implicit)\u001b[0m\n\u001b[0;32m   2736\u001b[0m \u001b[38;5;28;01mfor\u001b[39;00m key \u001b[38;5;129;01min\u001b[39;00m \u001b[38;5;28mself\u001b[39m\u001b[38;5;241m.\u001b[39m_data:\n\u001b[0;32m   2737\u001b[0m     \u001b[38;5;28;01mif\u001b[39;00m key \u001b[38;5;129;01min\u001b[39;00m _decl_map:\n\u001b[1;32m-> 2738\u001b[0m         \u001b[38;5;28mself\u001b[39m[key] \u001b[38;5;241m=\u001b[39m value[_decl_map[key]]\n\u001b[0;32m   2739\u001b[0m \u001b[38;5;66;03m# implicit data is declared at the end (in sorted order)\u001b[39;00m\n\u001b[0;32m   2740\u001b[0m \u001b[38;5;28;01mfor\u001b[39;00m key \u001b[38;5;129;01min\u001b[39;00m \u001b[38;5;28msorted\u001b[39m(_implicit):\n",
      "File \u001b[1;32md:\\Software\\miniconda\\envs\\reaktoro-pse-dev\\Lib\\site-packages\\pyomo\\common\\config.py:2552\u001b[0m, in \u001b[0;36mConfigDict.__setitem__\u001b[1;34m(self, key, val)\u001b[0m\n\u001b[0;32m   2550\u001b[0m     \u001b[38;5;28mself\u001b[39m\u001b[38;5;241m.\u001b[39madd(key, val)\n\u001b[0;32m   2551\u001b[0m \u001b[38;5;28;01melse\u001b[39;00m:\n\u001b[1;32m-> 2552\u001b[0m     \u001b[38;5;28mself\u001b[39m\u001b[38;5;241m.\u001b[39m_data[_key]\u001b[38;5;241m.\u001b[39mset_value(val)\n",
      "File \u001b[1;32md:\\Software\\miniconda\\envs\\reaktoro-pse-dev\\Lib\\site-packages\\pyomo\\common\\config.py:2722\u001b[0m, in \u001b[0;36mConfigDict.set_value\u001b[1;34m(self, value, skip_implicit)\u001b[0m\n\u001b[0;32m   2720\u001b[0m             _implicit\u001b[38;5;241m.\u001b[39mappend(key)\n\u001b[0;32m   2721\u001b[0m         \u001b[38;5;28;01melse\u001b[39;00m:\n\u001b[1;32m-> 2722\u001b[0m             \u001b[38;5;28;01mraise\u001b[39;00m \u001b[38;5;167;01mValueError\u001b[39;00m(\n\u001b[0;32m   2723\u001b[0m                 \u001b[38;5;124m\"\u001b[39m\u001b[38;5;124mkey \u001b[39m\u001b[38;5;124m'\u001b[39m\u001b[38;5;132;01m%s\u001b[39;00m\u001b[38;5;124m'\u001b[39m\u001b[38;5;124m not defined for ConfigDict \u001b[39m\u001b[38;5;124m'\u001b[39m\u001b[38;5;132;01m%s\u001b[39;00m\u001b[38;5;124m'\u001b[39m\u001b[38;5;124m and \u001b[39m\u001b[38;5;124m\"\u001b[39m\n\u001b[0;32m   2724\u001b[0m                 \u001b[38;5;124m\"\u001b[39m\u001b[38;5;124mimplicit (undefined) keys are not allowed\u001b[39m\u001b[38;5;124m\"\u001b[39m\n\u001b[0;32m   2725\u001b[0m                 \u001b[38;5;241m%\u001b[39m (key, \u001b[38;5;28mself\u001b[39m\u001b[38;5;241m.\u001b[39mname(\u001b[38;5;28;01mTrue\u001b[39;00m))\n\u001b[0;32m   2726\u001b[0m             )\n\u001b[0;32m   2728\u001b[0m \u001b[38;5;66;03m# If the set_value fails part-way through the new values, we\u001b[39;00m\n\u001b[0;32m   2729\u001b[0m \u001b[38;5;66;03m# want to restore a deterministic state.  That is, either\u001b[39;00m\n\u001b[0;32m   2730\u001b[0m \u001b[38;5;66;03m# set_value succeeds completely, or else nothing happens.\u001b[39;00m\n\u001b[0;32m   2731\u001b[0m _old_data \u001b[38;5;241m=\u001b[39m \u001b[38;5;28mself\u001b[39m\u001b[38;5;241m.\u001b[39mvalue(\u001b[38;5;28;01mFalse\u001b[39;00m)\n",
      "\u001b[1;31mValueError\u001b[0m: key 'aqueous_solvent_specie' not defined for ConfigDict 'aqueous_phase' and implicit (undefined) keys are not allowed"
     ]
    }
   ],
   "source": [
    "m.fs.eq_ro_chem_props = ReaktoroBlock(\n",
    "    indexes,\n",
    "    aqueous_phase={\n",
    "        \"composition\": m.fs.RO.species_mass_flow,  # This is the spices mass flow\n",
    "        \"convert_to_rkt_species\": True,  # We can use default converter as its defined for default database (Phreeqc and pitzer)\n",
    "        \"activity_model\": reaktoro.ActivityModelPitzer(),  # Can provide a string, or Reaktoro initialized class\n",
    "        \"fixed_solvent_specie\": \"H2O\",  # We need to define our aqueous solvent as we have to speciate the block\n",
    "    },\n",
    "    system_state={\n",
    "        \"temperature\": m.fs.feed.properties[0].temperature,\n",
    "        \"temperature_indexed\": False,\n",
    "        \"pressure\": m.fs.ro_pressure,\n",
    "        \"pH\": m.fs.feed.reaktoro_adjusted_pH,\n",
    "        \"pH_indexed\": False,  # we are not providing unique pH at each node, so lets disable indexing for it\n",
    "    },\n",
    "    outputs=m.fs.RO.indexed_outputs,  # outputs we desired\n",
    "    database=\"PhreeqcDatabase\",  # Can provide a string, or Reaktoro initialized class reaktor.PhreeqcDatabase()\n",
    "    database_file=\"pitzer.dat\",  # needs to be a string that names the database file or points to its location\n",
    "    dissolve_species_in_reaktoro=True,  # This will sum up all species into elements in Reaktoro directly, if set to false, it will build Pyomo constraints instead\n",
    "    assert_charge_neutrality=False,  # This is True by Default, but here we actually want to adjust the input speciation till the charge is zero\n",
    "    build_speciation_block=False,\n",
    ")"
   ]
  },
  {
   "cell_type": "markdown",
   "metadata": {},
   "source": [
    "Configure RO defaults and scale the model"
   ]
  },
  {
   "cell_type": "code",
   "execution_count": null,
   "metadata": {},
   "outputs": [
    {
     "name": "stdout",
     "output_type": "stream",
     "text": [
      "2024-09-01 01:28:41 [WARNING] idaes.core.util.scaling: Missing scaling factor for fs.RO.feed_side.area\n"
     ]
    }
   ],
   "source": [
    "m.fs.feed.properties[0].pressure_osm_phase[...]\n",
    "# define pump defaults\n",
    "m.fs.pump.efficiency_pump[0].fix(0.75)\n",
    "# scale work and pressures for the pump\n",
    "set_scaling_factor(m.fs.pump.control_volume.work, 1e-4)\n",
    "set_scaling_factor(m.fs.pump.control_volume.properties_out[0].pressure, 1e-5)\n",
    "set_scaling_factor(m.fs.pump.control_volume.properties_in[0].pressure, 1e-5)\n",
    "\n",
    "# define RO default values for initialization\n",
    "# we opt to specify stage area, and inlet velocity\n",
    "# unfixing width and area\n",
    "# We also apply variable scaling as we set up each default parameter\n",
    "\n",
    "m.fs.RO.feed_side.velocity[0, 0].fix(0.1)\n",
    "m.fs.RO.area.fix(100)\n",
    "set_scaling_factor(m.fs.RO.area, 1 / 50)\n",
    "m.fs.RO.length.unfix()\n",
    "set_scaling_factor(m.fs.RO.length, 0.1)\n",
    "m.fs.RO.width.unfix()\n",
    "set_scaling_factor(m.fs.RO.width, 0.1)\n",
    "\n",
    "# we need to specify RO permeate pressure\n",
    "m.fs.RO.permeate.pressure[0].fix(101325)\n",
    "# we need to specify default values for default mass transport\n",
    "# and friction factor correlations\n",
    "m.fs.RO.feed_side.channel_height.fix(1e-3)\n",
    "m.fs.RO.feed_side.spacer_porosity.fix(0.9)\n",
    "\n",
    "# Specify default A and B values, these are defined as m/s/Pa and m/s, respectively.\n",
    "m.fs.RO.A_comp[0, \"H2O\"].fix(3 / (3600 * 1000 * 1e5))\n",
    "m.fs.RO.B_comp[0, \"NaCl\"].fix(0.15 / (3600 * 1000))\n",
    "\n",
    "# calculate all the scaling factors\n",
    "calculate_scaling_factors(m)"
   ]
  },
  {
   "cell_type": "markdown",
   "metadata": {},
   "source": [
    "Initialize RO model and pump"
   ]
  },
  {
   "cell_type": "code",
   "execution_count": null,
   "metadata": {},
   "outputs": [
    {
     "name": "stdout",
     "output_type": "stream",
     "text": [
      "Osmotic pressure is 26.392737868882175 bar\n",
      "2024-09-01 01:28:41 [INFO] idaes.init.fs.pump.control_volume: Initialization Complete\n",
      "2024-09-01 01:28:41 [INFO] idaes.init.fs.pump: Initialization Complete: optimal - Optimal Solution Found\n",
      "2024-09-01 01:28:42 [INFO] idaes.init.fs.RO.feed_side: Initialization Complete\n",
      "2024-09-01 01:28:44 [INFO] idaes.watertap.core.util.initialization: variable fs.RO.feed_side.material_flow_dx[0.0,0.0,Liq,H2O] has no initial value: setting to 0.0\n",
      "2024-09-01 01:28:44 [INFO] idaes.watertap.core.util.initialization: variable fs.RO.feed_side.material_flow_dx[0.0,0.0,Liq,NaCl] has no initial value: setting to 0.0\n",
      "2024-09-01 01:28:44 [INFO] idaes.watertap.core.util.initialization: variable fs.RO.feed_side.material_flow_dx[0.0,0.1,Liq,H2O] has no initial value: setting to 0.0\n",
      "2024-09-01 01:28:44 [INFO] idaes.watertap.core.util.initialization: variable fs.RO.feed_side.material_flow_dx[0.0,0.1,Liq,NaCl] has no initial value: setting to 0.0\n",
      "2024-09-01 01:28:44 [INFO] idaes.watertap.core.util.initialization: variable fs.RO.feed_side.material_flow_dx[0.0,0.2,Liq,H2O] has no initial value: setting to 0.0\n",
      "2024-09-01 01:28:44 [INFO] idaes.watertap.core.util.initialization: variable fs.RO.feed_side.material_flow_dx[0.0,0.2,Liq,NaCl] has no initial value: setting to 0.0\n",
      "2024-09-01 01:28:44 [INFO] idaes.watertap.core.util.initialization: variable fs.RO.feed_side.material_flow_dx[0.0,0.3,Liq,H2O] has no initial value: setting to 0.0\n",
      "2024-09-01 01:28:44 [INFO] idaes.watertap.core.util.initialization: variable fs.RO.feed_side.material_flow_dx[0.0,0.3,Liq,NaCl] has no initial value: setting to 0.0\n",
      "2024-09-01 01:28:44 [INFO] idaes.watertap.core.util.initialization: variable fs.RO.feed_side.material_flow_dx[0.0,0.4,Liq,H2O] has no initial value: setting to 0.0\n",
      "2024-09-01 01:28:44 [INFO] idaes.watertap.core.util.initialization: variable fs.RO.feed_side.material_flow_dx[0.0,0.4,Liq,NaCl] has no initial value: setting to 0.0\n",
      "2024-09-01 01:28:44 [INFO] idaes.watertap.core.util.initialization: variable fs.RO.feed_side.material_flow_dx[0.0,0.5,Liq,H2O] has no initial value: setting to 0.0\n",
      "2024-09-01 01:28:44 [INFO] idaes.watertap.core.util.initialization: variable fs.RO.feed_side.material_flow_dx[0.0,0.5,Liq,NaCl] has no initial value: setting to 0.0\n",
      "2024-09-01 01:28:44 [INFO] idaes.watertap.core.util.initialization: variable fs.RO.feed_side.material_flow_dx[0.0,0.6,Liq,H2O] has no initial value: setting to 0.0\n",
      "2024-09-01 01:28:44 [INFO] idaes.watertap.core.util.initialization: variable fs.RO.feed_side.material_flow_dx[0.0,0.6,Liq,NaCl] has no initial value: setting to 0.0\n",
      "2024-09-01 01:28:44 [INFO] idaes.watertap.core.util.initialization: variable fs.RO.feed_side.material_flow_dx[0.0,0.7,Liq,H2O] has no initial value: setting to 0.0\n",
      "2024-09-01 01:28:44 [INFO] idaes.watertap.core.util.initialization: variable fs.RO.feed_side.material_flow_dx[0.0,0.7,Liq,NaCl] has no initial value: setting to 0.0\n",
      "2024-09-01 01:28:44 [INFO] idaes.watertap.core.util.initialization: variable fs.RO.feed_side.material_flow_dx[0.0,0.8,Liq,H2O] has no initial value: setting to 0.0\n",
      "2024-09-01 01:28:44 [INFO] idaes.watertap.core.util.initialization: variable fs.RO.feed_side.material_flow_dx[0.0,0.8,Liq,NaCl] has no initial value: setting to 0.0\n",
      "2024-09-01 01:28:44 [INFO] idaes.watertap.core.util.initialization: variable fs.RO.feed_side.material_flow_dx[0.0,0.9,Liq,H2O] has no initial value: setting to 0.0\n",
      "2024-09-01 01:28:44 [INFO] idaes.watertap.core.util.initialization: variable fs.RO.feed_side.material_flow_dx[0.0,0.9,Liq,NaCl] has no initial value: setting to 0.0\n",
      "2024-09-01 01:28:44 [INFO] idaes.watertap.core.util.initialization: variable fs.RO.feed_side.material_flow_dx[0.0,1.0,Liq,H2O] has no initial value: setting to 0.0\n",
      "2024-09-01 01:28:44 [INFO] idaes.watertap.core.util.initialization: variable fs.RO.feed_side.material_flow_dx[0.0,1.0,Liq,NaCl] has no initial value: setting to 0.0\n",
      "2024-09-01 01:28:44 [INFO] idaes.watertap.core.util.initialization: variable fs.RO.feed_side.pressure_dx[0.0,0.0] has no initial value: setting to 0.0\n",
      "2024-09-01 01:28:44 [INFO] idaes.watertap.core.util.initialization: variable fs.RO.feed_side.pressure_dx[0.0,0.1] has no initial value: setting to 0.0\n",
      "2024-09-01 01:28:44 [INFO] idaes.watertap.core.util.initialization: variable fs.RO.feed_side.pressure_dx[0.0,0.2] has no initial value: setting to 0.0\n",
      "2024-09-01 01:28:44 [INFO] idaes.watertap.core.util.initialization: variable fs.RO.feed_side.pressure_dx[0.0,0.3] has no initial value: setting to 0.0\n",
      "2024-09-01 01:28:44 [INFO] idaes.watertap.core.util.initialization: variable fs.RO.feed_side.pressure_dx[0.0,0.4] has no initial value: setting to 0.0\n",
      "2024-09-01 01:28:44 [INFO] idaes.watertap.core.util.initialization: variable fs.RO.feed_side.pressure_dx[0.0,0.5] has no initial value: setting to 0.0\n",
      "2024-09-01 01:28:44 [INFO] idaes.watertap.core.util.initialization: variable fs.RO.feed_side.pressure_dx[0.0,0.6] has no initial value: setting to 0.0\n",
      "2024-09-01 01:28:44 [INFO] idaes.watertap.core.util.initialization: variable fs.RO.feed_side.pressure_dx[0.0,0.7] has no initial value: setting to 0.0\n",
      "2024-09-01 01:28:44 [INFO] idaes.watertap.core.util.initialization: variable fs.RO.feed_side.pressure_dx[0.0,0.8] has no initial value: setting to 0.0\n",
      "2024-09-01 01:28:44 [INFO] idaes.watertap.core.util.initialization: variable fs.RO.feed_side.pressure_dx[0.0,0.9] has no initial value: setting to 0.0\n",
      "2024-09-01 01:28:44 [INFO] idaes.watertap.core.util.initialization: variable fs.RO.feed_side.pressure_dx[0.0,1.0] has no initial value: setting to 0.0\n",
      "2024-09-01 01:28:45 [INFO] idaes.init.fs.RO: Initialization Complete: optimal - Optimal Solution Found\n"
     ]
    }
   ],
   "source": [
    "propagate_state(m.fs.feed_to_pump)\n",
    "# get osmotic pressure\n",
    "osmotic_feed_pressure = m.fs.feed.properties[0].pressure_osm_phase[\"Liq\"].value\n",
    "print(\"Osmotic pressure is {} bar\".format(osmotic_feed_pressure / 1e5))\n",
    "m.fs.pump.outlet.pressure[0].fix(osmotic_feed_pressure * 1.5)\n",
    "m.fs.pump.initialize(optarg=solver.options)\n",
    "\n",
    "propagate_state(m.fs.pump_to_ro)\n",
    "m.fs.RO.initialize(optarg=solver.options)"
   ]
  },
  {
   "cell_type": "markdown",
   "metadata": {},
   "source": [
    "Initialize water removal and deactivate RO osmotic pressure constraints"
   ]
  },
  {
   "cell_type": "code",
   "execution_count": null,
   "metadata": {},
   "outputs": [],
   "source": [
    "for (idx, ion), obj in m.fs.RO.species_mass_flow.items():\n",
    "    calculate_variable_from_constraint(\n",
    "        m.fs.RO.species_mass_flow[idx, ion],\n",
    "        m.fs.eq_ro_interphase_flow_mass_comp[idx, ion],\n",
    "    )\n",
    "    sf = 1 / m.fs.feed.species_mass_flow[ion].value\n",
    "    set_scaling_factor(m.fs.RO.species_mass_flow[idx, ion], sf)\n",
    "    constraint_scaling_transform(m.fs.eq_ro_interphase_flow_mass_comp[idx, ion], sf)\n",
    "    m.fs.RO.feed_side.properties_interface[0.0, idx].eq_pressure_osm_phase[\n",
    "        \"Liq\"\n",
    "    ].deactivate()"
   ]
  },
  {
   "cell_type": "markdown",
   "metadata": {},
   "source": [
    "Initialize all the ReaktoroBlocks on RO model, we have to iterate over them as they are indexed blocks"
   ]
  },
  {
   "cell_type": "code",
   "execution_count": null,
   "metadata": {},
   "outputs": [
    {
     "name": "stdout",
     "output_type": "stream",
     "text": [
      "2024-09-01 01:28:45 [INFO] idaes.reaktoro_pse.core.reaktoro_state: Equilibrated successfully\n",
      "2024-09-01 01:28:45 [INFO] idaes.reaktoro_pse.core.reaktoro_block_builder: Initialized rkt block\n",
      "2024-09-01 01:28:45 [INFO] idaes.reaktoro_pse.core.reaktoro_state: Equilibrated successfully\n",
      "2024-09-01 01:28:45 [INFO] idaes.reaktoro_pse.core.reaktoro_block_builder: Initialized rkt block\n",
      "2024-09-01 01:28:45 [INFO] idaes.reaktoro_pse.core.reaktoro_state: Equilibrated successfully\n",
      "2024-09-01 01:28:45 [INFO] idaes.reaktoro_pse.core.reaktoro_block_builder: Initialized rkt block\n",
      "2024-09-01 01:28:45 [INFO] idaes.reaktoro_pse.core.reaktoro_state: Equilibrated successfully\n",
      "2024-09-01 01:28:46 [INFO] idaes.reaktoro_pse.core.reaktoro_block_builder: Initialized rkt block\n",
      "2024-09-01 01:28:46 [INFO] idaes.reaktoro_pse.core.reaktoro_state: Equilibrated successfully\n",
      "2024-09-01 01:28:46 [INFO] idaes.reaktoro_pse.core.reaktoro_block_builder: Initialized rkt block\n",
      "2024-09-01 01:28:46 [INFO] idaes.reaktoro_pse.core.reaktoro_state: Equilibrated successfully\n",
      "2024-09-01 01:28:46 [INFO] idaes.reaktoro_pse.core.reaktoro_block_builder: Initialized rkt block\n",
      "2024-09-01 01:28:46 [INFO] idaes.reaktoro_pse.core.reaktoro_state: Equilibrated successfully\n",
      "2024-09-01 01:28:46 [INFO] idaes.reaktoro_pse.core.reaktoro_block_builder: Initialized rkt block\n",
      "2024-09-01 01:28:46 [INFO] idaes.reaktoro_pse.core.reaktoro_state: Equilibrated successfully\n",
      "2024-09-01 01:28:46 [INFO] idaes.reaktoro_pse.core.reaktoro_block_builder: Initialized rkt block\n",
      "2024-09-01 01:28:46 [INFO] idaes.reaktoro_pse.core.reaktoro_state: Equilibrated successfully\n",
      "2024-09-01 01:28:46 [INFO] idaes.reaktoro_pse.core.reaktoro_block_builder: Initialized rkt block\n",
      "2024-09-01 01:28:46 [INFO] idaes.reaktoro_pse.core.reaktoro_state: Equilibrated successfully\n",
      "2024-09-01 01:28:47 [INFO] idaes.reaktoro_pse.core.reaktoro_block_builder: Initialized rkt block\n"
     ]
    }
   ],
   "source": [
    "for blk, obj in m.fs.eq_ro_chem_props.items():\n",
    "    obj.initialize()"
   ]
  },
  {
   "cell_type": "markdown",
   "metadata": {},
   "source": [
    "Lets check our outputs make sense"
   ]
  },
  {
   "cell_type": "code",
   "execution_count": null,
   "metadata": {},
   "outputs": [
    {
     "name": "stdout",
     "output_type": "stream",
     "text": [
      "(0.1, 'osmoticPressure', 'H2O') 2973601.180964411\n",
      "(0.2, 'osmoticPressure', 'H2O') 3053054.09803727\n",
      "(0.3, 'osmoticPressure', 'H2O') 3123936.1952338987\n",
      "(0.4, 'osmoticPressure', 'H2O') 3186803.56041802\n",
      "(0.5, 'osmoticPressure', 'H2O') 3242430.2755015115\n",
      "(0.6, 'osmoticPressure', 'H2O') 3291721.0424117865\n",
      "(0.7, 'osmoticPressure', 'H2O') 3335626.92553258\n",
      "(0.8, 'osmoticPressure', 'H2O') 3375069.3661876675\n",
      "(0.9, 'osmoticPressure', 'H2O') 3410878.111744673\n",
      "(1.0, 'osmoticPressure', 'H2O') 3443750.0800491665\n",
      "(0.1, 'scalingTendency', 'Calcite') 0.3964782514339156\n",
      "(0.1, 'scalingTendency', 'Gypsum') 0.23411219746367307\n",
      "(0.2, 'scalingTendency', 'Calcite') 0.41392827330084336\n",
      "(0.2, 'scalingTendency', 'Gypsum') 0.24044552194316404\n",
      "(0.3, 'scalingTendency', 'Calcite') 0.4297760012348564\n",
      "(0.3, 'scalingTendency', 'Gypsum') 0.24609444606866537\n",
      "(0.4, 'scalingTendency', 'Calcite') 0.4440538697940203\n",
      "(0.4, 'scalingTendency', 'Gypsum') 0.25110456845282436\n",
      "(0.5, 'scalingTendency', 'Calcite') 0.4568623726488965\n",
      "(0.5, 'scalingTendency', 'Gypsum') 0.2555383897950818\n",
      "(0.6, 'scalingTendency', 'Calcite') 0.4683501991129543\n",
      "(0.6, 'scalingTendency', 'Gypsum') 0.2594684429476807\n",
      "(0.7, 'scalingTendency', 'Calcite') 0.4786930981110218\n",
      "(0.7, 'scalingTendency', 'Gypsum') 0.2629706703641568\n",
      "(0.8, 'scalingTendency', 'Calcite') 0.48807353651537744\n",
      "(0.8, 'scalingTendency', 'Gypsum') 0.2661184839588657\n",
      "(0.9, 'scalingTendency', 'Calcite') 0.4966630432168979\n",
      "(0.9, 'scalingTendency', 'Gypsum') 0.2689778095403499\n",
      "(1.0, 'scalingTendency', 'Calcite') 0.5046097106914648\n",
      "(1.0, 'scalingTendency', 'Gypsum') 0.27160404499202384\n",
      "(0.1, 'pH', None) 7.0\n",
      "(0.2, 'pH', None) 7.0\n",
      "(0.3, 'pH', None) 7.0\n",
      "(0.4, 'pH', None) 7.000000000000001\n",
      "(0.5, 'pH', None) 7.0\n",
      "(0.6, 'pH', None) 7.000000000000015\n",
      "(0.7, 'pH', None) 7.0\n",
      "(0.8, 'pH', None) 7.0\n",
      "(0.9, 'pH', None) 7.0\n",
      "(1.0, 'pH', None) 7.0\n"
     ]
    }
   ],
   "source": [
    "for key, obj in m.fs.RO.indexed_outputs.items():\n",
    "    print(key, obj.value)"
   ]
  },
  {
   "cell_type": "markdown",
   "metadata": {},
   "source": [
    "Solve RO model with new osmotic pressure calculation "
   ]
  },
  {
   "cell_type": "code",
   "execution_count": null,
   "metadata": {},
   "outputs": [
    {
     "name": "stdout",
     "output_type": "stream",
     "text": [
      "cyipopt-watertap: cyipopt with user variable scaling and IDAES jacobian constraint scaling\n",
      "This is Ipopt version 3.14.16, running with linear solver MUMPS 5.7.2.\n",
      "\n",
      "Number of nonzeros in equality constraint Jacobian...:     3821\n",
      "Number of nonzeros in inequality constraint Jacobian.:        0\n",
      "Number of nonzeros in Lagrangian Hessian.............:      790\n",
      "\n",
      "Total number of variables............................:     1016\n",
      "                     variables with only lower bounds:      310\n",
      "                variables with lower and upper bounds:      377\n",
      "                     variables with only upper bounds:        0\n",
      "Total number of equality constraints.................:     1016\n",
      "Total number of inequality constraints...............:        0\n",
      "        inequality constraints with only lower bounds:        0\n",
      "   inequality constraints with lower and upper bounds:        0\n",
      "        inequality constraints with only upper bounds:        0\n",
      "\n",
      "iter    objective    inf_pr   inf_du lg(mu)  ||d||  lg(rg) alpha_du alpha_pr  ls\n",
      "   0  0.0000000e+00 8.44e+01 1.00e+00  -1.0 0.00e+00    -  0.00e+00 0.00e+00   0\n",
      "   1  0.0000000e+00 4.97e+00 3.38e+04  -1.0 4.08e+01    -  3.21e-01 1.00e+00h  1\n",
      "   2  0.0000000e+00 3.19e+00 6.93e+03  -1.0 4.00e+01    -  9.23e-01 1.00e+00H  1\n",
      "   3  0.0000000e+00 7.55e-09 0.00e+00  -1.0 3.19e+00    -  9.90e-01 1.00e+00h  1\n",
      "\n",
      "Number of Iterations....: 3\n",
      "\n",
      "                                   (scaled)                 (unscaled)\n",
      "Objective...............:   0.0000000000000000e+00    0.0000000000000000e+00\n",
      "Dual infeasibility......:   0.0000000000000000e+00    0.0000000000000000e+00\n",
      "Constraint violation....:   7.5521400799694050e-09    7.5521400799694050e-09\n",
      "Variable bound violation:   0.0000000000000000e+00    0.0000000000000000e+00\n",
      "Complementarity.........:   0.0000000000000000e+00    0.0000000000000000e+00\n",
      "Overall NLP error.......:   7.5521400799694050e-09    7.5521400799694050e-09\n",
      "\n",
      "\n",
      "Number of objective function evaluations             = 5\n",
      "Number of objective gradient evaluations             = 4\n",
      "Number of equality constraint evaluations            = 5\n",
      "Number of inequality constraint evaluations          = 0\n",
      "Number of equality constraint Jacobian evaluations   = 4\n",
      "Number of inequality constraint Jacobian evaluations = 0\n",
      "Number of Lagrangian Hessian evaluations             = 3\n",
      "Total seconds in IPOPT                               = 2.676\n",
      "\n",
      "EXIT: Optimal Solution Found.\n"
     ]
    }
   ],
   "source": [
    "result = cy_solver.solve(m, tee=True)\n",
    "assert_optimal_termination(result)"
   ]
  },
  {
   "cell_type": "markdown",
   "metadata": {},
   "source": [
    "# Compare osmotic pressure for NaCl vs Reaktoro"
   ]
  },
  {
   "cell_type": "code",
   "execution_count": null,
   "metadata": {},
   "outputs": [
    {
     "data": {
      "image/png": "[encoded data removed]",
      "text/plain": [
       "<Figure size 640x480 with 1 Axes>"
      ]
     },
     "metadata": {},
     "output_type": "display_data"
    }
   ],
   "source": [
    "import matplotlib.pyplot as plt\n",
    "\n",
    "fig, ax = plt.subplots()\n",
    "\n",
    "reaktoro_osm = []\n",
    "sewater_prop_pack_osm = []\n",
    "for idx in indexes:\n",
    "    reaktoro_osm.append(\n",
    "        float(m.fs.RO.indexed_outputs[idx, \"osmoticPressure\", \"H2O\"].value / 1e5)\n",
    "    )\n",
    "    \"\"\" recalc pressure from NaCl prop package\"\"\"\n",
    "    calculate_variable_from_constraint(\n",
    "        m.fs.RO.indexed_outputs[idx, \"osmoticPressure\", \"H2O\"],\n",
    "        m.fs.RO.feed_side.properties_interface[0.0, idx].eq_pressure_osm_phase[\"Liq\"],\n",
    "    )\n",
    "    sewater_prop_pack_osm.append(\n",
    "        float(m.fs.RO.indexed_outputs[idx, \"osmoticPressure\", \"H2O\"].value / 1e5)\n",
    "    )\n",
    "\n",
    "ax.plot(indexes, reaktoro_osm, color=\"red\", label=\"Reaktoro\")\n",
    "ax.plot(indexes, sewater_prop_pack_osm, color=\"black\", label=\"NaCl property pack\")\n",
    "ax.set(xlabel=\"Node position ()\", ylabel=\"Osmotic pressure (Bar)\")\n",
    "plt.legend()\n",
    "plt.show()"
   ]
  },
  {
   "cell_type": "markdown",
   "metadata": {},
   "source": [
    "Check other properties"
   ]
  },
  {
   "cell_type": "code",
   "execution_count": null,
   "metadata": {},
   "outputs": [
    {
     "data": {
      "image/png": "[encoded data removed]",
      "text/plain": [
       "<Figure size 640x480 with 1 Axes>"
      ]
     },
     "metadata": {},
     "output_type": "display_data"
    }
   ],
   "source": [
    "fig, ax = plt.subplots()\n",
    "\n",
    "scaling_calcite = []\n",
    "scaling_gypsum = []\n",
    "for idx in indexes:\n",
    "    scaling_calcite.append(\n",
    "        float(m.fs.RO.indexed_outputs[idx, \"scalingTendency\", \"Calcite\"].value)\n",
    "    )\n",
    "    scaling_gypsum.append(\n",
    "        float(m.fs.RO.indexed_outputs[idx, \"scalingTendency\", \"Gypsum\"].value)\n",
    "    )\n",
    "ax.plot(indexes, scaling_calcite, color=\"red\", label=\"Calcite\")\n",
    "ax.plot(indexes, scaling_gypsum, color=\"black\", label=\"Gypsum\")\n",
    "ax.set(xlabel=\"Node position\", ylabel=\"Scaling tendency\")\n",
    "plt.legend()\n",
    "plt.show()"
   ]
  },
  {
   "cell_type": "markdown",
   "metadata": {},
   "source": [
    "Solve RO for higher recovery. "
   ]
  },
  {
   "cell_type": "code",
   "execution_count": null,
   "metadata": {},
   "outputs": [
    {
     "name": "stdout",
     "output_type": "stream",
     "text": [
      "Current recovery 0.3292943034337129\n",
      "cyipopt-watertap: cyipopt with user variable scaling and IDAES jacobian constraint scaling\n",
      "This is Ipopt version 3.14.16, running with linear solver MUMPS 5.7.2.\n",
      "\n",
      "Number of nonzeros in equality constraint Jacobian...:     3825\n",
      "Number of nonzeros in inequality constraint Jacobian.:        0\n",
      "Number of nonzeros in Lagrangian Hessian.............:      792\n",
      "\n",
      "Total number of variables............................:     1016\n",
      "                     variables with only lower bounds:      310\n",
      "                variables with lower and upper bounds:      378\n",
      "                     variables with only upper bounds:        0\n",
      "Total number of equality constraints.................:     1016\n",
      "Total number of inequality constraints...............:        0\n",
      "        inequality constraints with only lower bounds:        0\n",
      "   inequality constraints with lower and upper bounds:        0\n",
      "        inequality constraints with only upper bounds:        0\n",
      "\n",
      "iter    objective    inf_pr   inf_du lg(mu)  ||d||  lg(rg) alpha_du alpha_pr  ls\n",
      "   0  0.0000000e+00 8.77e+01 1.00e+00  -1.0 0.00e+00    -  0.00e+00 0.00e+00   0\n",
      "   1  0.0000000e+00 2.65e+04 4.68e+05  -1.0 1.67e+02    -  1.07e-01 1.00e+00f  1\n",
      "   2  0.0000000e+00 2.97e+01 1.23e+05  -1.0 2.11e+05    -  6.77e-01 1.00e+00H  1\n",
      "   3  0.0000000e+00 3.16e-09 0.00e+00  -1.0 2.97e+01    -  9.90e-01 1.00e+00h  1\n",
      "\n",
      "Number of Iterations....: 3\n",
      "\n",
      "                                   (scaled)                 (unscaled)\n",
      "Objective...............:   0.0000000000000000e+00    0.0000000000000000e+00\n",
      "Dual infeasibility......:   0.0000000000000000e+00    0.0000000000000000e+00\n",
      "Constraint violation....:   3.1619578066965914e-09    3.1619578066965914e-09\n",
      "Variable bound violation:   0.0000000000000000e+00    0.0000000000000000e+00\n",
      "Complementarity.........:   0.0000000000000000e+00    0.0000000000000000e+00\n",
      "Overall NLP error.......:   3.1619578066965914e-09    3.1619578066965914e-09\n",
      "\n",
      "\n",
      "Number of objective function evaluations             = 6\n",
      "Number of objective gradient evaluations             = 4\n",
      "Number of equality constraint evaluations            = 6\n",
      "Number of inequality constraint evaluations          = 0\n",
      "Number of equality constraint Jacobian evaluations   = 4\n",
      "Number of inequality constraint Jacobian evaluations = 0\n",
      "Number of Lagrangian Hessian evaluations             = 3\n",
      "Total seconds in IPOPT                               = 3.404\n",
      "\n",
      "EXIT: Optimal Solution Found.\n"
     ]
    }
   ],
   "source": [
    "print(\"Current recovery\", m.fs.RO.recovery_vol_phase[0, \"Liq\"].value)\n",
    "m.fs.RO.recovery_vol_phase[0, \"Liq\"].fix(0.50)\n",
    "m.fs.pump.outlet.pressure[0].unfix()\n",
    "result = cy_solver.solve(m, tee=True)\n",
    "assert_optimal_termination(result)"
   ]
  },
  {
   "cell_type": "markdown",
   "metadata": {},
   "source": [
    "Plot comparison at higher recovery"
   ]
  },
  {
   "cell_type": "code",
   "execution_count": null,
   "metadata": {},
   "outputs": [
    {
     "data": {
      "image/png": "[encoded data removed]",
      "text/plain": [
       "<Figure size 640x480 with 1 Axes>"
      ]
     },
     "metadata": {},
     "output_type": "display_data"
    },
    {
     "data": {
      "image/png": "[encoded data removed]",
      "text/plain": [
       "<Figure size 640x480 with 1 Axes>"
      ]
     },
     "metadata": {},
     "output_type": "display_data"
    }
   ],
   "source": [
    "fig, ax = plt.subplots()\n",
    "\n",
    "reaktoro_osm = []\n",
    "sewater_prop_pack_osm = []\n",
    "for idx in indexes:\n",
    "    reaktoro_osm.append(\n",
    "        float(m.fs.RO.indexed_outputs[idx, \"osmoticPressure\", \"H2O\"].value / 1e5)\n",
    "    )\n",
    "    calculate_variable_from_constraint(\n",
    "        m.fs.RO.indexed_outputs[idx, \"osmoticPressure\", \"H2O\"],\n",
    "        m.fs.RO.feed_side.properties_interface[0.0, idx].eq_pressure_osm_phase[\"Liq\"],\n",
    "    )\n",
    "    sewater_prop_pack_osm.append(\n",
    "        float(m.fs.RO.indexed_outputs[idx, \"osmoticPressure\", \"H2O\"].value / 1e5)\n",
    "    )\n",
    "\n",
    "ax.plot(indexes, reaktoro_osm, color=\"red\", label=\"Reaktoro\")\n",
    "ax.plot(indexes, sewater_prop_pack_osm, color=\"black\", label=\"NaCl property pack\")\n",
    "ax.set(xlabel=\"Node position\", ylabel=\"Osmotic pressure (Bar)\")\n",
    "plt.legend()\n",
    "\n",
    "fig, ax = plt.subplots()\n",
    "\n",
    "scaling_calcite = []\n",
    "scaling_gypsum = []\n",
    "for idx in indexes:\n",
    "    scaling_calcite.append(\n",
    "        float(m.fs.RO.indexed_outputs[idx, \"scalingTendency\", \"Calcite\"].value)\n",
    "    )\n",
    "    scaling_gypsum.append(\n",
    "        float(m.fs.RO.indexed_outputs[idx, \"scalingTendency\", \"Gypsum\"].value)\n",
    "    )\n",
    "ax.plot(indexes, scaling_calcite, color=\"red\", label=\"Calcite\")\n",
    "ax.plot(indexes, scaling_gypsum, color=\"black\", label=\"Gypsum\")\n",
    "ax.set(xlabel=\"Node position\", ylabel=\"Scaling tendency\")\n",
    "plt.legend()\n",
    "plt.show()"
   ]
  }
 ],
 "metadata": {
  "kernelspec": {
   "display_name": "reaktoro-pse-dev",
   "language": "python",
   "name": "python3"
  },
  "language_info": {
   "codemirror_mode": {
    "name": "ipython",
    "version": 3
   },
   "file_extension": ".py",
   "mimetype": "text/x-python",
   "name": "python",
   "nbconvert_exporter": "python",
   "pygments_lexer": "ipython3",
   "version": "3.11.9"
  }
 },
 "nbformat": 4,
 "nbformat_minor": 4
}
